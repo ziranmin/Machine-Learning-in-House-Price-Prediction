{
 "cells": [
  {
   "cell_type": "code",
   "execution_count": 1,
   "metadata": {},
   "outputs": [],
   "source": [
    "import pandas as pd\n",
    "import numpy as np\n",
    "import matplotlib.pyplot as plt\n",
    "import seaborn as sns\n",
    "from scipy.stats import norm\n",
    "from scipy import stats\n",
    "import warnings\n",
    "warnings.filterwarnings('ignore')"
   ]
  },
  {
   "cell_type": "code",
   "execution_count": 2,
   "metadata": {},
   "outputs": [],
   "source": [
    "train = pd.read_csv('train_cleaned.csv')"
   ]
  },
  {
   "cell_type": "code",
   "execution_count": 3,
   "metadata": {},
   "outputs": [],
   "source": [
    "x = train.values[:, :-2]\n",
    "y = train.values[:, -2]\n",
    "y = y.reshape((1456,1))"
   ]
  },
  {
   "cell_type": "code",
   "execution_count": 4,
   "metadata": {},
   "outputs": [
    {
     "data": {
      "text/plain": [
       "(1456, 202)"
      ]
     },
     "execution_count": 4,
     "metadata": {},
     "output_type": "execute_result"
    }
   ],
   "source": [
    "x.shape"
   ]
  },
  {
   "cell_type": "code",
   "execution_count": 5,
   "metadata": {},
   "outputs": [
    {
     "data": {
      "text/plain": [
       "(1456, 1)"
      ]
     },
     "execution_count": 5,
     "metadata": {},
     "output_type": "execute_result"
    }
   ],
   "source": [
    "y.shape"
   ]
  },
  {
   "cell_type": "code",
   "execution_count": 6,
   "metadata": {},
   "outputs": [
    {
     "name": "stdout",
     "output_type": "stream",
     "text": [
      "72.35570449472941\n"
     ]
    }
   ],
   "source": [
    "def add_column(X):\n",
    "    ones_and_x = np.insert(X, 0, 1, axis=1)\n",
    "    return ones_and_x\n",
    "\n",
    "def predict(X, theta):\n",
    "    X_prime = add_column(X)\n",
    "    pred = np.dot(X_prime,theta)    \n",
    "    return pred\n",
    "\n",
    "def loss(X, y, theta, lambda_):\n",
    "    m = X.shape[0]\n",
    "    reg_term = np.sum(lambda_*(theta[1:])**2)/(2*m)\n",
    "    X_prime = add_column(X)\n",
    "    pred = predict(X, theta)\n",
    "    m = len(X)\n",
    "    loss = (np.sum((pred - y)**2)) / (2*m) + reg_term\n",
    "    return loss\n",
    "\n",
    "theta_init = np.zeros((203, 1))\n",
    "print(loss(x, y, theta_init, 0.01))"
   ]
  },
  {
   "cell_type": "code",
   "execution_count": 7,
   "metadata": {},
   "outputs": [
    {
     "name": "stdout",
     "output_type": "stream",
     "text": [
      "estimated theta value [3.20673130e-02 8.65256779e-02 3.04282250e-03 2.19782060e-02\n",
      " 4.23211691e-02 4.79709629e-02 3.55662131e-02 1.29115708e-01\n",
      " 2.11650575e-02 4.04514260e-02 5.92351167e-02 9.26384394e-03\n",
      " 1.52377103e-03 3.97263101e-02 1.76049575e-01 2.35275534e-02\n",
      " 4.93066899e-02 3.97890121e-02 4.67565843e-02 4.36346052e-02\n",
      " 1.25762827e-02 2.93254107e-02 6.05437564e-02 3.09704552e-02\n",
      " 5.55228044e-02 3.02962912e-02 5.51708412e-02 2.32393341e-01\n",
      " 8.07743657e-03 2.23126416e-02 2.30580202e-02 1.58797120e-03\n",
      " 2.91460842e-01 1.34822013e-01 2.96558043e-02 3.53312045e-03\n",
      " 6.22081380e-02 6.32803363e-02 7.68007577e-03 6.02259577e-02\n",
      " 7.01175834e-02 5.44969910e-02 6.13615733e-02 3.26407061e-02\n",
      " 1.15269244e-03 4.44327533e-02 1.31167430e-02 2.22963188e-02\n",
      " 2.12244340e-01 7.44800404e-02 1.36785427e-01 9.81240693e-02\n",
      " 2.88606871e-02 1.23922708e-02 1.08419870e-02 1.91133393e-02\n",
      " 2.20255549e-02 2.06752836e-02 7.03274117e-04 1.34840754e-03\n",
      " 9.56368596e-04 2.65030835e-03 2.96720510e-02 1.81526359e-03\n",
      " 2.76934242e-02 1.73124968e-04 3.59442406e-04 2.51832523e-04\n",
      " 5.62048828e-04 3.29720952e-05 1.18441586e-04 1.43239204e-04\n",
      " 3.17480364e-02 2.43460432e-05 2.17245968e-05 1.41938318e-05\n",
      " 2.18855889e-05 5.08248090e-05 7.17578396e-04 8.73633567e-05\n",
      " 2.56017364e-05 2.90075967e-02 3.74939487e-05 6.02905362e-05\n",
      " 1.24855637e-03 2.11659240e-05 1.34137756e-03 4.65107892e-03\n",
      " 2.32968396e-05 4.96660271e-03 2.32352414e-03 5.34009563e-05\n",
      " 5.83872715e-04 1.10322862e-02 4.61800540e-03 6.15331866e-04\n",
      " 7.56293773e-05 1.67918663e-04 6.23063376e-04 2.11659240e-05\n",
      " 1.32887437e-03 4.33966962e-03 2.26075839e-04 4.84010764e-03\n",
      " 2.02600048e-05 3.07892173e-03 1.51472507e-04 5.83604898e-04\n",
      " 1.07761113e-02 4.47747346e-03 8.83336019e-04 1.37035313e-02\n",
      " 1.38653556e-02 9.00388450e-04 1.41366495e-04 6.23996060e-05\n",
      " 1.84923291e-02 4.30384545e-04 1.81218231e-03 2.23731959e-04\n",
      " 9.01646753e-03 1.96835974e-03 3.12473886e-02 4.14524651e-04\n",
      " 1.70210632e-04 4.31682632e-05 1.51779991e-04 3.68597574e-04\n",
      " 1.65729042e-02 1.45934448e-04 2.46602193e-04 8.99891087e-03\n",
      " 9.17228201e-04 1.40487143e-03 9.82479256e-04 1.24448069e-02\n",
      " 1.64922136e-02 1.12611600e-03 7.70846747e-04 2.87402768e-02\n",
      " 2.00980320e-03 9.95250046e-04 8.55686913e-05 2.31637675e-02\n",
      " 1.44191211e-03 3.81272570e-04 2.49614887e-02 5.06930683e-03\n",
      " 9.06085473e-03 2.00204291e-02 2.70283054e-03 3.08960658e-02\n",
      " 5.70406928e-05 1.05972072e-03 1.69867361e-05 4.72184886e-05\n",
      " 3.36660136e-04 1.44550606e-03 5.48007654e-04 3.14046475e-03\n",
      " 1.18837636e-03 2.32318568e-03 1.66218099e-03 8.59899789e-04\n",
      " 3.97984441e-04 1.07940667e-03 4.94375258e-03 2.04521013e-04\n",
      " 1.44238838e-03 7.57529972e-04 1.67034537e-03 2.59131444e-03\n",
      " 5.49376375e-04 1.62189283e-03 1.29044934e-03 1.91140911e-03\n",
      " 5.81387846e-04 8.11429570e-04 2.51223476e-04 2.34771006e-05\n",
      " 2.77885956e-05 1.80551633e-05 2.33809313e-04 1.15819498e-04\n",
      " 1.03606516e-04 2.50920294e-02 2.44141049e-04 6.24791633e-03\n",
      " 1.56370927e-04 3.54875753e-05 1.09073025e-04 3.21892538e-04\n",
      " 4.47207115e-04 2.61890757e-02 2.80365081e-03 9.16041892e-05\n",
      " 4.56085374e-05 2.19026656e-04 1.01867163e-04 1.20517931e-04\n",
      " 2.73382031e-03 7.10213943e-05 2.77119132e-02]\n",
      "resulting loss 0.3419528232132277\n"
     ]
    },
    {
     "data": {
      "image/png": "[encoded data removed]",
      "text/plain": [
       "<Figure size 432x288 with 1 Axes>"
      ]
     },
     "metadata": {},
     "output_type": "display_data"
    }
   ],
   "source": [
    "import scipy.optimize\n",
    "from functools import partial\n",
    "\n",
    "def loss_gradient(X, y, theta, lambda_):\n",
    "    m = X.shape[0]\n",
    "    X_prime = add_column(X)\n",
    "    loss_grad = ((predict(X, theta) - y)*X_prime).mean(axis=0)[:, np.newaxis]\n",
    "    loss_grad_with_reg = loss_grad + (lambda_/m) * theta\n",
    "    loss_grad_with_reg[0] = loss_grad_with_reg[0] - (lambda_/m) * theta[0]\n",
    "    return loss_grad_with_reg\n",
    "    \n",
    "def run_gd(loss, loss_gradient, X, y, theta_init, lr=0.0001, n_iter=100, lambda_ = 3.3):\n",
    "    theta_current = theta_init.copy()\n",
    "    loss_values = []\n",
    "    theta_values = []\n",
    "    \n",
    "    for i in range(n_iter):\n",
    "        loss_value = loss(X, y, theta_current, lambda_)\n",
    "        theta_current -= lr * loss_gradient(X, y, theta_current, lambda_)\n",
    "        loss_values.append(loss_value)\n",
    "        theta_values.append(theta_current)\n",
    "        \n",
    "    return theta_current, loss_values, theta_values\n",
    "\n",
    "result = run_gd(loss, loss_gradient, x, y, theta_init)\n",
    "theta_est, loss_values, theta_values = result\n",
    "\n",
    "print('estimated theta value', theta_est.ravel())\n",
    "print('resulting loss', loss(x, y, theta_est, 3.3))\n",
    "plt.ylabel('loss')\n",
    "plt.xlabel('iter_i')\n",
    "plt.plot(loss_values)\n",
    "plt.show()"
   ]
  },
  {
   "cell_type": "markdown",
   "metadata": {},
   "source": [
    "# Cross Validation, 4 Fold"
   ]
  },
  {
   "cell_type": "code",
   "execution_count": 8,
   "metadata": {},
   "outputs": [],
   "source": [
    "splited_tranining_set_idx = np.load('splited_training_set.npy')"
   ]
  },
  {
   "cell_type": "code",
   "execution_count": 9,
   "metadata": {},
   "outputs": [],
   "source": [
    "K = 4\n",
    "theta_init = np.zeros((203, 1))"
   ]
  },
  {
   "cell_type": "code",
   "execution_count": 10,
   "metadata": {},
   "outputs": [],
   "source": [
    "CV_score = []\n",
    "for i in range(K):\n",
    "    current_train_idx = splited_tranining_set_idx[i][0]\n",
    "    current_test_idx = splited_tranining_set_idx[i][1]\n",
    "    X = x[current_train_idx]\n",
    "    Y = y[current_train_idx]\n",
    "    \n",
    "    result = run_gd(loss, loss_gradient, X, Y, theta_init)\n",
    "    theta_est, loss_values, theta_values = result\n",
    "    \n",
    "    X_ = x[current_test_idx]\n",
    "    Y_ = predict(X_, theta_est)\n",
    "    Y_real = y[current_test_idx]\n",
    "    cuurent_score = np.sqrt(sum((Y_ - Y_real)**2)/len(Y_real))\n",
    "    CV_score += [cuurent_score]"
   ]
  },
  {
   "cell_type": "code",
   "execution_count": 11,
   "metadata": {},
   "outputs": [
    {
     "data": {
      "text/plain": [
       "[array([0.80218712]),\n",
       " array([0.81777952]),\n",
       " array([0.90416349]),\n",
       " array([0.78261328])]"
      ]
     },
     "execution_count": 11,
     "metadata": {},
     "output_type": "execute_result"
    }
   ],
   "source": [
    "CV_score"
   ]
  },
  {
   "cell_type": "code",
   "execution_count": 12,
   "metadata": {},
   "outputs": [
    {
     "data": {
      "text/plain": [
       "0.8266858508316591"
      ]
     },
     "execution_count": 12,
     "metadata": {},
     "output_type": "execute_result"
    }
   ],
   "source": [
    "np.mean(CV_score)"
   ]
  },
  {
   "cell_type": "code",
   "execution_count": null,
   "metadata": {},
   "outputs": [],
   "source": [
    "0.8266858508316"
   ]
  }
 ],
 "metadata": {
  "kernelspec": {
   "display_name": "Python 3",
   "language": "python",
   "name": "python3"
  },
  "language_info": {
   "codemirror_mode": {
    "name": "ipython",
    "version": 3
   },
   "file_extension": ".py",
   "mimetype": "text/x-python",
   "name": "python",
   "nbconvert_exporter": "python",
   "pygments_lexer": "ipython3",
   "version": "3.6.5"
  }
 },
 "nbformat": 4,
 "nbformat_minor": 2
}
