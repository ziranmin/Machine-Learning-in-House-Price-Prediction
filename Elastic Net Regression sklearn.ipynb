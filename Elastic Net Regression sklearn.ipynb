{
 "cells": [
  {
   "cell_type": "code",
   "execution_count": 28,
   "metadata": {},
   "outputs": [],
   "source": [
    "import pandas as pd\n",
    "import numpy as np\n",
    "import matplotlib.pyplot as plt\n",
    "import seaborn as sns\n",
    "from scipy.stats import norm\n",
    "from scipy import stats\n",
    "import warnings\n",
    "warnings.filterwarnings('ignore')"
   ]
  },
  {
   "cell_type": "code",
   "execution_count": 29,
   "metadata": {},
   "outputs": [],
   "source": [
    "from sklearn.linear_model import ElasticNet\n",
    "#from sklearn.cross_validation import train_test_split"
   ]
  },
  {
   "cell_type": "code",
   "execution_count": 30,
   "metadata": {},
   "outputs": [],
   "source": [
    "data = pd.read_csv('train_cleaned.csv')"
   ]
  },
  {
   "cell_type": "code",
   "execution_count": 31,
   "metadata": {},
   "outputs": [],
   "source": [
    "x = data.loc[:,'2ndFlrSF_log':'SaleType_WD']"
   ]
  },
  {
   "cell_type": "code",
   "execution_count": 32,
   "metadata": {},
   "outputs": [],
   "source": [
    "y = data.loc[:,'SalePrice_log':'SalePrice_log']"
   ]
  },
  {
   "cell_type": "code",
   "execution_count": 19,
   "metadata": {},
   "outputs": [],
   "source": [
    "train_x, test_x, train_y, test_y= train_test_split(x,y,test_size=0.2, random_state=0)"
   ]
  },
  {
   "cell_type": "code",
   "execution_count": 20,
   "metadata": {},
   "outputs": [
    {
     "data": {
      "text/plain": [
       "(1456, 202)"
      ]
     },
     "execution_count": 20,
     "metadata": {},
     "output_type": "execute_result"
    }
   ],
   "source": [
    "x.shape"
   ]
  },
  {
   "cell_type": "code",
   "execution_count": 22,
   "metadata": {},
   "outputs": [
    {
     "data": {
      "text/plain": [
       "ElasticNet(alpha=1.005, copy_X=True, fit_intercept=True,\n",
       "      l1_ratio=0.0049751243781094535, max_iter=1000, normalize=False,\n",
       "      positive=False, precompute=False, random_state=None,\n",
       "      selection='cyclic', tol=0.0001, warm_start=False)"
      ]
     },
     "execution_count": 22,
     "metadata": {},
     "output_type": "execute_result"
    }
   ],
   "source": [
    "reg = ElasticNet(alpha=1.005,l1_ratio=0.005/1.005)\n",
    "reg.fit(train_x,train_y)"
   ]
  },
  {
   "cell_type": "code",
   "execution_count": 27,
   "metadata": {},
   "outputs": [
    {
     "data": {
      "text/plain": [
       "0.6946519900549978"
      ]
     },
     "execution_count": 27,
     "metadata": {},
     "output_type": "execute_result"
    }
   ],
   "source": [
    "reg.score(train_x, train_y)"
   ]
  },
  {
   "cell_type": "markdown",
   "metadata": {},
   "source": [
    "# See Coefficients"
   ]
  },
  {
   "cell_type": "code",
   "execution_count": 30,
   "metadata": {},
   "outputs": [
    {
     "data": {
      "text/plain": [
       "array([ 0.01825646,  0.00060063,  0.        ,  0.00209487,  0.00125016,\n",
       "       -0.00819533,  0.017973  ,  0.        ,  0.        , -0.        ,\n",
       "        0.00479815, -0.        , -0.02864191,  0.01177115, -0.00318718,\n",
       "        0.00052772, -0.01553217,  0.000903  , -0.00572794,  0.02687968,\n",
       "        0.01271525,  0.00076947,  0.0253981 ,  0.00356889, -0.01498694,\n",
       "        0.00113314,  0.03377206,  0.00253828, -0.02617017, -0.        ,\n",
       "        0.        ,  0.03532332,  0.01680865, -0.01191935, -0.        ,\n",
       "        0.00335506,  0.0250545 , -0.00361511,  0.        ,  0.02680288,\n",
       "        0.00032826,  0.01147864,  0.00741244,  0.00406148, -0.        ,\n",
       "        0.01203613,  0.        ,  0.02389816,  0.01742288,  0.01998058,\n",
       "        0.03718358, -0.00159498, -0.        , -0.        ,  0.        ,\n",
       "       -0.        , -0.        , -0.        ,  0.        , -0.        ,\n",
       "       -0.        ,  0.00629035, -0.        ,  0.        ,  0.        ,\n",
       "        0.        , -0.        , -0.        , -0.        ,  0.        ,\n",
       "       -0.        ,  0.        ,  0.        ,  0.        , -0.        ,\n",
       "       -0.        , -0.        , -0.        , -0.        , -0.        ,\n",
       "        0.003025  ,  0.        , -0.        ,  0.00275582, -0.        ,\n",
       "        0.        , -0.00448433,  0.        , -0.        ,  0.        ,\n",
       "        0.        ,  0.        ,  0.0051425 , -0.00026989, -0.        ,\n",
       "       -0.        , -0.        ,  0.        , -0.        ,  0.        ,\n",
       "       -0.00210659,  0.        , -0.        ,  0.        ,  0.        ,\n",
       "        0.        ,  0.        ,  0.00516678, -0.        , -0.        ,\n",
       "       -0.01563961,  0.02079043,  0.        , -0.        ,  0.        ,\n",
       "        0.01586925, -0.        ,  0.00095813, -0.        , -0.00778699,\n",
       "       -0.00711934,  0.        ,  0.        , -0.        , -0.        ,\n",
       "        0.        , -0.        ,  0.        , -0.        ,  0.        ,\n",
       "        0.        , -0.        , -0.        , -0.        ,  0.0097582 ,\n",
       "       -0.02420114,  0.        ,  0.        , -0.        ,  0.00069717,\n",
       "       -0.        ,  0.        , -0.00218065,  0.        , -0.        ,\n",
       "        0.01460148, -0.01171393, -0.00048468, -0.        ,  0.00643146,\n",
       "        0.        , -0.        , -0.        ,  0.        ,  0.        ,\n",
       "       -0.        , -0.        ,  0.        , -0.        ,  0.00261991,\n",
       "       -0.00374426, -0.        , -0.00182025, -0.        , -0.        ,\n",
       "       -0.00049463, -0.        ,  0.        ,  0.00217593,  0.00572311,\n",
       "       -0.00169871, -0.        , -0.        ,  0.        ,  0.        ,\n",
       "        0.00070251,  0.        ,  0.        ,  0.        ,  0.        ,\n",
       "       -0.        ,  0.        ,  0.        ,  0.        , -0.00942603,\n",
       "       -0.        ,  0.00983379,  0.        ,  0.        , -0.        ,\n",
       "        0.        , -0.        , -0.0001207 ,  0.00902843,  0.        ,\n",
       "        0.        , -0.        ,  0.        , -0.        ,  0.00905007,\n",
       "       -0.        , -0.00704574])"
      ]
     },
     "execution_count": 30,
     "metadata": {},
     "output_type": "execute_result"
    }
   ],
   "source": [
    "reg.coef_"
   ]
  },
  {
   "cell_type": "code",
   "execution_count": 32,
   "metadata": {},
   "outputs": [
    {
     "data": {
      "text/plain": [
       "array([[11.89138538],\n",
       "       [12.31505142],\n",
       "       [11.77425475],\n",
       "       [12.09832936],\n",
       "       [12.39674177],\n",
       "       [11.83492225],\n",
       "       [11.97660705],\n",
       "       [12.41945221],\n",
       "       [11.51893036],\n",
       "       [11.69494689],\n",
       "       [12.22892316],\n",
       "       [12.20355931],\n",
       "       [11.97668316],\n",
       "       [12.21068121],\n",
       "       [11.92671037],\n",
       "       [12.24520297],\n",
       "       [11.85377325],\n",
       "       [12.06968413],\n",
       "       [11.95223337],\n",
       "       [12.22542597],\n",
       "       [12.05062227],\n",
       "       [11.64157763],\n",
       "       [11.70005345],\n",
       "       [11.92206775],\n",
       "       [12.43934683],\n",
       "       [11.77583088],\n",
       "       [12.06671909],\n",
       "       [11.85591402],\n",
       "       [12.43283307],\n",
       "       [12.00851133],\n",
       "       [12.14619077],\n",
       "       [12.02201876],\n",
       "       [12.2318011 ],\n",
       "       [12.09721713],\n",
       "       [12.17265778],\n",
       "       [11.61937123],\n",
       "       [11.91279005],\n",
       "       [11.71347028],\n",
       "       [11.98223081],\n",
       "       [11.69676411],\n",
       "       [11.59685043],\n",
       "       [11.90476675],\n",
       "       [11.59533419],\n",
       "       [12.39265285],\n",
       "       [12.26644595],\n",
       "       [12.22509486],\n",
       "       [11.65420286],\n",
       "       [11.92889651],\n",
       "       [12.17501641],\n",
       "       [12.09226988],\n",
       "       [11.96613089],\n",
       "       [12.26538354],\n",
       "       [12.54258913],\n",
       "       [12.14861043],\n",
       "       [12.01102168],\n",
       "       [11.7310992 ],\n",
       "       [12.34245816],\n",
       "       [12.09344447],\n",
       "       [11.73472345],\n",
       "       [12.07633232],\n",
       "       [12.11782438],\n",
       "       [12.00011495],\n",
       "       [11.8623333 ],\n",
       "       [12.19182355],\n",
       "       [12.21887517],\n",
       "       [11.99306961],\n",
       "       [11.76876549],\n",
       "       [11.99847148],\n",
       "       [11.71409351],\n",
       "       [12.4029898 ],\n",
       "       [12.13286331],\n",
       "       [12.57987835],\n",
       "       [12.14801574],\n",
       "       [12.03394847],\n",
       "       [11.86297944],\n",
       "       [12.41145322],\n",
       "       [12.09116623],\n",
       "       [11.94946079],\n",
       "       [12.14481742],\n",
       "       [11.75103155],\n",
       "       [12.0016778 ],\n",
       "       [12.0519438 ],\n",
       "       [12.40473442],\n",
       "       [11.90046152],\n",
       "       [12.06826455],\n",
       "       [12.10979023],\n",
       "       [11.77338294],\n",
       "       [11.64423407],\n",
       "       [12.54604691],\n",
       "       [11.8480713 ],\n",
       "       [11.88407647],\n",
       "       [11.73585006],\n",
       "       [12.19185208],\n",
       "       [12.35885649],\n",
       "       [12.14341974],\n",
       "       [12.51728856],\n",
       "       [12.28615483],\n",
       "       [12.52302184],\n",
       "       [11.79704818],\n",
       "       [12.05199629],\n",
       "       [12.10935829],\n",
       "       [11.56535849],\n",
       "       [12.34828917],\n",
       "       [11.70456547],\n",
       "       [11.96617167],\n",
       "       [12.29371352],\n",
       "       [12.47405085],\n",
       "       [11.91118742],\n",
       "       [12.32497575],\n",
       "       [12.05614096],\n",
       "       [11.92231112],\n",
       "       [12.02236032],\n",
       "       [12.0020324 ],\n",
       "       [11.8210842 ],\n",
       "       [12.45703269],\n",
       "       [12.06398931],\n",
       "       [12.23203595],\n",
       "       [11.89783552],\n",
       "       [12.48088781],\n",
       "       [11.98504032],\n",
       "       [11.85225099],\n",
       "       [12.02320896],\n",
       "       [11.83793158],\n",
       "       [12.05600598],\n",
       "       [11.68970914],\n",
       "       [12.38205353],\n",
       "       [12.33645941],\n",
       "       [12.26637142],\n",
       "       [11.92357064],\n",
       "       [12.13279996],\n",
       "       [11.62345966],\n",
       "       [12.32133685],\n",
       "       [12.14967809],\n",
       "       [12.14486756],\n",
       "       [11.7761759 ],\n",
       "       [12.13305709],\n",
       "       [12.43204951],\n",
       "       [11.92534644],\n",
       "       [12.41135703],\n",
       "       [12.19838461],\n",
       "       [11.97033766],\n",
       "       [11.54151074],\n",
       "       [11.93745461],\n",
       "       [11.81193765],\n",
       "       [11.60957354],\n",
       "       [12.3975343 ],\n",
       "       [11.95273669],\n",
       "       [11.99513671],\n",
       "       [11.84079255],\n",
       "       [12.53613162],\n",
       "       [11.80257598],\n",
       "       [12.22456167],\n",
       "       [12.08873974],\n",
       "       [12.44729968],\n",
       "       [11.74606184],\n",
       "       [11.71256266],\n",
       "       [11.46744179],\n",
       "       [12.31439312],\n",
       "       [12.0900035 ],\n",
       "       [12.48629778],\n",
       "       [12.24732404],\n",
       "       [11.70269819],\n",
       "       [12.14139735],\n",
       "       [11.76607191],\n",
       "       [12.26285624],\n",
       "       [11.83289274],\n",
       "       [11.73629723],\n",
       "       [12.00726945],\n",
       "       [12.28456328],\n",
       "       [12.00918935],\n",
       "       [12.41113338],\n",
       "       [12.32076283],\n",
       "       [11.87388562],\n",
       "       [12.34427573],\n",
       "       [12.48762992],\n",
       "       [12.28523272],\n",
       "       [12.28013038],\n",
       "       [12.08609487],\n",
       "       [11.87673154],\n",
       "       [12.31483206],\n",
       "       [11.96670213],\n",
       "       [11.79979625],\n",
       "       [12.03525895],\n",
       "       [12.06481572],\n",
       "       [11.99753752],\n",
       "       [12.27702041],\n",
       "       [11.87760986],\n",
       "       [11.75580685],\n",
       "       [12.36031017],\n",
       "       [11.90392174],\n",
       "       [11.78800695],\n",
       "       [11.79073048],\n",
       "       [12.08335781],\n",
       "       [11.66108198],\n",
       "       [12.33580669],\n",
       "       [12.4360405 ],\n",
       "       [11.70700988],\n",
       "       [12.04210873],\n",
       "       [11.76307715],\n",
       "       [12.05769697],\n",
       "       [12.01675892],\n",
       "       [12.26147203],\n",
       "       [12.516647  ],\n",
       "       [12.32267581],\n",
       "       [12.25111212],\n",
       "       [12.08531832],\n",
       "       [11.75511367],\n",
       "       [12.00539242],\n",
       "       [12.17074082],\n",
       "       [12.10251787],\n",
       "       [11.93870194],\n",
       "       [11.76205678],\n",
       "       [12.19669982],\n",
       "       [12.04938898],\n",
       "       [12.09312649],\n",
       "       [11.76144968],\n",
       "       [12.3145266 ],\n",
       "       [12.34577184],\n",
       "       [11.71609157],\n",
       "       [11.9804642 ],\n",
       "       [11.60641956],\n",
       "       [12.25005565],\n",
       "       [11.63316274],\n",
       "       [11.95651243],\n",
       "       [11.34338166],\n",
       "       [11.98242761],\n",
       "       [11.91325341],\n",
       "       [12.38715918],\n",
       "       [12.25694028],\n",
       "       [12.35834381],\n",
       "       [11.97302847],\n",
       "       [12.22355203],\n",
       "       [11.65944765],\n",
       "       [11.71623191],\n",
       "       [12.35552299],\n",
       "       [12.06008912],\n",
       "       [12.189908  ],\n",
       "       [11.92835889],\n",
       "       [12.23503876],\n",
       "       [12.42448778],\n",
       "       [11.56217536],\n",
       "       [11.87180868],\n",
       "       [11.5497066 ],\n",
       "       [12.19311071],\n",
       "       [11.84713652],\n",
       "       [12.20858869],\n",
       "       [11.7659162 ],\n",
       "       [12.10861565],\n",
       "       [12.24896937],\n",
       "       [12.45045654],\n",
       "       [12.2103195 ],\n",
       "       [11.96678561],\n",
       "       [12.0708464 ],\n",
       "       [12.31936566],\n",
       "       [11.84557854],\n",
       "       [11.98399576],\n",
       "       [11.66700066],\n",
       "       [11.95642179],\n",
       "       [11.51946021],\n",
       "       [11.70027028],\n",
       "       [11.76017904],\n",
       "       [11.83034711],\n",
       "       [12.08486595],\n",
       "       [12.117834  ],\n",
       "       [11.85958869],\n",
       "       [12.39102629],\n",
       "       [12.10489841],\n",
       "       [11.2875457 ],\n",
       "       [11.92790822],\n",
       "       [11.92526042],\n",
       "       [11.69217243],\n",
       "       [12.31480812],\n",
       "       [11.54204658],\n",
       "       [12.07366196],\n",
       "       [11.93326933],\n",
       "       [12.37373121],\n",
       "       [11.970947  ],\n",
       "       [11.9105516 ],\n",
       "       [12.47579788],\n",
       "       [12.19325124],\n",
       "       [12.14165467],\n",
       "       [12.14693245],\n",
       "       [11.68914464],\n",
       "       [11.71034607],\n",
       "       [11.61811018],\n",
       "       [11.82932006],\n",
       "       [12.32229389],\n",
       "       [11.80463138],\n",
       "       [12.19158376],\n",
       "       [12.06879393],\n",
       "       [12.38001389],\n",
       "       [11.86457093]])"
      ]
     },
     "execution_count": 32,
     "metadata": {},
     "output_type": "execute_result"
    }
   ],
   "source": [
    "reg.predict(test_x).reshape((292,1))"
   ]
  },
  {
   "cell_type": "code",
   "execution_count": 112,
   "metadata": {},
   "outputs": [
    {
     "data": {
      "text/plain": [
       "SalePrice_log    0.04215\n",
       "dtype: float64"
      ]
     },
     "execution_count": 112,
     "metadata": {},
     "output_type": "execute_result"
    }
   ],
   "source": [
    "np.mean((reg2.predict(test_x).reshape((292,1)) - test_y)**2)"
   ]
  },
  {
   "cell_type": "code",
   "execution_count": 33,
   "metadata": {},
   "outputs": [],
   "source": [
    "model = ElasticNet(alpha=1.003,l1_ratio=0.003/1.003)"
   ]
  },
  {
   "cell_type": "code",
   "execution_count": 34,
   "metadata": {},
   "outputs": [
    {
     "data": {
      "text/plain": [
       "ElasticNet(alpha=1.003, copy_X=True, fit_intercept=True,\n",
       "      l1_ratio=0.0029910269192422734, max_iter=1000, normalize=False,\n",
       "      positive=False, precompute=False, random_state=None,\n",
       "      selection='cyclic', tol=0.0001, warm_start=False)"
      ]
     },
     "execution_count": 34,
     "metadata": {},
     "output_type": "execute_result"
    }
   ],
   "source": [
    "model.fit(x,y)"
   ]
  },
  {
   "cell_type": "code",
   "execution_count": 35,
   "metadata": {},
   "outputs": [],
   "source": [
    "coef = pd.Series(model.coef_.reshape(-1), index = x.columns)"
   ]
  },
  {
   "cell_type": "code",
   "execution_count": 36,
   "metadata": {},
   "outputs": [],
   "source": [
    "imp_coef = pd.concat([coef.sort_values()[-1:-11:-1],coef.sort_values()[10::-1]])"
   ]
  },
  {
   "cell_type": "code",
   "execution_count": 37,
   "metadata": {},
   "outputs": [
    {
     "data": {
      "text/plain": [
       "Text(0.5,1,'Coefficients in the Lasso Model')"
      ]
     },
     "execution_count": 37,
     "metadata": {},
     "output_type": "execute_result"
    },
    {
     "data": {
      "image/png": "[encoded data removed]",
      "text/plain": [
       "<Figure size 576x720 with 1 Axes>"
      ]
     },
     "metadata": {},
     "output_type": "display_data"
    }
   ],
   "source": [
    "import matplotlib.pyplot as plt\n",
    "plt.rcParams['figure.figsize'] = (8.0, 10.0)\n",
    "imp_coef.plot(kind = \"barh\")\n",
    "plt.title(\"Coefficients in the Lasso Model\")"
   ]
  },
  {
   "cell_type": "code",
   "execution_count": null,
   "metadata": {},
   "outputs": [],
   "source": []
  },
  {
   "cell_type": "code",
   "execution_count": null,
   "metadata": {},
   "outputs": [],
   "source": []
  },
  {
   "cell_type": "code",
   "execution_count": null,
   "metadata": {},
   "outputs": [],
   "source": []
  },
  {
   "cell_type": "markdown",
   "metadata": {},
   "source": [
    "# Cross Validation"
   ]
  },
  {
   "cell_type": "code",
   "execution_count": null,
   "metadata": {},
   "outputs": [],
   "source": []
  },
  {
   "cell_type": "code",
   "execution_count": 14,
   "metadata": {},
   "outputs": [],
   "source": [
    "from sklearn.model_selection import cross_val_score\n",
    "def rmse_cv(model):\n",
    "    rmse= np.sqrt(-cross_val_score(model, x, y, scoring=\"neg_mean_squared_error\", cv = 4))\n",
    "    return(rmse)"
   ]
  },
  {
   "cell_type": "code",
   "execution_count": 15,
   "metadata": {},
   "outputs": [],
   "source": [
    "model = ElasticNet(alpha=1.005,l1_ratio=0.005/1.005)"
   ]
  },
  {
   "cell_type": "code",
   "execution_count": 16,
   "metadata": {},
   "outputs": [
    {
     "data": {
      "text/plain": [
       "0.22319196639463143"
      ]
     },
     "execution_count": 16,
     "metadata": {},
     "output_type": "execute_result"
    }
   ],
   "source": [
    "rmse_cv(model).mean()"
   ]
  },
  {
   "cell_type": "code",
   "execution_count": null,
   "metadata": {},
   "outputs": [],
   "source": [
    "0.22319196639463143"
   ]
  },
  {
   "cell_type": "markdown",
   "metadata": {},
   "source": [
    "# Save Single Model Predicted Result for Kaggle Submission"
   ]
  },
  {
   "cell_type": "code",
   "execution_count": 113,
   "metadata": {},
   "outputs": [],
   "source": [
    "data_sub = pd.read_csv('test_cleaned.csv')"
   ]
  },
  {
   "cell_type": "code",
   "execution_count": 114,
   "metadata": {},
   "outputs": [],
   "source": [
    "data_sub_x = data_sub.loc[:,'2ndFlrSF_log':'SaleType_WD']"
   ]
  },
  {
   "cell_type": "code",
   "execution_count": 116,
   "metadata": {},
   "outputs": [
    {
     "data": {
      "text/plain": [
       "array([[11.86251911],\n",
       "       [12.08577668],\n",
       "       [12.25446134],\n",
       "       ...,\n",
       "       [11.95552553],\n",
       "       [11.71374865],\n",
       "       [12.39787096]])"
      ]
     },
     "execution_count": 116,
     "metadata": {},
     "output_type": "execute_result"
    }
   ],
   "source": [
    "reg2.predict(data_sub_x).reshape((1459,1))"
   ]
  },
  {
   "cell_type": "code",
   "execution_count": 117,
   "metadata": {},
   "outputs": [],
   "source": [
    "log_y_sub = reg2.predict(data_sub_x).reshape((1459,1))"
   ]
  },
  {
   "cell_type": "code",
   "execution_count": 118,
   "metadata": {},
   "outputs": [
    {
     "data": {
      "text/plain": [
       "(1459, 1)"
      ]
     },
     "execution_count": 118,
     "metadata": {},
     "output_type": "execute_result"
    }
   ],
   "source": [
    "log_y_sub.shape"
   ]
  },
  {
   "cell_type": "code",
   "execution_count": 119,
   "metadata": {},
   "outputs": [],
   "source": [
    "sub = np.exp(log_y_sub)"
   ]
  },
  {
   "cell_type": "code",
   "execution_count": 120,
   "metadata": {},
   "outputs": [
    {
     "data": {
      "text/plain": [
       "array([[141849.10241104],\n",
       "       [177331.59526746],\n",
       "       [209915.70910017],\n",
       "       ...,\n",
       "       [155674.96180572],\n",
       "       [122240.86074671],\n",
       "       [242285.232163  ]])"
      ]
     },
     "execution_count": 120,
     "metadata": {},
     "output_type": "execute_result"
    }
   ],
   "source": [
    "sub"
   ]
  },
  {
   "cell_type": "code",
   "execution_count": 121,
   "metadata": {},
   "outputs": [],
   "source": [
    "sub1 = pd.DataFrame(sub,columns = ['SalePrice'])"
   ]
  },
  {
   "cell_type": "code",
   "execution_count": 122,
   "metadata": {},
   "outputs": [],
   "source": [
    "sub2 = pd.DataFrame(np.arange(1461,2920),columns = ['Id'])"
   ]
  },
  {
   "cell_type": "code",
   "execution_count": null,
   "metadata": {},
   "outputs": [],
   "source": []
  },
  {
   "cell_type": "code",
   "execution_count": 123,
   "metadata": {},
   "outputs": [],
   "source": [
    "sub2['SalePrice'] = sub1['SalePrice']"
   ]
  },
  {
   "cell_type": "code",
   "execution_count": 124,
   "metadata": {},
   "outputs": [],
   "source": [
    "sub2.to_csv('sub_elas_net.csv',index = False)"
   ]
  },
  {
   "cell_type": "code",
   "execution_count": null,
   "metadata": {},
   "outputs": [],
   "source": []
  },
  {
   "cell_type": "code",
   "execution_count": 135,
   "metadata": {},
   "outputs": [],
   "source": [
    "cof = clf.coef_"
   ]
  },
  {
   "cell_type": "code",
   "execution_count": 136,
   "metadata": {},
   "outputs": [],
   "source": [
    "cof = cof.reshape((207,1))\n",
    "cof = cof.tolist()"
   ]
  },
  {
   "cell_type": "code",
   "execution_count": 137,
   "metadata": {},
   "outputs": [],
   "source": [
    "#x = pd.DataFrame(cof,columns = ['Coefficient'] )"
   ]
  },
  {
   "cell_type": "code",
   "execution_count": 138,
   "metadata": {},
   "outputs": [],
   "source": [
    "name = data_sub.columns.values.reshape((207,1))\n",
    "name = name.tolist()"
   ]
  },
  {
   "cell_type": "code",
   "execution_count": 139,
   "metadata": {},
   "outputs": [
    {
     "data": {
      "text/plain": [
       "207"
      ]
     },
     "execution_count": 139,
     "metadata": {},
     "output_type": "execute_result"
    }
   ],
   "source": [
    "len(cof)"
   ]
  },
  {
   "cell_type": "code",
   "execution_count": 141,
   "metadata": {},
   "outputs": [],
   "source": [
    "n = len(name)"
   ]
  },
  {
   "cell_type": "code",
   "execution_count": 149,
   "metadata": {},
   "outputs": [],
   "source": [
    "l = {}\n",
    "for i in range(n):\n",
    "    l[name[i][0]] = cof[i][0]"
   ]
  },
  {
   "cell_type": "code",
   "execution_count": 150,
   "metadata": {},
   "outputs": [
    {
     "data": {
      "text/plain": [
       "{'1stFlrSF_log': 0.014033103906180473,\n",
       " '2ndFlrSF_log': 0.00312889977929059,\n",
       " '3SsnPorch_log': 0.0,\n",
       " 'Alley_log': 0.0,\n",
       " 'BedroomAbvGr_log': -0.0,\n",
       " 'BsmtCond_log': 0.0,\n",
       " 'BsmtExposure_log': -0.0039017799391475373,\n",
       " 'BsmtFinSF1_log': 0.012840706408893673,\n",
       " 'BsmtFinSF2_log': -0.002644819276652185,\n",
       " 'BsmtFinType1_log': -0.0,\n",
       " 'BsmtFinType2_log': -0.0,\n",
       " 'BsmtFullBath_log': 0.0,\n",
       " 'BsmtHalfBath_log': -0.0,\n",
       " 'BsmtQual_log': -0.09869476451836331,\n",
       " 'BsmtUnfSF_log': -0.0018735890461085186,\n",
       " 'EnclosedPorch_log': 0.0,\n",
       " 'ExterCond_log': 0.0,\n",
       " 'ExterQual_log': -0.07559346355391126,\n",
       " 'Fence_log': 0.0,\n",
       " 'FireplaceQu_log': -0.0,\n",
       " 'Fireplaces_log': 0.07014915255899225,\n",
       " 'FullBath_log': 0.0,\n",
       " 'Functional_log': 0.03497961219933704,\n",
       " 'GarageArea_log': 0.026030134533469324,\n",
       " 'GarageCars_log': 0.0,\n",
       " 'GarageCond_log': 0.0,\n",
       " 'GarageFinish_log': -0.010834080319480745,\n",
       " 'GarageQual_log': 0.0,\n",
       " 'GarageYrBlt_log': 0.0,\n",
       " 'GrLivArea_log': 0.22149735071773183,\n",
       " 'HalfBath_log': 0.0,\n",
       " 'HeatingQC_log': -0.028761607758879263,\n",
       " 'KitchenAbvGr_log': -0.0,\n",
       " 'LandSlope_log': -0.0,\n",
       " 'LotArea_log': 0.07844222535809206,\n",
       " 'LotFrontage_log': 0.0,\n",
       " 'LotShape_log': -0.0,\n",
       " 'LowQualFinSF_log': -0.0,\n",
       " 'MSSubClass_log': 0.0,\n",
       " 'MasVnrArea_log': 0.005668471869034503,\n",
       " 'MiscVal_log': -0.003896485120257855,\n",
       " 'MoSold_log': 0.0,\n",
       " 'OpenPorchSF_log': 0.0046558976904498865,\n",
       " 'OverallCond_log': 0.11780705669017966,\n",
       " 'OverallQual_log': 0.013596607330166733,\n",
       " 'PavedDrive_log': 0.0,\n",
       " 'PoolArea_log': 0.0,\n",
       " 'PoolQC_log': -0.0,\n",
       " 'ScreenPorch_log': 0.005735448985872975,\n",
       " 'Street_log': 0.0,\n",
       " 'TotRmsAbvGrd_log': 0.0,\n",
       " 'TotalBsmtSF_log': -0.0,\n",
       " 'WoodDeckSF_log': 0.0058849703437117455,\n",
       " 'YearBuilt_log': 0.07975851313216578,\n",
       " 'YearRemodAdd_log': 0.029028069063169577,\n",
       " 'YrSold_log': -0.0,\n",
       " 'TotalSF_log': 0.32687820182650906,\n",
       " 'HasWoodDeck_log': -0.0,\n",
       " 'HasOpenPorch_log': -0.0,\n",
       " 'HasEnclosedPorch_log': 0.0,\n",
       " 'Has3SsnPorch_log': -0.0,\n",
       " 'HasScreenPorch_log': -0.0,\n",
       " 'BldgType_2fmCon': -0.0,\n",
       " 'BldgType_Duplex': -0.0,\n",
       " 'BldgType_Twnhs': -0.0,\n",
       " 'BldgType_TwnhsE': -0.0,\n",
       " 'CentralAir_Y': 0.0,\n",
       " 'Condition1_Feedr': -0.0,\n",
       " 'Condition1_Norm': 0.0008419234094228297,\n",
       " 'Condition1_PosA': 0.0,\n",
       " 'Condition1_PosN': 0.0,\n",
       " 'Condition1_RRAe': -0.0,\n",
       " 'Condition1_RRAn': 0.0,\n",
       " 'Condition1_RRNe': -0.0,\n",
       " 'Condition1_RRNn': 0.0,\n",
       " 'Condition2_Feedr': -0.0,\n",
       " 'Condition2_Norm': 0.0,\n",
       " 'Condition2_PosA': 0.0,\n",
       " 'Condition2_PosN': 0.0,\n",
       " 'Condition2_RRAe': -0.0,\n",
       " 'Condition2_RRAn': -0.0,\n",
       " 'Condition2_RRNn': 0.0,\n",
       " 'Electrical_FuseF': -0.0,\n",
       " 'Electrical_FuseP': -0.0,\n",
       " 'Electrical_Mix': -0.0,\n",
       " 'Electrical_SBrkr': 0.0,\n",
       " 'Exterior1st_AsphShn': -0.0,\n",
       " 'Exterior1st_BrkComm': -0.0,\n",
       " 'Exterior1st_BrkFace': 0.0,\n",
       " 'Exterior1st_CBlock': -0.0,\n",
       " 'Exterior1st_CemntBd': 0.0,\n",
       " 'Exterior1st_HdBoard': -0.0,\n",
       " 'Exterior1st_ImStucc': 0.0,\n",
       " 'Exterior1st_MetalSd': 0.0,\n",
       " 'Exterior1st_Plywood': -0.0,\n",
       " 'Exterior1st_Stone': 0.0,\n",
       " 'Exterior1st_Stucco': 0.0,\n",
       " 'Exterior1st_VinylSd': 0.0,\n",
       " 'Exterior1st_Wd Sdng': -0.0,\n",
       " 'Exterior1st_WdShing': 0.0,\n",
       " 'Exterior2nd_AsphShn': 0.0,\n",
       " 'Exterior2nd_Brk Cmn': -0.0,\n",
       " 'Exterior2nd_BrkFace': 0.0,\n",
       " 'Exterior2nd_CBlock': -0.0,\n",
       " 'Exterior2nd_CmentBd': 0.0,\n",
       " 'Exterior2nd_HdBoard': -0.0,\n",
       " 'Exterior2nd_ImStucc': 0.0,\n",
       " 'Exterior2nd_MetalSd': 0.0,\n",
       " 'Exterior2nd_Other': 0.0,\n",
       " 'Exterior2nd_Plywood': -0.0,\n",
       " 'Exterior2nd_Stone': 0.0,\n",
       " 'Exterior2nd_Stucco': 0.0,\n",
       " 'Exterior2nd_VinylSd': 0.0,\n",
       " 'Exterior2nd_Wd Sdng': -0.0,\n",
       " 'Exterior2nd_Wd Shng': 0.0,\n",
       " 'Foundation_CBlock': -0.0,\n",
       " 'Foundation_PConc': 0.04609223004647037,\n",
       " 'Foundation_Slab': 0.0,\n",
       " 'Foundation_Stone': -0.0,\n",
       " 'Foundation_Wood': -0.0,\n",
       " 'GarageType_Attchd': 0.0,\n",
       " 'GarageType_Basment': -0.0,\n",
       " 'GarageType_BuiltIn': 0.0,\n",
       " 'GarageType_CarPort': -0.0,\n",
       " 'GarageType_Detchd': -0.0,\n",
       " 'GarageType_None': 0.0,\n",
       " 'Heating_GasA': -0.0,\n",
       " 'Heating_GasW': 0.0,\n",
       " 'Heating_Grav': -0.0,\n",
       " 'Heating_OthW': 0.0,\n",
       " 'Heating_Wall': 0.0,\n",
       " 'HouseStyle_1.5Unf': 0.0,\n",
       " 'HouseStyle_1Story': -0.0,\n",
       " 'HouseStyle_2.5Fin': -0.0,\n",
       " 'HouseStyle_2.5Unf': 0.0,\n",
       " 'HouseStyle_2Story': 0.0,\n",
       " 'HouseStyle_SFoyer': 0.0,\n",
       " 'HouseStyle_SLvl': -0.0,\n",
       " 'KitchenQual_Fa': -0.0,\n",
       " 'KitchenQual_Gd': 0.0,\n",
       " 'KitchenQual_TA': -0.051025576839236406,\n",
       " 'LandContour_HLS': 0.0,\n",
       " 'LandContour_Low': -0.0,\n",
       " 'LandContour_Lvl': -0.0,\n",
       " 'LotConfig_CulDSac': 0.0,\n",
       " 'LotConfig_FR2': -0.0,\n",
       " 'LotConfig_FR3': -0.0,\n",
       " 'LotConfig_Inside': -0.0,\n",
       " 'MSZoning_FV': 0.0,\n",
       " 'MSZoning_RH': -0.0,\n",
       " 'MSZoning_RL': 0.010771121751659831,\n",
       " 'MSZoning_RM': -0.0,\n",
       " 'MasVnrType_BrkFace': -0.0,\n",
       " 'MasVnrType_None': -0.0,\n",
       " 'MasVnrType_Stone': 0.0006608629033659901,\n",
       " 'MiscFeature_None': 0.0,\n",
       " 'MiscFeature_Othr': -0.0,\n",
       " 'MiscFeature_Shed': -0.0,\n",
       " 'MiscFeature_TenC': 0.0,\n",
       " 'Neighborhood_Blueste': 0.0,\n",
       " 'Neighborhood_BrDale': -0.0,\n",
       " 'Neighborhood_BrkSide': 0.0,\n",
       " 'Neighborhood_ClearCr': 0.0,\n",
       " 'Neighborhood_CollgCr': -0.0,\n",
       " 'Neighborhood_Crawfor': 0.0,\n",
       " 'Neighborhood_Edwards': -0.0,\n",
       " 'Neighborhood_Gilbert': -0.0,\n",
       " 'Neighborhood_IDOTRR': -0.0,\n",
       " 'Neighborhood_MeadowV': -0.0,\n",
       " 'Neighborhood_Mitchel': -0.0,\n",
       " 'Neighborhood_NAmes': -0.0,\n",
       " 'Neighborhood_NPkVill': 0.0,\n",
       " 'Neighborhood_NWAmes': -0.0,\n",
       " 'Neighborhood_NoRidge': 0.0,\n",
       " 'Neighborhood_NridgHt': 0.0,\n",
       " 'Neighborhood_OldTown': -0.0,\n",
       " 'Neighborhood_SWISU': -0.0,\n",
       " 'Neighborhood_Sawyer': -0.0,\n",
       " 'Neighborhood_SawyerW': -0.0,\n",
       " 'Neighborhood_Somerst': 0.0,\n",
       " 'Neighborhood_StoneBr': 0.0,\n",
       " 'Neighborhood_Timber': 0.0,\n",
       " 'Neighborhood_Veenker': 0.0,\n",
       " 'RoofMatl_Membran': 0.0,\n",
       " 'RoofMatl_Metal': 0.0,\n",
       " 'RoofMatl_Roll': -0.0,\n",
       " 'RoofMatl_Tar&Grv': -0.0,\n",
       " 'RoofMatl_WdShake': 0.0,\n",
       " 'RoofMatl_WdShngl': 0.0,\n",
       " 'RoofStyle_Gable': -0.0,\n",
       " 'RoofStyle_Gambrel': -0.0,\n",
       " 'RoofStyle_Hip': 0.0,\n",
       " 'RoofStyle_Mansard': -0.0,\n",
       " 'RoofStyle_Shed': -0.0,\n",
       " 'SaleCondition_AdjLand': 0.0,\n",
       " 'SaleCondition_Alloca': -0.0,\n",
       " 'SaleCondition_Family': -0.0,\n",
       " 'SaleCondition_Normal': 0.0,\n",
       " 'SaleCondition_Partial': 0.0,\n",
       " 'SaleType_CWD': 0.0,\n",
       " 'SaleType_Con': 0.0,\n",
       " 'SaleType_ConLD': -0.0,\n",
       " 'SaleType_ConLI': -0.0,\n",
       " 'SaleType_ConLw': -0.0,\n",
       " 'SaleType_New': 0.023023733864376214,\n",
       " 'SaleType_Oth': -0.0,\n",
       " 'SaleType_WD': -0.0}"
      ]
     },
     "execution_count": 150,
     "metadata": {},
     "output_type": "execute_result"
    }
   ],
   "source": [
    "l"
   ]
  },
  {
   "cell_type": "code",
   "execution_count": null,
   "metadata": {},
   "outputs": [],
   "source": []
  }
 ],
 "metadata": {
  "kernelspec": {
   "display_name": "Python 3",
   "language": "python",
   "name": "python3"
  },
  "language_info": {
   "codemirror_mode": {
    "name": "ipython",
    "version": 3
   },
   "file_extension": ".py",
   "mimetype": "text/x-python",
   "name": "python",
   "nbconvert_exporter": "python",
   "pygments_lexer": "ipython3",
   "version": "3.6.5"
  }
 },
 "nbformat": 4,
 "nbformat_minor": 2
}
