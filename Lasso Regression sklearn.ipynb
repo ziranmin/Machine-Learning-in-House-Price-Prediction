{
 "cells": [
  {
   "cell_type": "code",
   "execution_count": 10,
   "metadata": {},
   "outputs": [],
   "source": [
    "import pandas as pd\n",
    "import numpy as np\n",
    "import matplotlib.pyplot as plt\n",
    "import seaborn as sns\n",
    "from scipy.stats import norm\n",
    "from scipy import stats\n",
    "import warnings\n",
    "warnings.filterwarnings('ignore')"
   ]
  },
  {
   "cell_type": "code",
   "execution_count": 11,
   "metadata": {},
   "outputs": [],
   "source": [
    "#from sklearn import linear_model\n",
    "from sklearn.linear_model import Lasso\n",
    "#from sklearn.cross_validation import train_test_split"
   ]
  },
  {
   "cell_type": "code",
   "execution_count": 12,
   "metadata": {},
   "outputs": [],
   "source": [
    "data = pd.read_csv('train_cleaned.csv')"
   ]
  },
  {
   "cell_type": "code",
   "execution_count": 13,
   "metadata": {},
   "outputs": [],
   "source": [
    "x = data.loc[:,'2ndFlrSF_log':'SaleType_WD']"
   ]
  },
  {
   "cell_type": "code",
   "execution_count": 14,
   "metadata": {},
   "outputs": [],
   "source": [
    "y = data.loc[:,'SalePrice_log':'SalePrice_log']"
   ]
  },
  {
   "cell_type": "code",
   "execution_count": 96,
   "metadata": {},
   "outputs": [],
   "source": [
    "train_x, test_x, train_y, test_y= train_test_split(x,y,test_size=0.2, random_state=0)"
   ]
  },
  {
   "cell_type": "code",
   "execution_count": 97,
   "metadata": {},
   "outputs": [
    {
     "data": {
      "text/plain": [
       "(1456, 202)"
      ]
     },
     "execution_count": 97,
     "metadata": {},
     "output_type": "execute_result"
    }
   ],
   "source": [
    "x.shape"
   ]
  },
  {
   "cell_type": "code",
   "execution_count": 6,
   "metadata": {},
   "outputs": [],
   "source": [
    "reg = Lasso(alpha=0.005)"
   ]
  },
  {
   "cell_type": "code",
   "execution_count": 99,
   "metadata": {},
   "outputs": [
    {
     "data": {
      "text/plain": [
       "Lasso(alpha=0.005, copy_X=True, fit_intercept=True, max_iter=1000,\n",
       "   normalize=False, positive=False, precompute=False, random_state=None,\n",
       "   selection='cyclic', tol=0.0001, warm_start=False)"
      ]
     },
     "execution_count": 99,
     "metadata": {},
     "output_type": "execute_result"
    }
   ],
   "source": [
    "reg.fit(train_x,train_y)"
   ]
  },
  {
   "cell_type": "code",
   "execution_count": 100,
   "metadata": {},
   "outputs": [
    {
     "data": {
      "text/plain": [
       "0.8810494576066235"
      ]
     },
     "execution_count": 100,
     "metadata": {},
     "output_type": "execute_result"
    }
   ],
   "source": [
    "reg.score(train_x, train_y)"
   ]
  },
  {
   "cell_type": "code",
   "execution_count": 101,
   "metadata": {},
   "outputs": [
    {
     "data": {
      "text/plain": [
       "0.8718768374279996"
      ]
     },
     "execution_count": 101,
     "metadata": {},
     "output_type": "execute_result"
    }
   ],
   "source": [
    "reg.score(test_x, test_y)"
   ]
  },
  {
   "cell_type": "code",
   "execution_count": null,
   "metadata": {},
   "outputs": [],
   "source": []
  },
  {
   "cell_type": "code",
   "execution_count": 102,
   "metadata": {},
   "outputs": [
    {
     "data": {
      "text/plain": [
       "array([-0.00477092,  0.        ,  0.        , -0.        ,  0.        ,\n",
       "       -0.00306132,  0.01510849, -0.00107809, -0.        , -0.        ,\n",
       "        0.        , -0.        , -0.09739617,  0.        ,  0.        ,\n",
       "        0.        , -0.0794598 ,  0.        , -0.        ,  0.06990526,\n",
       "        0.        ,  0.04493329,  0.1102187 ,  0.        , -0.        ,\n",
       "        0.        ,  0.50231777,  0.        , -0.03014167, -0.        ,\n",
       "       -0.        ,  0.08396912,  0.        , -0.        , -0.00382862,\n",
       "       -0.        ,  0.00545409, -0.00467395,  0.        ,  0.00488978,\n",
       "        0.12083213,  0.02522363,  0.        ,  0.        , -0.        ,\n",
       "        0.00635525,  0.        ,  0.02519914,  0.00593281,  0.08750068,\n",
       "        0.0271218 , -0.        , -0.        , -0.        , -0.        ,\n",
       "       -0.        , -0.        , -0.        , -0.        , -0.        ,\n",
       "        0.        ,  0.00113288, -0.        ,  0.00373892,  0.        ,\n",
       "        0.        , -0.        , -0.        , -0.        ,  0.        ,\n",
       "       -0.        ,  0.        ,  0.        ,  0.        , -0.        ,\n",
       "       -0.        ,  0.        , -0.        , -0.        , -0.        ,\n",
       "        0.        , -0.        , -0.        ,  0.        , -0.        ,\n",
       "        0.        , -0.        ,  0.        ,  0.        , -0.        ,\n",
       "        0.        ,  0.        ,  0.        , -0.        ,  0.        ,\n",
       "       -0.        , -0.        ,  0.        , -0.        ,  0.        ,\n",
       "       -0.        ,  0.        ,  0.        ,  0.        , -0.        ,\n",
       "        0.        ,  0.        ,  0.        , -0.        , -0.        ,\n",
       "       -0.        ,  0.04443968,  0.        ,  0.        , -0.        ,\n",
       "        0.        , -0.        ,  0.        , -0.        , -0.        ,\n",
       "       -0.        , -0.        ,  0.        , -0.        , -0.        ,\n",
       "        0.        ,  0.        ,  0.        , -0.        ,  0.        ,\n",
       "       -0.        ,  0.        , -0.        , -0.        ,  0.        ,\n",
       "       -0.04761188,  0.        , -0.        , -0.        ,  0.        ,\n",
       "       -0.        , -0.        , -0.        ,  0.        , -0.        ,\n",
       "        0.01372226, -0.        , -0.        , -0.        ,  0.00518337,\n",
       "        0.        , -0.        , -0.        ,  0.        ,  0.        ,\n",
       "       -0.        ,  0.        ,  0.        , -0.        ,  0.        ,\n",
       "       -0.        , -0.        , -0.        , -0.        , -0.        ,\n",
       "       -0.        ,  0.        , -0.        ,  0.        ,  0.        ,\n",
       "       -0.        , -0.        , -0.        , -0.        ,  0.        ,\n",
       "        0.        ,  0.        ,  0.        ,  0.        ,  0.        ,\n",
       "       -0.        , -0.        ,  0.        ,  0.        , -0.        ,\n",
       "       -0.        ,  0.        , -0.        , -0.        ,  0.        ,\n",
       "       -0.        , -0.        ,  0.        ,  0.        ,  0.        ,\n",
       "        0.        , -0.        , -0.        , -0.        ,  0.02525264,\n",
       "       -0.        , -0.        ])"
      ]
     },
     "execution_count": 102,
     "metadata": {},
     "output_type": "execute_result"
    }
   ],
   "source": [
    "reg.coef_.count_nonzero"
   ]
  },
  {
   "cell_type": "code",
   "execution_count": 87,
   "metadata": {},
   "outputs": [
    {
     "data": {
      "text/plain": [
       "array([[11.85503357],\n",
       "       [12.35430982],\n",
       "       [11.41863222],\n",
       "       [11.87562242],\n",
       "       [12.60665977],\n",
       "       [11.8088896 ],\n",
       "       [12.23731471],\n",
       "       [12.53517017],\n",
       "       [11.28989017],\n",
       "       [11.77601196],\n",
       "       [12.66458915],\n",
       "       [12.35879966],\n",
       "       [12.30500987],\n",
       "       [12.39594965],\n",
       "       [12.19912735],\n",
       "       [12.21263715],\n",
       "       [11.98308484],\n",
       "       [11.6975897 ],\n",
       "       [11.64884304],\n",
       "       [12.18023229],\n",
       "       [12.10552619],\n",
       "       [11.8240189 ],\n",
       "       [11.54272859],\n",
       "       [11.8197703 ],\n",
       "       [12.69887118],\n",
       "       [11.57719403],\n",
       "       [12.008864  ],\n",
       "       [11.81958824],\n",
       "       [12.60232711],\n",
       "       [12.37986566],\n",
       "       [11.99585589],\n",
       "       [12.0551345 ],\n",
       "       [12.31050711],\n",
       "       [11.85614296],\n",
       "       [12.18682179],\n",
       "       [11.59642784],\n",
       "       [11.77183936],\n",
       "       [11.61527842],\n",
       "       [12.28215568],\n",
       "       [11.83013804],\n",
       "       [11.82866563],\n",
       "       [11.82961588],\n",
       "       [11.49153448],\n",
       "       [12.15701041],\n",
       "       [12.26345813],\n",
       "       [12.10554194],\n",
       "       [11.44644859],\n",
       "       [11.83612768],\n",
       "       [12.18425695],\n",
       "       [12.01729877],\n",
       "       [11.9319808 ],\n",
       "       [12.33171496],\n",
       "       [12.61594967],\n",
       "       [12.12315074],\n",
       "       [11.88200266],\n",
       "       [11.65797251],\n",
       "       [12.29578611],\n",
       "       [12.39984445],\n",
       "       [11.7550362 ],\n",
       "       [11.92599086],\n",
       "       [11.88721353],\n",
       "       [11.78668208],\n",
       "       [11.68804528],\n",
       "       [12.39190888],\n",
       "       [12.16490499],\n",
       "       [11.9153238 ],\n",
       "       [11.71725545],\n",
       "       [11.90599972],\n",
       "       [11.49055348],\n",
       "       [12.59702494],\n",
       "       [12.00401585],\n",
       "       [12.61180032],\n",
       "       [12.34495979],\n",
       "       [12.06675812],\n",
       "       [11.966607  ],\n",
       "       [12.66861009],\n",
       "       [11.99161969],\n",
       "       [11.84934103],\n",
       "       [12.1792894 ],\n",
       "       [11.76049537],\n",
       "       [11.89046764],\n",
       "       [12.06980416],\n",
       "       [12.49711386],\n",
       "       [11.70011177],\n",
       "       [11.92106859],\n",
       "       [12.10644611],\n",
       "       [11.73802126],\n",
       "       [11.36850784],\n",
       "       [12.7686646 ],\n",
       "       [11.91879862],\n",
       "       [11.73231785],\n",
       "       [11.63756793],\n",
       "       [12.42658965],\n",
       "       [12.49444855],\n",
       "       [12.00728076],\n",
       "       [12.69446249],\n",
       "       [12.16212289],\n",
       "       [12.83402118],\n",
       "       [11.75728708],\n",
       "       [12.39453316],\n",
       "       [12.0172068 ],\n",
       "       [11.34027974],\n",
       "       [12.29246523],\n",
       "       [11.59181458],\n",
       "       [11.86326662],\n",
       "       [12.3560277 ],\n",
       "       [12.65778887],\n",
       "       [12.10949073],\n",
       "       [12.29709801],\n",
       "       [12.23806959],\n",
       "       [11.88741705],\n",
       "       [12.41252342],\n",
       "       [11.94228091],\n",
       "       [11.89176999],\n",
       "       [12.51806843],\n",
       "       [12.11176213],\n",
       "       [12.16509205],\n",
       "       [11.81754622],\n",
       "       [12.49403597],\n",
       "       [11.80058468],\n",
       "       [11.76493097],\n",
       "       [11.95550118],\n",
       "       [11.76485554],\n",
       "       [12.25355278],\n",
       "       [11.58315404],\n",
       "       [12.45018218],\n",
       "       [12.39063644],\n",
       "       [12.36147775],\n",
       "       [11.96744971],\n",
       "       [12.06433798],\n",
       "       [11.56261109],\n",
       "       [12.4027865 ],\n",
       "       [12.39915194],\n",
       "       [12.09343705],\n",
       "       [11.73322789],\n",
       "       [11.8681271 ],\n",
       "       [12.62436346],\n",
       "       [11.969821  ],\n",
       "       [12.65320093],\n",
       "       [12.35729449],\n",
       "       [11.9661978 ],\n",
       "       [11.19054841],\n",
       "       [11.9890943 ],\n",
       "       [11.47349264],\n",
       "       [11.47087637],\n",
       "       [12.57695243],\n",
       "       [11.82344024],\n",
       "       [11.92864127],\n",
       "       [12.02804726],\n",
       "       [12.67045662],\n",
       "       [11.63046506],\n",
       "       [12.120634  ],\n",
       "       [12.03696107],\n",
       "       [12.70116707],\n",
       "       [11.46884632],\n",
       "       [11.56167107],\n",
       "       [11.48027825],\n",
       "       [12.33959092],\n",
       "       [12.1108569 ],\n",
       "       [12.45230736],\n",
       "       [12.40918422],\n",
       "       [11.58777658],\n",
       "       [12.16953765],\n",
       "       [11.5879395 ],\n",
       "       [12.39558705],\n",
       "       [11.75253509],\n",
       "       [11.74211314],\n",
       "       [11.89848965],\n",
       "       [12.42727048],\n",
       "       [11.60609698],\n",
       "       [12.24658587],\n",
       "       [12.56874567],\n",
       "       [12.02977569],\n",
       "       [12.53019971],\n",
       "       [12.78512094],\n",
       "       [12.2575498 ],\n",
       "       [12.47144169],\n",
       "       [12.16366729],\n",
       "       [11.97097986],\n",
       "       [12.36701027],\n",
       "       [11.82217176],\n",
       "       [11.86337739],\n",
       "       [12.20772226],\n",
       "       [12.13440768],\n",
       "       [11.95747586],\n",
       "       [12.08797472],\n",
       "       [11.93301503],\n",
       "       [11.76159054],\n",
       "       [12.47631018],\n",
       "       [11.91198756],\n",
       "       [11.72334692],\n",
       "       [11.78053436],\n",
       "       [12.24110887],\n",
       "       [11.4354885 ],\n",
       "       [12.32077368],\n",
       "       [12.57531481],\n",
       "       [11.42250627],\n",
       "       [11.95831815],\n",
       "       [11.8562444 ],\n",
       "       [12.14937851],\n",
       "       [12.23366578],\n",
       "       [12.64874943],\n",
       "       [12.77844941],\n",
       "       [12.23614283],\n",
       "       [12.14003199],\n",
       "       [12.33742837],\n",
       "       [11.46548736],\n",
       "       [11.96431696],\n",
       "       [12.15457687],\n",
       "       [12.13840768],\n",
       "       [11.95801648],\n",
       "       [11.44344633],\n",
       "       [12.35657989],\n",
       "       [11.85975651],\n",
       "       [12.24085449],\n",
       "       [11.97660717],\n",
       "       [12.21166998],\n",
       "       [12.53969969],\n",
       "       [11.53294604],\n",
       "       [11.82060717],\n",
       "       [11.69249574],\n",
       "       [12.13402472],\n",
       "       [11.649234  ],\n",
       "       [11.86941378],\n",
       "       [11.32373307],\n",
       "       [11.87887556],\n",
       "       [12.03429444],\n",
       "       [12.65615869],\n",
       "       [12.31957854],\n",
       "       [12.3178126 ],\n",
       "       [12.08147033],\n",
       "       [12.09342648],\n",
       "       [11.60218891],\n",
       "       [12.00163957],\n",
       "       [12.56125294],\n",
       "       [11.82668377],\n",
       "       [12.19414813],\n",
       "       [11.87075494],\n",
       "       [12.36256303],\n",
       "       [12.88858382],\n",
       "       [11.76962844],\n",
       "       [11.97440531],\n",
       "       [11.39638057],\n",
       "       [12.43532974],\n",
       "       [11.86990339],\n",
       "       [12.15321433],\n",
       "       [11.78570407],\n",
       "       [12.40696002],\n",
       "       [12.16664425],\n",
       "       [12.80670492],\n",
       "       [12.03609856],\n",
       "       [11.81903513],\n",
       "       [12.15914171],\n",
       "       [12.25427886],\n",
       "       [11.67258469],\n",
       "       [11.8485677 ],\n",
       "       [11.55465574],\n",
       "       [11.91972856],\n",
       "       [11.11681668],\n",
       "       [11.5785401 ],\n",
       "       [11.62051394],\n",
       "       [11.67013525],\n",
       "       [12.4905799 ],\n",
       "       [11.68126484],\n",
       "       [12.05579129],\n",
       "       [12.60326738],\n",
       "       [11.98601633],\n",
       "       [11.46927072],\n",
       "       [11.91226555],\n",
       "       [12.05423265],\n",
       "       [11.6241581 ],\n",
       "       [12.32150129],\n",
       "       [11.02769764],\n",
       "       [12.04917794],\n",
       "       [11.91164336],\n",
       "       [12.72142289],\n",
       "       [11.97907457],\n",
       "       [11.75081439],\n",
       "       [12.66549164],\n",
       "       [12.26550094],\n",
       "       [11.89796343],\n",
       "       [12.04654619],\n",
       "       [11.4437789 ],\n",
       "       [11.88935813],\n",
       "       [11.63171848],\n",
       "       [11.91317539],\n",
       "       [12.35258442],\n",
       "       [11.78972191],\n",
       "       [12.2292193 ],\n",
       "       [11.90640094],\n",
       "       [12.79523116],\n",
       "       [11.52450133]])"
      ]
     },
     "execution_count": 87,
     "metadata": {},
     "output_type": "execute_result"
    }
   ],
   "source": [
    "reg.predict(test_x).reshape((292,1))"
   ]
  },
  {
   "cell_type": "code",
   "execution_count": 88,
   "metadata": {},
   "outputs": [
    {
     "data": {
      "text/plain": [
       "SalePrice_log    0.014652\n",
       "dtype: float64"
      ]
     },
     "execution_count": 88,
     "metadata": {},
     "output_type": "execute_result"
    }
   ],
   "source": [
    "np.mean((reg.predict(test_x).reshape((292,1)) - test_y)**2)"
   ]
  },
  {
   "cell_type": "markdown",
   "metadata": {},
   "source": [
    "# Cross Validation"
   ]
  },
  {
   "cell_type": "code",
   "execution_count": 7,
   "metadata": {},
   "outputs": [],
   "source": [
    "from sklearn.model_selection import cross_val_score\n",
    "def rmse_cv(model):\n",
    "    rmse= np.sqrt(-cross_val_score(model, x, y, scoring=\"neg_mean_squared_error\", cv = 4))\n",
    "    return(rmse)"
   ]
  },
  {
   "cell_type": "code",
   "execution_count": 8,
   "metadata": {},
   "outputs": [
    {
     "data": {
      "text/plain": [
       "0.14289248196846946"
      ]
     },
     "execution_count": 8,
     "metadata": {},
     "output_type": "execute_result"
    }
   ],
   "source": [
    "rmse_cv(reg).mean()"
   ]
  },
  {
   "cell_type": "code",
   "execution_count": null,
   "metadata": {},
   "outputs": [],
   "source": [
    "0.14289248196"
   ]
  },
  {
   "cell_type": "markdown",
   "metadata": {},
   "source": [
    "# See Coefficients"
   ]
  },
  {
   "cell_type": "code",
   "execution_count": 21,
   "metadata": {},
   "outputs": [],
   "source": [
    "reg = Lasso(alpha=0.003)"
   ]
  },
  {
   "cell_type": "code",
   "execution_count": 22,
   "metadata": {},
   "outputs": [
    {
     "data": {
      "text/plain": [
       "Lasso(alpha=0.003, copy_X=True, fit_intercept=True, max_iter=1000,\n",
       "   normalize=False, positive=False, precompute=False, random_state=None,\n",
       "   selection='cyclic', tol=0.0001, warm_start=False)"
      ]
     },
     "execution_count": 22,
     "metadata": {},
     "output_type": "execute_result"
    }
   ],
   "source": [
    "reg.fit(x,y)"
   ]
  },
  {
   "cell_type": "code",
   "execution_count": 23,
   "metadata": {},
   "outputs": [],
   "source": [
    "coef = pd.Series(reg.coef_.reshape(-1), index = x.columns)"
   ]
  },
  {
   "cell_type": "code",
   "execution_count": 24,
   "metadata": {},
   "outputs": [],
   "source": [
    "imp_coef = pd.concat([coef.sort_values()[-1:-11:-1],coef.sort_values()[10::-1]])"
   ]
  },
  {
   "cell_type": "code",
   "execution_count": 25,
   "metadata": {},
   "outputs": [
    {
     "data": {
      "text/plain": [
       "GrLivArea_log           0.521438\n",
       "OverallCond_log         0.172005\n",
       "GarageCars_log          0.121944\n",
       "LotArea_log             0.088150\n",
       "YearBuilt_log           0.082987\n",
       "Fireplaces_log          0.064311\n",
       "Functional_log          0.061539\n",
       "SaleType_New            0.050926\n",
       "OverallQual_log         0.046075\n",
       "Foundation_PConc        0.044352\n",
       "Neighborhood_Edwards   -0.003812\n",
       "MiscVal_log            -0.005946\n",
       "BsmtExposure_log       -0.006076\n",
       "GarageFinish_log       -0.006489\n",
       "LowQualFinSF_log       -0.006544\n",
       "2ndFlrSF_log           -0.006989\n",
       "FireplaceQu_log        -0.015811\n",
       "HeatingQC_log          -0.027541\n",
       "KitchenQual_TA         -0.038382\n",
       "BsmtQual_log           -0.092828\n",
       "ExterQual_log          -0.106448\n",
       "dtype: float64"
      ]
     },
     "execution_count": 25,
     "metadata": {},
     "output_type": "execute_result"
    }
   ],
   "source": [
    "imp_coef"
   ]
  },
  {
   "cell_type": "code",
   "execution_count": 26,
   "metadata": {},
   "outputs": [
    {
     "data": {
      "text/plain": [
       "Text(0.5,1,'Main Coefficients in the Lasso Model')"
      ]
     },
     "execution_count": 26,
     "metadata": {},
     "output_type": "execute_result"
    },
    {
     "data": {
      "image/png": "[encoded data removed]",
      "text/plain": [
       "<Figure size 576x720 with 1 Axes>"
      ]
     },
     "metadata": {},
     "output_type": "display_data"
    }
   ],
   "source": [
    "import matplotlib.pyplot as plt\n",
    "plt.rcParams['figure.figsize'] = (8.0, 10.0)\n",
    "imp_coef.plot(kind = \"barh\")\n",
    "plt.title(\"Main Coefficients in the Lasso Model\")"
   ]
  },
  {
   "cell_type": "markdown",
   "metadata": {},
   "source": [
    "# Save Single Model Predicted Result for Kaggle Submission"
   ]
  },
  {
   "cell_type": "code",
   "execution_count": 87,
   "metadata": {},
   "outputs": [],
   "source": [
    "data_sub = pd.read_csv('test_cleaned.csv')"
   ]
  },
  {
   "cell_type": "code",
   "execution_count": 88,
   "metadata": {},
   "outputs": [],
   "source": [
    "data_sub_x = data_sub.loc[:,'2ndFlrSF_log':'SaleType_WD']"
   ]
  },
  {
   "cell_type": "code",
   "execution_count": 89,
   "metadata": {},
   "outputs": [
    {
     "data": {
      "text/plain": [
       "array([[11.69791904],\n",
       "       [11.97517251],\n",
       "       [12.224089  ],\n",
       "       ...,\n",
       "       [12.09038836],\n",
       "       [11.68894475],\n",
       "       [12.3629835 ]])"
      ]
     },
     "execution_count": 89,
     "metadata": {},
     "output_type": "execute_result"
    }
   ],
   "source": [
    "reg.predict(data_sub_x).reshape((1459,1))"
   ]
  },
  {
   "cell_type": "code",
   "execution_count": 90,
   "metadata": {},
   "outputs": [],
   "source": [
    "log_y_sub = reg.predict(data_sub_x).reshape((1459,1))"
   ]
  },
  {
   "cell_type": "code",
   "execution_count": 91,
   "metadata": {},
   "outputs": [
    {
     "data": {
      "text/plain": [
       "(1459, 1)"
      ]
     },
     "execution_count": 91,
     "metadata": {},
     "output_type": "execute_result"
    }
   ],
   "source": [
    "log_y_sub.shape"
   ]
  },
  {
   "cell_type": "code",
   "execution_count": 92,
   "metadata": {},
   "outputs": [],
   "source": [
    "sub = np.exp(log_y_sub)"
   ]
  },
  {
   "cell_type": "code",
   "execution_count": 114,
   "metadata": {},
   "outputs": [
    {
     "data": {
      "text/plain": [
       "array([[120321.07109447],\n",
       "       [158763.7468864 ],\n",
       "       [203635.92589989],\n",
       "       ...,\n",
       "       [178151.2809265 ],\n",
       "       [119246.10584916],\n",
       "       [233978.26363769]])"
      ]
     },
     "execution_count": 114,
     "metadata": {},
     "output_type": "execute_result"
    }
   ],
   "source": [
    "sub"
   ]
  },
  {
   "cell_type": "code",
   "execution_count": 93,
   "metadata": {},
   "outputs": [],
   "source": [
    "sub1 = pd.DataFrame(sub,columns = ['SalePrice'])"
   ]
  },
  {
   "cell_type": "code",
   "execution_count": 94,
   "metadata": {},
   "outputs": [],
   "source": [
    "sub2 = pd.DataFrame(np.arange(1461,2920),columns = ['Id'])"
   ]
  },
  {
   "cell_type": "code",
   "execution_count": null,
   "metadata": {},
   "outputs": [],
   "source": []
  },
  {
   "cell_type": "code",
   "execution_count": 95,
   "metadata": {},
   "outputs": [],
   "source": [
    "sub2['SalePrice'] = sub1['SalePrice']"
   ]
  },
  {
   "cell_type": "code",
   "execution_count": 96,
   "metadata": {},
   "outputs": [],
   "source": [
    "sub2.to_csv('sub_lasso.csv',index = False)"
   ]
  },
  {
   "cell_type": "code",
   "execution_count": null,
   "metadata": {},
   "outputs": [],
   "source": []
  }
 ],
 "metadata": {
  "kernelspec": {
   "display_name": "Python 3",
   "language": "python",
   "name": "python3"
  },
  "language_info": {
   "codemirror_mode": {
    "name": "ipython",
    "version": 3
   },
   "file_extension": ".py",
   "mimetype": "text/x-python",
   "name": "python",
   "nbconvert_exporter": "python",
   "pygments_lexer": "ipython3",
   "version": "3.6.5"
  }
 },
 "nbformat": 4,
 "nbformat_minor": 2
}
