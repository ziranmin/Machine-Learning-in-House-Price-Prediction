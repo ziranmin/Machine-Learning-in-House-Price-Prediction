{
 "cells": [
  {
   "cell_type": "code",
   "execution_count": 1,
   "metadata": {},
   "outputs": [],
   "source": [
    "import pandas as pd\n",
    "import numpy as np\n",
    "import matplotlib.pyplot as plt\n",
    "import seaborn as sns\n",
    "from scipy.stats import norm\n",
    "from scipy import stats\n",
    "import warnings\n",
    "warnings.filterwarnings('ignore')"
   ]
  },
  {
   "cell_type": "code",
   "execution_count": 2,
   "metadata": {},
   "outputs": [
    {
     "name": "stderr",
     "output_type": "stream",
     "text": [
      "/Users/ziranmin/anaconda3/lib/python3.6/site-packages/sklearn/cross_validation.py:41: DeprecationWarning: This module was deprecated in version 0.18 in favor of the model_selection module into which all the refactored classes and functions are moved. Also note that the interface of the new CV iterators are different from that of this module. This module will be removed in 0.20.\n",
      "  \"This module will be removed in 0.20.\", DeprecationWarning)\n"
     ]
    }
   ],
   "source": [
    "from sklearn.linear_model import LinearRegression\n",
    "from sklearn.cross_validation import train_test_split"
   ]
  },
  {
   "cell_type": "code",
   "execution_count": 3,
   "metadata": {},
   "outputs": [],
   "source": [
    "data = pd.read_csv('train_cleaned.csv')"
   ]
  },
  {
   "cell_type": "code",
   "execution_count": 4,
   "metadata": {},
   "outputs": [],
   "source": [
    "x = data.loc[:,'2ndFlrSF_log':'SaleType_WD']"
   ]
  },
  {
   "cell_type": "code",
   "execution_count": 5,
   "metadata": {},
   "outputs": [],
   "source": [
    "y = data.loc[:,'SalePrice_log':'SalePrice_log']"
   ]
  },
  {
   "cell_type": "code",
   "execution_count": 8,
   "metadata": {},
   "outputs": [],
   "source": [
    "train_x, test_x, train_y, test_y= train_test_split(x,y,test_size=0.2, random_state=0)"
   ]
  },
  {
   "cell_type": "code",
   "execution_count": 33,
   "metadata": {},
   "outputs": [
    {
     "data": {
      "text/plain": [
       "(1456, 202)"
      ]
     },
     "execution_count": 33,
     "metadata": {},
     "output_type": "execute_result"
    }
   ],
   "source": [
    "x.shape"
   ]
  },
  {
   "cell_type": "code",
   "execution_count": 6,
   "metadata": {},
   "outputs": [],
   "source": [
    "reg = LinearRegression()"
   ]
  },
  {
   "cell_type": "code",
   "execution_count": 11,
   "metadata": {},
   "outputs": [
    {
     "data": {
      "text/plain": [
       "LinearRegression(copy_X=True, fit_intercept=True, n_jobs=1, normalize=False)"
      ]
     },
     "execution_count": 11,
     "metadata": {},
     "output_type": "execute_result"
    }
   ],
   "source": [
    "reg.fit(train_x,train_y)"
   ]
  },
  {
   "cell_type": "code",
   "execution_count": 12,
   "metadata": {},
   "outputs": [
    {
     "data": {
      "text/plain": [
       "0.8857014896518056"
      ]
     },
     "execution_count": 12,
     "metadata": {},
     "output_type": "execute_result"
    }
   ],
   "source": [
    "reg.score(test_x, test_y)"
   ]
  },
  {
   "cell_type": "code",
   "execution_count": 13,
   "metadata": {},
   "outputs": [
    {
     "data": {
      "text/plain": [
       "array([[-4.19963203e-03,  1.07963476e-02,  2.68261713e-02,\n",
       "        -5.90970188e-02,  1.87052507e-02, -1.25057639e-02,\n",
       "         7.09408015e-03, -4.63797019e-03,  6.91741194e-04,\n",
       "        -1.52153611e-02,  7.18909418e-02,  3.37747829e-02,\n",
       "        -4.39673211e-02, -1.48957874e-03, -1.06102103e-03,\n",
       "         2.74651846e-02, -5.37169366e-02,  6.11822438e-03,\n",
       "         6.22612202e-04,  3.29077090e-02,  1.02336774e-01,\n",
       "         9.47592935e-02,  1.09176245e-01,  2.44568136e-02,\n",
       "        -1.76368481e-03,  7.54152552e-04,  5.27937640e-01,\n",
       "         3.24250519e-02, -2.01892441e-02, -1.23465041e-01,\n",
       "        -5.21254111e-04,  8.59871133e-02,  2.58117364e-02,\n",
       "         1.04309999e-02, -1.11597564e-02, -4.22979997e-02,\n",
       "        -7.73747404e-05, -1.04001894e-02,  1.36939695e-03,\n",
       "         6.12009266e-03,  2.18121569e-01,  5.50593596e-02,\n",
       "         1.60161201e-02,  2.84505194e-02, -5.06326151e-02,\n",
       "         2.92862108e-02,  1.46304222e-01,  2.21135453e-02,\n",
       "         1.99841502e-02,  5.76777051e-02,  1.09341908e-02,\n",
       "        -9.60719939e-03,  1.22562650e-01,  2.96014129e-02,\n",
       "        -1.95551854e-02,  1.09731960e-01,  1.57623156e-01,\n",
       "        -6.41295551e-02,  5.28340103e-03, -1.26396101e-01,\n",
       "        -1.15748223e-01,  3.41875842e-02,  4.35515954e-02,\n",
       "         7.84113071e-02,  1.22523169e-02,  7.68811140e-02,\n",
       "        -5.73028678e-02,  6.19213344e-02, -1.73677467e-02,\n",
       "         7.54533577e-02,  1.00794672e-01,  2.90954716e-02,\n",
       "         5.22579100e-01, -2.72351586e-16, -3.72062129e-01,\n",
       "        -9.65587500e-02,  1.37280126e-01, -3.87157023e-03,\n",
       "        -3.82996192e-02, -7.17934844e-02, -1.29364855e-02,\n",
       "        -1.12806007e-01, -2.69200000e-01,  9.77835411e-02,\n",
       "        -3.90572517e-02, -6.71668397e-02, -1.05449903e-02,\n",
       "        -8.02559247e-02,  9.23239994e-03,  3.60785654e-03,\n",
       "        -3.28644680e-02,  5.01313679e-02, -6.87267801e-02,\n",
       "        -1.91595230e-02,  4.85359051e-03,  8.91101787e-02,\n",
       "         9.31645713e-02, -2.32207544e-02, -3.90572517e-02,\n",
       "         9.96339646e-02,  1.98621884e-02,  5.62138731e-02,\n",
       "         3.48609149e-02,  8.07379130e-02,  1.29106295e-02,\n",
       "         1.21619743e-02, -5.16310267e-02,  1.06042753e-01,\n",
       "         3.49947023e-02,  1.04098651e-02,  2.87070007e-02,\n",
       "         5.00199500e-02,  8.00024291e-02,  1.27798107e-01,\n",
       "        -5.39272191e-02,  7.93941257e-02,  9.47705385e-02,\n",
       "         9.00820549e-02, -4.64232985e-02,  9.14755826e-02,\n",
       "         1.27521968e-01,  1.37450691e-02,  9.15453912e-02,\n",
       "        -1.42478544e-02,  2.61277625e-02,  6.28446086e-03,\n",
       "         6.17675918e-02, -7.68981359e-03, -8.53476192e-02,\n",
       "         2.94656840e-02, -1.27050596e-02,  5.65968772e-02,\n",
       "         1.02636198e-02, -1.32527406e-01, -1.05963524e-01,\n",
       "        -1.20920902e-01,  2.48780973e-02, -5.38978257e-03,\n",
       "         1.15665094e-02,  1.99250962e-02, -4.24349738e-02,\n",
       "        -1.22294812e-01, -1.23673415e-02,  4.67426234e-01,\n",
       "         3.78447431e-01,  4.22346428e-01,  4.22009577e-01,\n",
       "         4.75434488e-02,  3.53654392e-02,  1.06392914e-01,\n",
       "        -2.06053867e-01, -2.61616204e-01, -1.54198903e-01,\n",
       "         2.77555756e-17, -8.12166651e-02, -8.76782970e-02,\n",
       "        -1.35073827e-01, -1.39027013e-01, -1.10576316e-01,\n",
       "        -3.02253891e-02, -2.14377440e-01, -1.38031280e-01,\n",
       "        -1.82455756e-01, -1.97414937e-01, -1.73114025e-01,\n",
       "        -1.66993823e-01, -5.64878431e-02, -1.75816238e-01,\n",
       "         1.74606129e-02, -2.26225770e-02, -2.10222031e-01,\n",
       "        -1.62673113e-01, -1.54464030e-01, -1.19999747e-01,\n",
       "        -7.23790957e-02,  6.27240916e-02, -1.06395991e-01,\n",
       "        -9.97134221e-02,  2.77555756e-16,  1.39243831e-01,\n",
       "        -1.14744076e-01, -3.32003023e-02, -9.48079825e-04,\n",
       "         1.61706960e-01, -1.98735106e-02, -6.95380595e-02,\n",
       "        -7.08959068e-03, -3.31896132e-02,  1.63057715e-01,\n",
       "         9.98005138e-02,  6.18158314e-02,  5.15792895e-02,\n",
       "         6.78576481e-02, -2.10062066e-01,  9.16235170e-02,\n",
       "         2.42380302e-01,  1.50443097e-01,  3.61737225e-03,\n",
       "         3.45526551e-03,  2.99285660e-01,  7.45218740e-02,\n",
       "        -8.07621426e-03]])"
      ]
     },
     "execution_count": 13,
     "metadata": {},
     "output_type": "execute_result"
    }
   ],
   "source": [
    "reg.coef_"
   ]
  },
  {
   "cell_type": "code",
   "execution_count": 14,
   "metadata": {},
   "outputs": [
    {
     "data": {
      "text/plain": [
       "array([[11.8095246 ],\n",
       "       [12.36701417],\n",
       "       [11.4319393 ],\n",
       "       [11.86309876],\n",
       "       [12.6045973 ],\n",
       "       [11.83617184],\n",
       "       [12.28257286],\n",
       "       [12.65769488],\n",
       "       [11.27529885],\n",
       "       [11.73223405],\n",
       "       [12.76679572],\n",
       "       [12.2924995 ],\n",
       "       [12.28429879],\n",
       "       [12.37838483],\n",
       "       [12.25347997],\n",
       "       [12.1759344 ],\n",
       "       [12.19764229],\n",
       "       [11.66196414],\n",
       "       [11.66937617],\n",
       "       [12.09221531],\n",
       "       [12.14621751],\n",
       "       [11.80093826],\n",
       "       [11.35903512],\n",
       "       [11.71059517],\n",
       "       [12.78387095],\n",
       "       [11.65178756],\n",
       "       [12.07836015],\n",
       "       [11.81889244],\n",
       "       [12.63118837],\n",
       "       [12.31208608],\n",
       "       [11.93725619],\n",
       "       [12.05394142],\n",
       "       [12.25150489],\n",
       "       [11.83393151],\n",
       "       [12.21407522],\n",
       "       [11.63608937],\n",
       "       [11.77219684],\n",
       "       [11.60178087],\n",
       "       [12.27060534],\n",
       "       [11.82144403],\n",
       "       [11.83632877],\n",
       "       [11.87886476],\n",
       "       [11.60907996],\n",
       "       [12.07848404],\n",
       "       [12.33938672],\n",
       "       [12.0391519 ],\n",
       "       [11.45762304],\n",
       "       [11.84076453],\n",
       "       [12.24219785],\n",
       "       [12.0230044 ],\n",
       "       [11.90963842],\n",
       "       [12.30670887],\n",
       "       [12.61090185],\n",
       "       [12.13420355],\n",
       "       [11.89168943],\n",
       "       [11.21572702],\n",
       "       [12.29276301],\n",
       "       [12.40617606],\n",
       "       [11.65342055],\n",
       "       [11.89904483],\n",
       "       [11.86797241],\n",
       "       [11.67354317],\n",
       "       [11.4813477 ],\n",
       "       [12.37091439],\n",
       "       [12.14157988],\n",
       "       [11.97205205],\n",
       "       [11.74327983],\n",
       "       [11.88821967],\n",
       "       [11.48433691],\n",
       "       [12.73162124],\n",
       "       [11.97265554],\n",
       "       [12.57414008],\n",
       "       [12.26372276],\n",
       "       [12.03106435],\n",
       "       [12.01696225],\n",
       "       [12.57597589],\n",
       "       [11.99210798],\n",
       "       [11.81819579],\n",
       "       [12.14347723],\n",
       "       [11.60745364],\n",
       "       [11.88998551],\n",
       "       [12.09661512],\n",
       "       [12.53629809],\n",
       "       [11.68672824],\n",
       "       [11.94780937],\n",
       "       [11.91751253],\n",
       "       [11.77809385],\n",
       "       [11.40494839],\n",
       "       [12.74605938],\n",
       "       [11.90117192],\n",
       "       [11.72068539],\n",
       "       [11.65431703],\n",
       "       [12.48759462],\n",
       "       [12.55391154],\n",
       "       [11.9063161 ],\n",
       "       [12.7790241 ],\n",
       "       [12.15652268],\n",
       "       [12.92543916],\n",
       "       [11.79557166],\n",
       "       [12.35373448],\n",
       "       [11.90300094],\n",
       "       [11.15187507],\n",
       "       [12.26022463],\n",
       "       [11.60226192],\n",
       "       [11.87250998],\n",
       "       [12.29882586],\n",
       "       [12.74924587],\n",
       "       [12.08747597],\n",
       "       [12.26340141],\n",
       "       [12.17834989],\n",
       "       [11.87631642],\n",
       "       [12.41525425],\n",
       "       [11.95390958],\n",
       "       [11.88659231],\n",
       "       [12.64295559],\n",
       "       [12.11967034],\n",
       "       [12.14256059],\n",
       "       [11.80050888],\n",
       "       [12.62301   ],\n",
       "       [11.8200368 ],\n",
       "       [11.71769817],\n",
       "       [11.94795851],\n",
       "       [11.80167206],\n",
       "       [12.25156124],\n",
       "       [11.514455  ],\n",
       "       [12.37848814],\n",
       "       [12.40255683],\n",
       "       [12.31972052],\n",
       "       [11.96625525],\n",
       "       [12.03419367],\n",
       "       [11.60599118],\n",
       "       [12.43696673],\n",
       "       [12.42472311],\n",
       "       [12.13429122],\n",
       "       [11.76893931],\n",
       "       [11.81481351],\n",
       "       [12.65843653],\n",
       "       [11.85867185],\n",
       "       [12.65497942],\n",
       "       [12.3175031 ],\n",
       "       [11.93851639],\n",
       "       [11.19674549],\n",
       "       [12.08275774],\n",
       "       [11.49505574],\n",
       "       [11.41163454],\n",
       "       [12.82111234],\n",
       "       [11.79981319],\n",
       "       [11.91847544],\n",
       "       [12.0384973 ],\n",
       "       [12.71246681],\n",
       "       [11.67508462],\n",
       "       [12.10407384],\n",
       "       [12.1211772 ],\n",
       "       [12.74231502],\n",
       "       [11.51315444],\n",
       "       [11.76883501],\n",
       "       [11.51764809],\n",
       "       [12.31474826],\n",
       "       [12.12815653],\n",
       "       [12.45270202],\n",
       "       [12.4716333 ],\n",
       "       [11.54720381],\n",
       "       [12.16201723],\n",
       "       [11.59161186],\n",
       "       [12.36554693],\n",
       "       [11.84619569],\n",
       "       [11.75091832],\n",
       "       [11.89147397],\n",
       "       [12.45027999],\n",
       "       [11.60670486],\n",
       "       [12.24857141],\n",
       "       [12.59680995],\n",
       "       [12.07773984],\n",
       "       [12.57993802],\n",
       "       [12.79998102],\n",
       "       [12.26875368],\n",
       "       [12.51471269],\n",
       "       [12.20537575],\n",
       "       [11.94496729],\n",
       "       [12.32942724],\n",
       "       [11.76870707],\n",
       "       [11.78201752],\n",
       "       [12.18090195],\n",
       "       [12.20416548],\n",
       "       [11.94834513],\n",
       "       [12.0313405 ],\n",
       "       [11.99340686],\n",
       "       [11.7620252 ],\n",
       "       [12.38013156],\n",
       "       [11.95199811],\n",
       "       [11.69539575],\n",
       "       [11.77105727],\n",
       "       [12.24266106],\n",
       "       [11.42327813],\n",
       "       [12.30639774],\n",
       "       [12.54729529],\n",
       "       [11.38925835],\n",
       "       [11.89788969],\n",
       "       [11.87710992],\n",
       "       [12.14262654],\n",
       "       [12.22584193],\n",
       "       [12.76589142],\n",
       "       [12.82596015],\n",
       "       [12.23281979],\n",
       "       [12.12832992],\n",
       "       [12.3815554 ],\n",
       "       [11.45884019],\n",
       "       [11.89921455],\n",
       "       [12.14570875],\n",
       "       [12.1238861 ],\n",
       "       [11.91685356],\n",
       "       [11.36413328],\n",
       "       [12.30460753],\n",
       "       [11.85101332],\n",
       "       [12.19118316],\n",
       "       [11.93596715],\n",
       "       [12.16047048],\n",
       "       [12.4766758 ],\n",
       "       [11.5126604 ],\n",
       "       [11.87282939],\n",
       "       [11.70649204],\n",
       "       [12.1738581 ],\n",
       "       [11.62893834],\n",
       "       [11.94210107],\n",
       "       [11.30201702],\n",
       "       [11.86161777],\n",
       "       [12.04494075],\n",
       "       [12.70305279],\n",
       "       [12.27685599],\n",
       "       [12.31111505],\n",
       "       [12.15206139],\n",
       "       [12.0682401 ],\n",
       "       [11.60300999],\n",
       "       [11.95260713],\n",
       "       [12.53353853],\n",
       "       [11.72948014],\n",
       "       [12.19841308],\n",
       "       [11.86809979],\n",
       "       [12.39310386],\n",
       "       [12.91939917],\n",
       "       [11.7156189 ],\n",
       "       [11.9702521 ],\n",
       "       [11.43725526],\n",
       "       [12.51521124],\n",
       "       [11.90326644],\n",
       "       [12.45502335],\n",
       "       [11.75970669],\n",
       "       [12.41827223],\n",
       "       [12.11183283],\n",
       "       [12.85593291],\n",
       "       [12.01070923],\n",
       "       [11.93147691],\n",
       "       [12.16147377],\n",
       "       [12.2644571 ],\n",
       "       [11.6258291 ],\n",
       "       [11.81981575],\n",
       "       [11.543132  ],\n",
       "       [11.87268917],\n",
       "       [11.26196667],\n",
       "       [11.57175912],\n",
       "       [11.60022204],\n",
       "       [11.63620062],\n",
       "       [12.62125927],\n",
       "       [11.72658905],\n",
       "       [12.01216267],\n",
       "       [12.69078329],\n",
       "       [12.02504786],\n",
       "       [11.54222857],\n",
       "       [11.99173981],\n",
       "       [12.21732721],\n",
       "       [11.6179229 ],\n",
       "       [12.2904892 ],\n",
       "       [11.03636683],\n",
       "       [11.98623758],\n",
       "       [11.90922442],\n",
       "       [12.77336819],\n",
       "       [11.95071763],\n",
       "       [11.80084505],\n",
       "       [12.67947123],\n",
       "       [12.20488557],\n",
       "       [11.84272853],\n",
       "       [11.95573677],\n",
       "       [11.529424  ],\n",
       "       [11.94223673],\n",
       "       [11.70175125],\n",
       "       [11.93704197],\n",
       "       [12.37512457],\n",
       "       [11.7784216 ],\n",
       "       [12.22170812],\n",
       "       [11.88741549],\n",
       "       [12.84525182],\n",
       "       [11.41966285]])"
      ]
     },
     "execution_count": 14,
     "metadata": {},
     "output_type": "execute_result"
    }
   ],
   "source": [
    "reg.predict(test_x)"
   ]
  },
  {
   "cell_type": "code",
   "execution_count": 15,
   "metadata": {},
   "outputs": [
    {
     "data": {
      "text/plain": [
       "SalePrice_log    0.017095\n",
       "dtype: float64"
      ]
     },
     "execution_count": 15,
     "metadata": {},
     "output_type": "execute_result"
    }
   ],
   "source": [
    "np.mean((reg.predict(test_x) - test_y)**2)"
   ]
  },
  {
   "cell_type": "markdown",
   "metadata": {},
   "source": [
    "# Cross Validation"
   ]
  },
  {
   "cell_type": "code",
   "execution_count": 7,
   "metadata": {},
   "outputs": [],
   "source": [
    "from sklearn.model_selection import cross_val_score\n",
    "def rmse_cv(model):\n",
    "    rmse= np.sqrt(-cross_val_score(model, x, y, scoring=\"neg_mean_squared_error\", cv = 4))\n",
    "    return(rmse)"
   ]
  },
  {
   "cell_type": "code",
   "execution_count": 8,
   "metadata": {},
   "outputs": [
    {
     "data": {
      "text/plain": [
       "0.12678336421560824"
      ]
     },
     "execution_count": 8,
     "metadata": {},
     "output_type": "execute_result"
    }
   ],
   "source": [
    "rmse_cv(reg).mean()"
   ]
  },
  {
   "cell_type": "code",
   "execution_count": null,
   "metadata": {},
   "outputs": [],
   "source": [
    "0.12678336421560824"
   ]
  },
  {
   "cell_type": "markdown",
   "metadata": {},
   "source": [
    "# See Coefficients"
   ]
  },
  {
   "cell_type": "code",
   "execution_count": 37,
   "metadata": {},
   "outputs": [
    {
     "data": {
      "text/plain": [
       "LinearRegression(copy_X=True, fit_intercept=True, n_jobs=1, normalize=False)"
      ]
     },
     "execution_count": 37,
     "metadata": {},
     "output_type": "execute_result"
    }
   ],
   "source": [
    "reg"
   ]
  },
  {
   "cell_type": "code",
   "execution_count": 38,
   "metadata": {},
   "outputs": [
    {
     "data": {
      "text/plain": [
       "LinearRegression(copy_X=True, fit_intercept=True, n_jobs=1, normalize=False)"
      ]
     },
     "execution_count": 38,
     "metadata": {},
     "output_type": "execute_result"
    }
   ],
   "source": [
    "reg.fit(x,y)"
   ]
  },
  {
   "cell_type": "code",
   "execution_count": 39,
   "metadata": {},
   "outputs": [],
   "source": [
    "coef = pd.Series(reg.coef_.reshape(-1), index = x.columns)"
   ]
  },
  {
   "cell_type": "code",
   "execution_count": 46,
   "metadata": {},
   "outputs": [
    {
     "data": {
      "text/plain": [
       "HouseStyle_1.5Unf       0.069520\n",
       "Foundation_Slab         0.069111\n",
       "SaleCondition_Normal    0.068375\n",
       "Exterior2nd_AsphShn     0.067236\n",
       "Condition1_PosN         0.067141\n",
       "YearBuilt_log           0.064829\n",
       "Exterior2nd_VinylSd     0.063220\n",
       "HasOpenPorch_log        0.057942\n",
       "Neighborhood_NoRidge    0.057658\n",
       "MasVnrType_BrkFace      0.056696\n",
       "OverallQual_log         0.056026\n",
       "Exterior2nd_ImStucc     0.055893\n",
       "MasVnrType_None         0.055693\n",
       "BsmtFullBath_log        0.052764\n",
       "SaleType_Oth            0.052534\n",
       "Condition1_RRAn         0.052420\n",
       "Exterior2nd_Wd Sdng     0.050477\n",
       "Foundation_PConc        0.049953\n",
       "HouseStyle_SFoyer       0.049869\n",
       "CentralAir_Y            0.047771\n",
       "dtype: float64"
      ]
     },
     "execution_count": 46,
     "metadata": {},
     "output_type": "execute_result"
    }
   ],
   "source": [
    "coef.sort_values()[-41:-61:-1]"
   ]
  },
  {
   "cell_type": "code",
   "execution_count": 40,
   "metadata": {},
   "outputs": [],
   "source": [
    "imp_coef = pd.concat([coef.sort_values()[-1:-21:-1],coef.sort_values()[10::-1]])"
   ]
  },
  {
   "cell_type": "code",
   "execution_count": 41,
   "metadata": {},
   "outputs": [
    {
     "data": {
      "text/plain": [
       "Text(0.5,1,'Coefficients in the Lasso Model')"
      ]
     },
     "execution_count": 41,
     "metadata": {},
     "output_type": "execute_result"
    },
    {
     "data": {
      "image/png": "[encoded data removed]",
      "text/plain": [
       "<Figure size 576x720 with 1 Axes>"
      ]
     },
     "metadata": {},
     "output_type": "display_data"
    }
   ],
   "source": [
    "import matplotlib.pyplot as plt\n",
    "plt.rcParams['figure.figsize'] = (8.0, 10.0)\n",
    "imp_coef.plot(kind = \"barh\")\n",
    "plt.title(\"Coefficients in the Lasso Model\")"
   ]
  },
  {
   "cell_type": "code",
   "execution_count": null,
   "metadata": {},
   "outputs": [],
   "source": []
  },
  {
   "cell_type": "code",
   "execution_count": null,
   "metadata": {},
   "outputs": [],
   "source": []
  },
  {
   "cell_type": "code",
   "execution_count": null,
   "metadata": {},
   "outputs": [],
   "source": []
  },
  {
   "cell_type": "markdown",
   "metadata": {},
   "source": [
    "# Save Single Model Predicted Result for Kaggle Submission"
   ]
  },
  {
   "cell_type": "code",
   "execution_count": 40,
   "metadata": {},
   "outputs": [],
   "source": [
    "data_sub = pd.read_csv('test_cleaned.csv')"
   ]
  },
  {
   "cell_type": "code",
   "execution_count": 41,
   "metadata": {},
   "outputs": [],
   "source": [
    "data_sub_x = data_sub.loc[:,'2ndFlrSF_log':'SaleType_WD']"
   ]
  },
  {
   "cell_type": "code",
   "execution_count": 42,
   "metadata": {},
   "outputs": [
    {
     "data": {
      "text/plain": [
       "array([[11.60870887],\n",
       "       [12.06579309],\n",
       "       [12.13946832],\n",
       "       ...,\n",
       "       [12.06799603],\n",
       "       [11.69142746],\n",
       "       [12.27917456]])"
      ]
     },
     "execution_count": 42,
     "metadata": {},
     "output_type": "execute_result"
    }
   ],
   "source": [
    "reg.predict(data_sub_x)"
   ]
  },
  {
   "cell_type": "code",
   "execution_count": 43,
   "metadata": {},
   "outputs": [],
   "source": [
    "log_y_sub = reg.predict(data_sub_x)"
   ]
  },
  {
   "cell_type": "code",
   "execution_count": 44,
   "metadata": {},
   "outputs": [
    {
     "data": {
      "text/plain": [
       "(1459, 1)"
      ]
     },
     "execution_count": 44,
     "metadata": {},
     "output_type": "execute_result"
    }
   ],
   "source": [
    "log_y_sub.shape"
   ]
  },
  {
   "cell_type": "code",
   "execution_count": 45,
   "metadata": {},
   "outputs": [],
   "source": [
    "sub = np.exp(log_y_sub)"
   ]
  },
  {
   "cell_type": "code",
   "execution_count": 46,
   "metadata": {},
   "outputs": [],
   "source": [
    "sub1 = pd.DataFrame(sub,columns = ['SalePrice'])"
   ]
  },
  {
   "cell_type": "code",
   "execution_count": 47,
   "metadata": {},
   "outputs": [],
   "source": [
    "sub2 = pd.DataFrame(np.arange(1461,2920),columns = ['Id'])"
   ]
  },
  {
   "cell_type": "code",
   "execution_count": 48,
   "metadata": {},
   "outputs": [],
   "source": [
    "sub2['SalePrice'] = sub1['SalePrice']"
   ]
  },
  {
   "cell_type": "code",
   "execution_count": 49,
   "metadata": {},
   "outputs": [],
   "source": [
    "sub2.to_csv('sub.csv',index = False)"
   ]
  },
  {
   "cell_type": "code",
   "execution_count": 27,
   "metadata": {},
   "outputs": [],
   "source": [
    "#sub2"
   ]
  },
  {
   "cell_type": "code",
   "execution_count": null,
   "metadata": {},
   "outputs": [],
   "source": []
  },
  {
   "cell_type": "code",
   "execution_count": null,
   "metadata": {},
   "outputs": [],
   "source": []
  }
 ],
 "metadata": {
  "kernelspec": {
   "display_name": "Python 3",
   "language": "python",
   "name": "python3"
  },
  "language_info": {
   "codemirror_mode": {
    "name": "ipython",
    "version": 3
   },
   "file_extension": ".py",
   "mimetype": "text/x-python",
   "name": "python",
   "nbconvert_exporter": "python",
   "pygments_lexer": "ipython3",
   "version": "3.6.5"
  }
 },
 "nbformat": 4,
 "nbformat_minor": 2
}
