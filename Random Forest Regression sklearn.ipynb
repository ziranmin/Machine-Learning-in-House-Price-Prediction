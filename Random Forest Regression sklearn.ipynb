{
 "cells": [
  {
   "cell_type": "code",
   "execution_count": 1,
   "metadata": {},
   "outputs": [],
   "source": [
    "import pandas as pd\n",
    "import numpy as np\n",
    "import matplotlib.pyplot as plt\n",
    "import seaborn as sns\n",
    "from scipy.stats import norm\n",
    "from scipy import stats\n",
    "import warnings\n",
    "warnings.filterwarnings('ignore')"
   ]
  },
  {
   "cell_type": "code",
   "execution_count": 3,
   "metadata": {},
   "outputs": [],
   "source": [
    "#from sklearn.cross_validation import train_test_split\n",
    "from sklearn.ensemble import RandomForestRegressor\n",
    "from sklearn.datasets import make_regression"
   ]
  },
  {
   "cell_type": "code",
   "execution_count": 4,
   "metadata": {},
   "outputs": [],
   "source": [
    "data = pd.read_csv('train_cleaned.csv')"
   ]
  },
  {
   "cell_type": "code",
   "execution_count": 5,
   "metadata": {},
   "outputs": [],
   "source": [
    "x = data.loc[:,'2ndFlrSF_log':'SaleType_WD']"
   ]
  },
  {
   "cell_type": "code",
   "execution_count": 6,
   "metadata": {},
   "outputs": [],
   "source": [
    "y = data.loc[:,'SalePrice_log':'SalePrice_log']"
   ]
  },
  {
   "cell_type": "code",
   "execution_count": 45,
   "metadata": {},
   "outputs": [],
   "source": [
    "train_x, test_x, train_y, test_y= train_test_split(x,y,test_size=0.2, random_state=0)"
   ]
  },
  {
   "cell_type": "code",
   "execution_count": 7,
   "metadata": {},
   "outputs": [
    {
     "data": {
      "text/plain": [
       "(1456, 202)"
      ]
     },
     "execution_count": 7,
     "metadata": {},
     "output_type": "execute_result"
    }
   ],
   "source": [
    "x.shape"
   ]
  },
  {
   "cell_type": "code",
   "execution_count": 63,
   "metadata": {},
   "outputs": [
    {
     "data": {
      "text/plain": [
       "RandomForestRegressor(bootstrap=True, criterion='mse', max_depth=50,\n",
       "           max_features='auto', max_leaf_nodes=None,\n",
       "           min_impurity_decrease=0.0, min_impurity_split=None,\n",
       "           min_samples_leaf=1, min_samples_split=2,\n",
       "           min_weight_fraction_leaf=0.0, n_estimators=100, n_jobs=1,\n",
       "           oob_score=False, random_state=None, verbose=0, warm_start=False)"
      ]
     },
     "execution_count": 63,
     "metadata": {},
     "output_type": "execute_result"
    }
   ],
   "source": [
    "reg = RandomForestRegressor(n_estimators=100, max_depth=50)\n",
    "reg.fit(train_x,train_y)"
   ]
  },
  {
   "cell_type": "code",
   "execution_count": 64,
   "metadata": {},
   "outputs": [
    {
     "data": {
      "text/plain": [
       "0.9842389976055862"
      ]
     },
     "execution_count": 64,
     "metadata": {},
     "output_type": "execute_result"
    }
   ],
   "source": [
    "reg.score(train_x,train_y)"
   ]
  },
  {
   "cell_type": "code",
   "execution_count": 65,
   "metadata": {},
   "outputs": [
    {
     "data": {
      "text/plain": [
       "<bound method BaseEstimator.get_params of RandomForestRegressor(bootstrap=True, criterion='mse', max_depth=50,\n",
       "           max_features='auto', max_leaf_nodes=None,\n",
       "           min_impurity_decrease=0.0, min_impurity_split=None,\n",
       "           min_samples_leaf=1, min_samples_split=2,\n",
       "           min_weight_fraction_leaf=0.0, n_estimators=100, n_jobs=1,\n",
       "           oob_score=False, random_state=None, verbose=0, warm_start=False)>"
      ]
     },
     "execution_count": 65,
     "metadata": {},
     "output_type": "execute_result"
    }
   ],
   "source": [
    "reg.get_params"
   ]
  },
  {
   "cell_type": "code",
   "execution_count": 66,
   "metadata": {},
   "outputs": [
    {
     "data": {
      "text/plain": [
       "array([[11.90058933],\n",
       "       [12.28130807],\n",
       "       [11.42274594],\n",
       "       [11.90507017],\n",
       "       [12.52787215],\n",
       "       [11.78762907],\n",
       "       [12.43064918],\n",
       "       [12.54958522],\n",
       "       [11.32747323],\n",
       "       [11.76124624],\n",
       "       [12.78072604],\n",
       "       [12.47317322],\n",
       "       [12.29089981],\n",
       "       [12.48230904],\n",
       "       [12.20148337],\n",
       "       [12.10791601],\n",
       "       [12.06700557],\n",
       "       [11.75773124],\n",
       "       [11.67001896],\n",
       "       [12.41296158],\n",
       "       [11.95917489],\n",
       "       [11.64838299],\n",
       "       [11.45973396],\n",
       "       [11.82853824],\n",
       "       [12.54167817],\n",
       "       [11.69556848],\n",
       "       [11.86976212],\n",
       "       [11.79270348],\n",
       "       [12.66952329],\n",
       "       [12.34688122],\n",
       "       [11.89919459],\n",
       "       [11.93640394],\n",
       "       [12.27529396],\n",
       "       [11.86081802],\n",
       "       [12.17782351],\n",
       "       [11.65611855],\n",
       "       [11.78141166],\n",
       "       [11.73343329],\n",
       "       [12.27610514],\n",
       "       [11.8966661 ],\n",
       "       [11.61363438],\n",
       "       [11.71407857],\n",
       "       [11.4480763 ],\n",
       "       [12.1951771 ],\n",
       "       [12.36009696],\n",
       "       [11.89840791],\n",
       "       [11.48046331],\n",
       "       [11.8520069 ],\n",
       "       [12.25735294],\n",
       "       [12.0534243 ],\n",
       "       [11.81192033],\n",
       "       [12.4187434 ],\n",
       "       [12.4952993 ],\n",
       "       [12.100974  ],\n",
       "       [11.7801378 ],\n",
       "       [11.66751532],\n",
       "       [12.19952182],\n",
       "       [12.32708895],\n",
       "       [11.69008842],\n",
       "       [11.91761125],\n",
       "       [11.89803813],\n",
       "       [11.85431437],\n",
       "       [11.74475593],\n",
       "       [12.36485492],\n",
       "       [12.14658896],\n",
       "       [12.02248745],\n",
       "       [11.83269827],\n",
       "       [11.93897872],\n",
       "       [11.44954668],\n",
       "       [12.6519308 ],\n",
       "       [11.87064009],\n",
       "       [12.59265609],\n",
       "       [12.46043004],\n",
       "       [12.04381557],\n",
       "       [11.96298317],\n",
       "       [12.55892872],\n",
       "       [12.05895459],\n",
       "       [11.94721665],\n",
       "       [12.16542327],\n",
       "       [11.54418684],\n",
       "       [11.92533915],\n",
       "       [12.09207377],\n",
       "       [12.38225833],\n",
       "       [11.76553929],\n",
       "       [11.93951276],\n",
       "       [12.46999246],\n",
       "       [11.74496441],\n",
       "       [11.40694906],\n",
       "       [12.63471723],\n",
       "       [11.6721424 ],\n",
       "       [11.83576815],\n",
       "       [11.68266626],\n",
       "       [12.3878827 ],\n",
       "       [12.50372871],\n",
       "       [11.95806834],\n",
       "       [12.65447136],\n",
       "       [12.15722078],\n",
       "       [12.82540169],\n",
       "       [11.69890981],\n",
       "       [12.84308758],\n",
       "       [12.14646576],\n",
       "       [11.49991372],\n",
       "       [12.13151845],\n",
       "       [11.60927093],\n",
       "       [11.87762937],\n",
       "       [12.32391865],\n",
       "       [12.64575274],\n",
       "       [12.02305437],\n",
       "       [12.38116273],\n",
       "       [12.2450505 ],\n",
       "       [11.81346214],\n",
       "       [12.18892393],\n",
       "       [12.02895263],\n",
       "       [11.91906849],\n",
       "       [12.48131261],\n",
       "       [12.09195449],\n",
       "       [12.14558552],\n",
       "       [11.77043287],\n",
       "       [12.43441784],\n",
       "       [11.91222839],\n",
       "       [11.90634384],\n",
       "       [11.87952348],\n",
       "       [11.63992534],\n",
       "       [12.19987959],\n",
       "       [11.71592165],\n",
       "       [12.24492859],\n",
       "       [12.41429938],\n",
       "       [12.33980424],\n",
       "       [11.91174565],\n",
       "       [12.09139478],\n",
       "       [11.63796146],\n",
       "       [12.2999509 ],\n",
       "       [12.34168589],\n",
       "       [12.16125704],\n",
       "       [11.82296339],\n",
       "       [11.91423555],\n",
       "       [12.6631796 ],\n",
       "       [11.85052409],\n",
       "       [12.56869866],\n",
       "       [12.37117215],\n",
       "       [11.98344556],\n",
       "       [11.21939024],\n",
       "       [11.92837687],\n",
       "       [11.48641465],\n",
       "       [11.49912819],\n",
       "       [12.46999938],\n",
       "       [11.90672136],\n",
       "       [11.85553744],\n",
       "       [12.03866966],\n",
       "       [12.64482194],\n",
       "       [11.72093681],\n",
       "       [12.0680461 ],\n",
       "       [12.09006838],\n",
       "       [12.7825769 ],\n",
       "       [11.64438672],\n",
       "       [11.68120437],\n",
       "       [11.533205  ],\n",
       "       [12.28675879],\n",
       "       [12.17691467],\n",
       "       [12.4645088 ],\n",
       "       [12.38919164],\n",
       "       [11.75019159],\n",
       "       [12.05687538],\n",
       "       [11.67140385],\n",
       "       [12.40927536],\n",
       "       [11.83546771],\n",
       "       [11.73680913],\n",
       "       [11.9423445 ],\n",
       "       [12.27739868],\n",
       "       [11.44876435],\n",
       "       [12.23660993],\n",
       "       [12.64289934],\n",
       "       [11.98392501],\n",
       "       [12.70473181],\n",
       "       [12.99848557],\n",
       "       [12.13534771],\n",
       "       [12.5592923 ],\n",
       "       [12.14547633],\n",
       "       [12.01218364],\n",
       "       [12.28899316],\n",
       "       [11.62541018],\n",
       "       [11.78799145],\n",
       "       [12.17284374],\n",
       "       [12.08250569],\n",
       "       [11.98186029],\n",
       "       [12.01643722],\n",
       "       [11.91806238],\n",
       "       [11.81648969],\n",
       "       [12.44848736],\n",
       "       [12.19736337],\n",
       "       [11.78461305],\n",
       "       [11.81501979],\n",
       "       [12.26538255],\n",
       "       [11.60703083],\n",
       "       [12.33815717],\n",
       "       [12.64929837],\n",
       "       [11.40944607],\n",
       "       [11.9316778 ],\n",
       "       [11.81757233],\n",
       "       [12.23603817],\n",
       "       [12.20178704],\n",
       "       [12.63710836],\n",
       "       [12.92542526],\n",
       "       [12.30808509],\n",
       "       [12.09118036],\n",
       "       [12.38863369],\n",
       "       [11.55196643],\n",
       "       [11.79822649],\n",
       "       [12.09079742],\n",
       "       [12.1828125 ],\n",
       "       [11.90799229],\n",
       "       [11.43122746],\n",
       "       [12.31789973],\n",
       "       [11.87794625],\n",
       "       [12.21373631],\n",
       "       [11.91749845],\n",
       "       [12.09472242],\n",
       "       [12.53484597],\n",
       "       [11.54874308],\n",
       "       [11.91015876],\n",
       "       [11.6651392 ],\n",
       "       [12.01395546],\n",
       "       [11.70478182],\n",
       "       [11.68102929],\n",
       "       [11.36473666],\n",
       "       [11.90050994],\n",
       "       [12.12013144],\n",
       "       [12.74532634],\n",
       "       [12.32108127],\n",
       "       [12.29515254],\n",
       "       [12.05402572],\n",
       "       [12.00096489],\n",
       "       [11.60676248],\n",
       "       [11.96554316],\n",
       "       [12.35095009],\n",
       "       [11.83533388],\n",
       "       [12.17395509],\n",
       "       [11.85640906],\n",
       "       [12.34882017],\n",
       "       [12.86865285],\n",
       "       [11.87055224],\n",
       "       [11.87183293],\n",
       "       [11.55541206],\n",
       "       [12.43731825],\n",
       "       [11.74370211],\n",
       "       [12.16952674],\n",
       "       [11.79697584],\n",
       "       [12.28579783],\n",
       "       [12.26367658],\n",
       "       [12.61956418],\n",
       "       [12.0022384 ],\n",
       "       [11.82488303],\n",
       "       [12.18339013],\n",
       "       [12.36865566],\n",
       "       [11.85839784],\n",
       "       [11.76191137],\n",
       "       [11.67019795],\n",
       "       [11.80395892],\n",
       "       [11.21348597],\n",
       "       [11.66938064],\n",
       "       [11.69678913],\n",
       "       [11.65187205],\n",
       "       [12.36828341],\n",
       "       [11.78405291],\n",
       "       [12.13866546],\n",
       "       [12.61824956],\n",
       "       [12.0328983 ],\n",
       "       [11.44678801],\n",
       "       [11.72674561],\n",
       "       [12.57840704],\n",
       "       [11.67221711],\n",
       "       [12.30517493],\n",
       "       [11.24460569],\n",
       "       [11.9484908 ],\n",
       "       [11.94377619],\n",
       "       [12.71701087],\n",
       "       [11.92512634],\n",
       "       [11.86263246],\n",
       "       [12.70598026],\n",
       "       [12.20916471],\n",
       "       [11.94262258],\n",
       "       [12.0231284 ],\n",
       "       [11.44016533],\n",
       "       [11.90642317],\n",
       "       [11.58486265],\n",
       "       [11.74808637],\n",
       "       [12.3023658 ],\n",
       "       [11.76722069],\n",
       "       [12.13861924],\n",
       "       [11.93421543],\n",
       "       [12.87235296],\n",
       "       [11.42981815]])"
      ]
     },
     "execution_count": 66,
     "metadata": {},
     "output_type": "execute_result"
    }
   ],
   "source": [
    "reg.predict(test_x).reshape((292,1))\n",
    "#reg.predict(test_x)"
   ]
  },
  {
   "cell_type": "code",
   "execution_count": 67,
   "metadata": {},
   "outputs": [
    {
     "data": {
      "text/plain": [
       "SalePrice_log    0.017187\n",
       "dtype: float64"
      ]
     },
     "execution_count": 67,
     "metadata": {},
     "output_type": "execute_result"
    }
   ],
   "source": [
    "np.mean((reg.predict(test_x).reshape((292,1)) - test_y)**2)"
   ]
  },
  {
   "cell_type": "markdown",
   "metadata": {},
   "source": [
    "# Cross Validation"
   ]
  },
  {
   "cell_type": "code",
   "execution_count": 9,
   "metadata": {},
   "outputs": [],
   "source": [
    "from sklearn.model_selection import cross_val_score\n",
    "def rmse_cv(model):\n",
    "    rmse= np.sqrt(-cross_val_score(model, x, y, scoring=\"neg_mean_squared_error\", cv = 4))\n",
    "    return(rmse)"
   ]
  },
  {
   "cell_type": "code",
   "execution_count": 10,
   "metadata": {},
   "outputs": [],
   "source": [
    "model = RandomForestRegressor(n_estimators=100, max_depth=50)"
   ]
  },
  {
   "cell_type": "code",
   "execution_count": 11,
   "metadata": {},
   "outputs": [
    {
     "data": {
      "text/plain": [
       "0.1372242458732552"
      ]
     },
     "execution_count": 11,
     "metadata": {},
     "output_type": "execute_result"
    }
   ],
   "source": [
    "rmse_cv(model).mean()"
   ]
  },
  {
   "cell_type": "code",
   "execution_count": 12,
   "metadata": {},
   "outputs": [
    {
     "data": {
      "text/plain": [
       "RandomForestRegressor(bootstrap=True, criterion='mse', max_depth=50,\n",
       "           max_features='auto', max_leaf_nodes=None,\n",
       "           min_impurity_decrease=0.0, min_impurity_split=None,\n",
       "           min_samples_leaf=1, min_samples_split=2,\n",
       "           min_weight_fraction_leaf=0.0, n_estimators=100, n_jobs=1,\n",
       "           oob_score=False, random_state=None, verbose=0, warm_start=False)"
      ]
     },
     "execution_count": 12,
     "metadata": {},
     "output_type": "execute_result"
    }
   ],
   "source": [
    "model"
   ]
  },
  {
   "cell_type": "code",
   "execution_count": null,
   "metadata": {},
   "outputs": [],
   "source": []
  },
  {
   "cell_type": "code",
   "execution_count": null,
   "metadata": {},
   "outputs": [],
   "source": []
  },
  {
   "cell_type": "code",
   "execution_count": 68,
   "metadata": {},
   "outputs": [],
   "source": [
    "data_sub = pd.read_csv('test_cleaned.csv')"
   ]
  },
  {
   "cell_type": "code",
   "execution_count": 69,
   "metadata": {},
   "outputs": [],
   "source": [
    "data_sub_x = data_sub.loc[:,'2ndFlrSF_log':'SaleType_WD']"
   ]
  },
  {
   "cell_type": "code",
   "execution_count": 70,
   "metadata": {},
   "outputs": [
    {
     "data": {
      "text/plain": [
       "array([[11.71975688],\n",
       "       [12.0269787 ],\n",
       "       [12.09610136],\n",
       "       ...,\n",
       "       [11.93822662],\n",
       "       [11.63218723],\n",
       "       [12.29443298]])"
      ]
     },
     "execution_count": 70,
     "metadata": {},
     "output_type": "execute_result"
    }
   ],
   "source": [
    "reg.predict(data_sub_x).reshape((1459,1))"
   ]
  },
  {
   "cell_type": "code",
   "execution_count": 71,
   "metadata": {},
   "outputs": [],
   "source": [
    "log_y_sub = reg.predict(data_sub_x).reshape((1459,1))"
   ]
  },
  {
   "cell_type": "code",
   "execution_count": 72,
   "metadata": {},
   "outputs": [
    {
     "data": {
      "text/plain": [
       "(1459, 1)"
      ]
     },
     "execution_count": 72,
     "metadata": {},
     "output_type": "execute_result"
    }
   ],
   "source": [
    "log_y_sub.shape"
   ]
  },
  {
   "cell_type": "code",
   "execution_count": 73,
   "metadata": {},
   "outputs": [],
   "source": [
    "sub = np.exp(log_y_sub)"
   ]
  },
  {
   "cell_type": "code",
   "execution_count": 74,
   "metadata": {},
   "outputs": [
    {
     "data": {
      "text/plain": [
       "array([[122977.52306201],\n",
       "       [167205.47083594],\n",
       "       [179171.97125597],\n",
       "       ...,\n",
       "       [153005.11273389],\n",
       "       [112666.48019525],\n",
       "       [218476.3345261 ]])"
      ]
     },
     "execution_count": 74,
     "metadata": {},
     "output_type": "execute_result"
    }
   ],
   "source": [
    "sub"
   ]
  },
  {
   "cell_type": "code",
   "execution_count": 75,
   "metadata": {},
   "outputs": [],
   "source": [
    "sub1 = pd.DataFrame(sub,columns = ['SalePrice'])"
   ]
  },
  {
   "cell_type": "code",
   "execution_count": 76,
   "metadata": {},
   "outputs": [],
   "source": [
    "sub2 = pd.DataFrame(np.arange(1461,2920),columns = ['Id'])"
   ]
  },
  {
   "cell_type": "code",
   "execution_count": null,
   "metadata": {},
   "outputs": [],
   "source": []
  },
  {
   "cell_type": "code",
   "execution_count": 77,
   "metadata": {},
   "outputs": [],
   "source": [
    "sub2['SalePrice'] = sub1['SalePrice']"
   ]
  },
  {
   "cell_type": "code",
   "execution_count": 78,
   "metadata": {},
   "outputs": [],
   "source": [
    "sub2.to_csv('sub_random_forest.csv',index = False)"
   ]
  },
  {
   "cell_type": "code",
   "execution_count": null,
   "metadata": {},
   "outputs": [],
   "source": []
  },
  {
   "cell_type": "code",
   "execution_count": null,
   "metadata": {},
   "outputs": [],
   "source": []
  }
 ],
 "metadata": {
  "kernelspec": {
   "display_name": "Python 3",
   "language": "python",
   "name": "python3"
  },
  "language_info": {
   "codemirror_mode": {
    "name": "ipython",
    "version": 3
   },
   "file_extension": ".py",
   "mimetype": "text/x-python",
   "name": "python",
   "nbconvert_exporter": "python",
   "pygments_lexer": "ipython3",
   "version": "3.6.5"
  }
 },
 "nbformat": 4,
 "nbformat_minor": 2
}
