{
 "cells": [
  {
   "cell_type": "code",
   "execution_count": 2,
   "metadata": {},
   "outputs": [],
   "source": [
    "import pandas as pd\n",
    "import numpy as np\n",
    "import matplotlib.pyplot as plt\n",
    "import seaborn as sns\n",
    "from scipy.stats import norm\n",
    "from scipy import stats\n",
    "import warnings\n",
    "warnings.filterwarnings('ignore')"
   ]
  },
  {
   "cell_type": "code",
   "execution_count": 30,
   "metadata": {},
   "outputs": [],
   "source": [
    "train = pd.read_csv('train_cleaned.csv')"
   ]
  },
  {
   "cell_type": "code",
   "execution_count": 31,
   "metadata": {},
   "outputs": [],
   "source": [
    "x = train.values[:, :-2]\n",
    "y = train.values[:, -2]\n",
    "y = y.reshape((1456,1))"
   ]
  },
  {
   "cell_type": "code",
   "execution_count": 5,
   "metadata": {},
   "outputs": [
    {
     "data": {
      "text/plain": [
       "(1456, 202)"
      ]
     },
     "execution_count": 5,
     "metadata": {},
     "output_type": "execute_result"
    }
   ],
   "source": [
    "x.shape"
   ]
  },
  {
   "cell_type": "code",
   "execution_count": 6,
   "metadata": {},
   "outputs": [
    {
     "data": {
      "text/plain": [
       "(1456, 1)"
      ]
     },
     "execution_count": 6,
     "metadata": {},
     "output_type": "execute_result"
    }
   ],
   "source": [
    "y.shape"
   ]
  },
  {
   "cell_type": "code",
   "execution_count": 7,
   "metadata": {},
   "outputs": [
    {
     "name": "stdout",
     "output_type": "stream",
     "text": [
      "72.35570449472941\n"
     ]
    }
   ],
   "source": [
    "def add_column(X):\n",
    "    ones_and_x = np.insert(X, 0, 1, axis=1)\n",
    "    return ones_and_x\n",
    "\n",
    "def predict(X, theta):\n",
    "    X_prime = add_column(X)\n",
    "    pred = np.dot(X_prime,theta)    \n",
    "    return pred\n",
    "\n",
    "def loss(X, y, theta):\n",
    "    X_prime = add_column(X)\n",
    "    pred = predict(X, theta)\n",
    "    m = len(X)\n",
    "    loss = ( np.sum((pred - y)**2) ) / (2*m)\n",
    "    return loss\n",
    "\n",
    "theta_init = np.zeros((203, 1))\n",
    "print(loss(x, y, theta_init))"
   ]
  },
  {
   "cell_type": "code",
   "execution_count": 8,
   "metadata": {},
   "outputs": [
    {
     "name": "stdout",
     "output_type": "stream",
     "text": [
      "estimated theta value [3.20669511e-02 8.65261263e-02 3.04283932e-03 2.19783309e-02\n",
      " 4.23214072e-02 4.79712328e-02 3.55664187e-02 1.29116390e-01\n",
      " 2.11651770e-02 4.04516628e-02 5.92354524e-02 9.26389375e-03\n",
      " 1.52377929e-03 3.97265388e-02 1.76050537e-01 2.35276962e-02\n",
      " 4.93069699e-02 3.97892403e-02 4.67568504e-02 4.36348528e-02\n",
      " 1.25763496e-02 2.93255750e-02 6.05441003e-02 3.09706275e-02\n",
      " 5.55231187e-02 3.02964675e-02 5.51711538e-02 2.32394658e-01\n",
      " 8.07747725e-03 2.23127737e-02 2.30581522e-02 1.58798008e-03\n",
      " 2.91462496e-01 1.34822777e-01 2.96559778e-02 3.53314210e-03\n",
      " 6.22084888e-02 6.32806521e-02 7.68011914e-03 6.02262989e-02\n",
      " 7.01179466e-02 5.44973012e-02 6.13619196e-02 3.26408894e-02\n",
      " 1.15269870e-03 4.44330064e-02 1.31168147e-02 2.22964457e-02\n",
      " 2.12245514e-01 7.44804249e-02 1.36786200e-01 9.81246084e-02\n",
      " 2.88608506e-02 1.23923464e-02 1.08420543e-02 1.91134469e-02\n",
      " 2.20256804e-02 2.06754017e-02 7.03278403e-04 1.34841692e-03\n",
      " 9.56374269e-04 2.65032445e-03 2.96722170e-02 1.81527455e-03\n",
      " 2.76935813e-02 1.73125898e-04 3.59444120e-04 2.51834058e-04\n",
      " 5.62051931e-04 3.29721963e-05 1.18442312e-04 1.43240131e-04\n",
      " 3.17482171e-02 2.43461901e-05 2.17247070e-05 1.41938518e-05\n",
      " 2.18857150e-05 5.08251655e-05 7.17583586e-04 8.73640380e-05\n",
      " 2.56019215e-05 2.90077589e-02 3.74942855e-05 6.02910254e-05\n",
      " 1.24856454e-03 2.11660444e-05 1.34138521e-03 4.65110383e-03\n",
      " 2.32969755e-05 4.96663239e-03 2.32353710e-03 5.34013185e-05\n",
      " 5.83876500e-04 1.10323454e-02 4.61803299e-03 6.15335755e-04\n",
      " 7.56298890e-05 1.67919754e-04 6.23067451e-04 2.11660444e-05\n",
      " 1.32888201e-03 4.33969283e-03 2.26077141e-04 4.84013662e-03\n",
      " 2.02600980e-05 3.07893912e-03 1.51473689e-04 5.83608529e-04\n",
      " 1.07761689e-02 4.47750067e-03 8.83341467e-04 1.37036089e-02\n",
      " 1.38654299e-02 9.00396539e-04 1.41367376e-04 6.23999305e-05\n",
      " 1.84924281e-02 4.30387113e-04 1.81219143e-03 2.23733478e-04\n",
      " 9.01652412e-03 1.96837293e-03 3.12475655e-02 4.14527169e-04\n",
      " 1.70211804e-04 4.31685102e-05 1.51781368e-04 3.68600207e-04\n",
      " 1.65730034e-02 1.45935212e-04 2.46603646e-04 8.99895547e-03\n",
      " 9.17234317e-04 1.40487925e-03 9.82486057e-04 1.24448729e-02\n",
      " 1.64923120e-02 1.12612244e-03 7.70851094e-04 2.87404397e-02\n",
      " 2.00981407e-03 9.95255408e-04 8.55691504e-05 2.31639001e-02\n",
      " 1.44192020e-03 3.81275018e-04 2.49616274e-02 5.06933888e-03\n",
      " 9.06089994e-03 2.00205510e-02 2.70284470e-03 3.08962417e-02\n",
      " 5.70411338e-05 1.05972671e-03 1.69867894e-05 4.72187872e-05\n",
      " 3.36662044e-04 1.44551583e-03 5.48010345e-04 3.14048112e-03\n",
      " 1.18838349e-03 2.32320057e-03 1.66218973e-03 8.59905314e-04\n",
      " 3.97987016e-04 1.07941288e-03 4.94378111e-03 2.04522246e-04\n",
      " 1.44239524e-03 7.57532828e-04 1.67035406e-03 2.59133063e-03\n",
      " 5.49379557e-04 1.62190222e-03 1.29045656e-03 1.91141981e-03\n",
      " 5.81391197e-04 8.11433822e-04 2.51224925e-04 2.34772399e-05\n",
      " 2.77887962e-05 1.80552390e-05 2.33810746e-04 1.15820175e-04\n",
      " 1.03607011e-04 2.50921728e-02 2.44142486e-04 6.24795122e-03\n",
      " 1.56371830e-04 3.54877049e-05 1.09073831e-04 3.21894822e-04\n",
      " 4.47209754e-04 2.61892240e-02 2.80366676e-03 9.16047279e-05\n",
      " 4.56087963e-05 2.19028090e-04 1.01867679e-04 1.20518714e-04\n",
      " 2.73383583e-03 7.10218499e-05 2.77120704e-02]\n",
      "resulting loss 0.3415166622959735\n"
     ]
    },
    {
     "data": {
      "image/png": "[encoded data removed]",
      "text/plain": [
       "<Figure size 432x288 with 1 Axes>"
      ]
     },
     "metadata": {},
     "output_type": "display_data"
    }
   ],
   "source": [
    "import scipy.optimize\n",
    "from functools import partial\n",
    "\n",
    "def loss_gradient(X, y, theta):\n",
    "    X_prime = add_column(X)\n",
    "    loss_grad = ((predict(X, theta) - y)*X_prime).mean(axis=0)[:, np.newaxis]\n",
    "    return loss_grad\n",
    "    \n",
    "def run_gd(loss, loss_gradient, X, y, theta_init, lr=0.0001, n_iter=100):\n",
    "    theta_current = theta_init.copy()\n",
    "    loss_values = []\n",
    "    theta_values = []\n",
    "    \n",
    "    for i in range(n_iter):\n",
    "        loss_value = loss(X, y, theta_current)\n",
    "        theta_current -= lr * loss_gradient(X, y, theta_current)\n",
    "        loss_values.append(loss_value)\n",
    "        theta_values.append(theta_current)\n",
    "        \n",
    "    return theta_current, loss_values, theta_values\n",
    "\n",
    "result = run_gd(loss, loss_gradient, x, y, theta_init)\n",
    "theta_est, loss_values, theta_values = result\n",
    "\n",
    "print('estimated theta value', theta_est.ravel())\n",
    "print('resulting loss', loss(x, y, theta_est))\n",
    "plt.ylabel('loss')\n",
    "plt.xlabel('iter_i')\n",
    "plt.plot(loss_values)\n",
    "plt.show()"
   ]
  },
  {
   "cell_type": "code",
   "execution_count": null,
   "metadata": {},
   "outputs": [],
   "source": []
  },
  {
   "cell_type": "markdown",
   "metadata": {},
   "source": [
    "# Cross Validation, 4 Fold"
   ]
  },
  {
   "cell_type": "code",
   "execution_count": 71,
   "metadata": {},
   "outputs": [],
   "source": [
    "splited_tranining_set_idx = np.load('splited_training_set.npy')"
   ]
  },
  {
   "cell_type": "code",
   "execution_count": 72,
   "metadata": {},
   "outputs": [],
   "source": [
    "K = 4\n",
    "theta_init = np.zeros((203, 1))"
   ]
  },
  {
   "cell_type": "code",
   "execution_count": 73,
   "metadata": {},
   "outputs": [],
   "source": [
    "CV_score = []\n",
    "for i in range(K):\n",
    "    current_train_idx = splited_tranining_set_idx[i][0]\n",
    "    current_test_idx = splited_tranining_set_idx[i][1]\n",
    "    X = x[current_train_idx]\n",
    "    Y = y[current_train_idx]\n",
    "    \n",
    "    result = run_gd(loss, loss_gradient, X, Y, theta_init)\n",
    "    theta_est, loss_values, theta_values = result\n",
    "    \n",
    "    X_ = x[current_test_idx]\n",
    "    Y_ = predict(X_, theta_est)\n",
    "    Y_real = y[current_test_idx]\n",
    "    cuurent_score = np.sqrt(sum((Y_ - Y_real)**2)/len(Y_real))\n",
    "    CV_score += [cuurent_score]"
   ]
  },
  {
   "cell_type": "code",
   "execution_count": 76,
   "metadata": {},
   "outputs": [
    {
     "data": {
      "text/plain": [
       "[array([0.80216511]),\n",
       " array([0.81774946]),\n",
       " array([0.90413246]),\n",
       " array([0.78258087])]"
      ]
     },
     "execution_count": 76,
     "metadata": {},
     "output_type": "execute_result"
    }
   ],
   "source": [
    "CV_score"
   ]
  },
  {
   "cell_type": "code",
   "execution_count": 90,
   "metadata": {},
   "outputs": [
    {
     "data": {
      "text/plain": [
       "0.8266569767399814"
      ]
     },
     "execution_count": 90,
     "metadata": {},
     "output_type": "execute_result"
    }
   ],
   "source": [
    "np.mean(CV_score)"
   ]
  },
  {
   "cell_type": "code",
   "execution_count": null,
   "metadata": {},
   "outputs": [],
   "source": [
    "0.82665697"
   ]
  },
  {
   "cell_type": "code",
   "execution_count": null,
   "metadata": {},
   "outputs": [],
   "source": []
  },
  {
   "cell_type": "code",
   "execution_count": null,
   "metadata": {},
   "outputs": [],
   "source": []
  },
  {
   "cell_type": "code",
   "execution_count": null,
   "metadata": {},
   "outputs": [],
   "source": []
  }
 ],
 "metadata": {
  "kernelspec": {
   "display_name": "Python 3",
   "language": "python",
   "name": "python3"
  },
  "language_info": {
   "codemirror_mode": {
    "name": "ipython",
    "version": 3
   },
   "file_extension": ".py",
   "mimetype": "text/x-python",
   "name": "python",
   "nbconvert_exporter": "python",
   "pygments_lexer": "ipython3",
   "version": "3.6.5"
  }
 },
 "nbformat": 4,
 "nbformat_minor": 2
}
