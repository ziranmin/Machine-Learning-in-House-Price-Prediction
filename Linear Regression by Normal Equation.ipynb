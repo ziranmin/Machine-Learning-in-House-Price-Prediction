{
 "cells": [
  {
   "cell_type": "code",
   "execution_count": 1,
   "metadata": {},
   "outputs": [],
   "source": [
    "import pandas as pd\n",
    "import numpy as np\n",
    "import matplotlib.pyplot as plt\n",
    "import seaborn as sns\n",
    "from scipy.stats import norm\n",
    "from scipy import stats\n",
    "import warnings\n",
    "warnings.filterwarnings('ignore')"
   ]
  },
  {
   "cell_type": "code",
   "execution_count": 2,
   "metadata": {},
   "outputs": [],
   "source": [
    "class Linear:\n",
    "    def __init__(self):\n",
    "        pass\n",
    "        \n",
    "    def fit(self, X, y):\n",
    "        leftmat = np.linalg.inv(X.T @ X)\n",
    "        self.betas = leftmat @ X.T @ y\n",
    "    \n",
    "    def predict(self, X):\n",
    "        return X @ self.betas"
   ]
  },
  {
   "cell_type": "code",
   "execution_count": 3,
   "metadata": {},
   "outputs": [],
   "source": [
    "train = pd.read_csv('train_cleaned.csv')"
   ]
  },
  {
   "cell_type": "code",
   "execution_count": 4,
   "metadata": {},
   "outputs": [
    {
     "data": {
      "text/plain": [
       "(1456, 204)"
      ]
     },
     "execution_count": 4,
     "metadata": {},
     "output_type": "execute_result"
    }
   ],
   "source": [
    "train.shape"
   ]
  },
  {
   "cell_type": "code",
   "execution_count": 5,
   "metadata": {},
   "outputs": [],
   "source": [
    "x = train.values[:, :-2]\n",
    "y = train.values[:, -2]\n",
    "y = y.reshape((1456,1))\n",
    "x = np.insert(x, 0, 1, axis=1)\n",
    "x_just_for_col_name = train.loc[:,'2ndFlrSF_log':'SaleType_WD']"
   ]
  },
  {
   "cell_type": "code",
   "execution_count": 77,
   "metadata": {},
   "outputs": [],
   "source": [
    "reg=Linear()"
   ]
  },
  {
   "cell_type": "code",
   "execution_count": 78,
   "metadata": {},
   "outputs": [],
   "source": [
    "reg.fit(x,y)"
   ]
  },
  {
   "cell_type": "code",
   "execution_count": 79,
   "metadata": {},
   "outputs": [
    {
     "data": {
      "text/plain": [
       "array([[11.85300267],\n",
       "       [11.25170716],\n",
       "       [12.26785403],\n",
       "       ...,\n",
       "       [14.60015805],\n",
       "       [11.76664712],\n",
       "       [12.70865401]])"
      ]
     },
     "execution_count": 79,
     "metadata": {},
     "output_type": "execute_result"
    }
   ],
   "source": [
    "reg.predict(x)"
   ]
  },
  {
   "cell_type": "code",
   "execution_count": 80,
   "metadata": {},
   "outputs": [
    {
     "data": {
      "text/plain": [
       "array([1.31623155])"
      ]
     },
     "execution_count": 80,
     "metadata": {},
     "output_type": "execute_result"
    }
   ],
   "source": [
    "np.sqrt(sum((reg.predict(x)-y)**2 )/len(y))"
   ]
  },
  {
   "cell_type": "code",
   "execution_count": 81,
   "metadata": {},
   "outputs": [
    {
     "data": {
      "text/plain": [
       "array([[-7.29279777e+01],\n",
       "       [ 2.58758549e-02],\n",
       "       [ 1.78384844e+00],\n",
       "       [ 1.28001205e+00],\n",
       "       [-6.04201751e-02],\n",
       "       [-5.39473949e-03],\n",
       "       [-5.80059294e-02],\n",
       "       [-2.32282486e-02],\n",
       "       [-5.15113367e-02],\n",
       "       [-3.65025672e-02],\n",
       "       [-5.47670218e-01],\n",
       "       [-1.59731004e-01],\n",
       "       [ 8.96014513e-02],\n",
       "       [ 1.63714910e-01],\n",
       "       [-2.38895143e-02],\n",
       "       [-7.76978475e-02],\n",
       "       [ 1.18591883e-01],\n",
       "       [-1.75736584e+00],\n",
       "       [-1.05777783e-02],\n",
       "       [ 1.55626079e-01],\n",
       "       [ 3.56984320e-01],\n",
       "       [-3.18444845e+00],\n",
       "       [ 6.69052363e-02],\n",
       "       [ 3.38553624e-01],\n",
       "       [ 1.52080744e-02],\n",
       "       [-6.37734590e-02],\n",
       "       [ 1.52382123e-01],\n",
       "       [ 1.29379713e-01],\n",
       "       [ 8.45378278e-02],\n",
       "       [-1.53137522e-01],\n",
       "       [ 5.18617897e+00],\n",
       "       [ 8.46331991e-01],\n",
       "       [ 2.49168960e-01],\n",
       "       [ 1.94976361e-01],\n",
       "       [ 1.07915074e-02],\n",
       "       [ 1.08895753e-01],\n",
       "       [ 2.85706976e-01],\n",
       "       [-2.12662378e-03],\n",
       "       [-3.36621614e-03],\n",
       "       [ 2.03906997e-02],\n",
       "       [-2.59471184e-02],\n",
       "       [ 3.12038782e-01],\n",
       "       [-3.15143013e-02],\n",
       "       [ 1.23731153e-01],\n",
       "       [ 2.11507963e+00],\n",
       "       [ 1.78422262e+01],\n",
       "       [ 5.01217297e+00],\n",
       "       [ 1.51093706e+01],\n",
       "       [ 1.23902755e-01],\n",
       "       [ 6.07801536e-02],\n",
       "       [ 2.71292107e-02],\n",
       "       [ 5.57477621e-02],\n",
       "       [-9.38306640e-04],\n",
       "       [ 4.20638290e-01],\n",
       "       [-4.65387549e-01],\n",
       "       [-4.61062894e-01],\n",
       "       [ 1.36866981e+01],\n",
       "       [ 3.76438094e+01],\n",
       "       [ 5.26588069e-01],\n",
       "       [-7.77737261e-01],\n",
       "       [ 7.48455616e-01],\n",
       "       [ 8.61056081e-01],\n",
       "       [-2.66495913e-02],\n",
       "       [ 9.11561304e-02],\n",
       "       [ 3.10349292e-01],\n",
       "       [-9.04176248e-02],\n",
       "       [-2.42867736e-02],\n",
       "       [-7.46653102e-02],\n",
       "       [-4.05270603e-02],\n",
       "       [-1.67881656e-01],\n",
       "       [ 3.62277147e-01],\n",
       "       [ 7.36208214e+00],\n",
       "       [ 7.67022610e+00],\n",
       "       [ 1.03705384e+01],\n",
       "       [ 8.07836211e+00],\n",
       "       [ 7.92057313e+00],\n",
       "       [ 1.26393007e+01],\n",
       "       [ 1.05033421e+01],\n",
       "       [ 2.01781570e-01],\n",
       "       [-2.43858170e-02],\n",
       "       [-1.84740881e+00],\n",
       "       [-2.34871736e-02],\n",
       "       [-9.02532929e-02],\n",
       "       [-2.75811630e-01],\n",
       "       [ 1.34458329e-01],\n",
       "       [ 1.28177358e+06],\n",
       "       [-1.07990589e-01],\n",
       "       [-3.20043058e-03],\n",
       "       [-8.40511388e-02],\n",
       "       [-3.41065366e-03],\n",
       "       [-6.87489675e-03],\n",
       "       [-3.66193584e-02],\n",
       "       [ 1.47786698e-02],\n",
       "       [-3.33096884e-02],\n",
       "       [-4.24608283e-02],\n",
       "       [-1.17030588e-02],\n",
       "       [ 6.72359334e-02],\n",
       "       [ 8.14815113e-02],\n",
       "       [-1.14406768e-02],\n",
       "       [-1.28176308e+06],\n",
       "       [ 1.39003811e-01],\n",
       "       [ 1.17732663e-02],\n",
       "       [ 5.58926295e-02],\n",
       "       [ 3.19184639e-02],\n",
       "       [ 2.83947015e-02],\n",
       "       [ 5.99893314e-03],\n",
       "       [-1.01767194e-03],\n",
       "       [ 2.37546810e-02],\n",
       "       [ 6.32199682e-02],\n",
       "       [ 5.04768843e-02],\n",
       "       [ 1.97866847e-02],\n",
       "       [ 2.36849097e-02],\n",
       "       [ 4.99531109e-02],\n",
       "       [ 6.91109234e-02],\n",
       "       [ 1.49674262e-01],\n",
       "       [-7.58979331e-02],\n",
       "       [ 8.52760612e-02],\n",
       "       [ 8.10228082e-02],\n",
       "       [ 8.36692994e-02],\n",
       "       [ 8.12105442e-03],\n",
       "       [ 9.76735226e-02],\n",
       "       [ 1.38156535e-01],\n",
       "       [ 4.67111212e-03],\n",
       "       [ 7.63280427e-02],\n",
       "       [-1.30704342e-01],\n",
       "       [ 4.12509711e-02],\n",
       "       [-8.90852548e-03],\n",
       "       [ 6.95200958e-02],\n",
       "       [-1.74295010e-02],\n",
       "       [-3.78578543e-03],\n",
       "       [ 3.45374720e-02],\n",
       "       [-6.30350321e-03],\n",
       "       [ 4.98687747e-02],\n",
       "       [ 2.37480373e-02],\n",
       "       [-1.00353813e-01],\n",
       "       [-8.86543770e-02],\n",
       "       [-9.81116390e-02],\n",
       "       [ 2.89137690e-02],\n",
       "       [-1.23732737e-02],\n",
       "       [ 4.14390702e-03],\n",
       "       [ 1.91345745e-02],\n",
       "       [-5.26910965e-02],\n",
       "       [-1.20095779e-01],\n",
       "       [-1.10890896e-02],\n",
       "       [ 4.40759455e-01],\n",
       "       [ 3.97660181e-01],\n",
       "       [ 3.87876497e-01],\n",
       "       [ 3.79244159e-01],\n",
       "       [ 5.66964010e-02],\n",
       "       [ 5.56931340e-02],\n",
       "       [ 9.88434391e-02],\n",
       "       [-2.37505439e-01],\n",
       "       [-3.03320650e-01],\n",
       "       [-1.58681895e-01],\n",
       "       [-3.81862490e-01],\n",
       "       [-1.97179722e-02],\n",
       "       [-2.37176694e-02],\n",
       "       [-4.38283113e-02],\n",
       "       [-6.98818269e-02],\n",
       "       [-5.35173858e-02],\n",
       "       [ 3.53769602e-02],\n",
       "       [-1.37547206e-01],\n",
       "       [-7.90871825e-02],\n",
       "       [-9.29046325e-02],\n",
       "       [-1.53829020e-01],\n",
       "       [-1.08932601e-01],\n",
       "       [-9.14811396e-02],\n",
       "       [-1.57516634e-02],\n",
       "       [-1.05066378e-01],\n",
       "       [ 5.76580811e-02],\n",
       "       [ 3.36821776e-02],\n",
       "       [-1.22629756e-01],\n",
       "       [-7.80825247e-02],\n",
       "       [-8.81643331e-02],\n",
       "       [-5.89877488e-02],\n",
       "       [-2.42549187e-02],\n",
       "       [ 1.09386105e-01],\n",
       "       [-5.38307414e-02],\n",
       "       [-2.15428097e-02],\n",
       "       [ 1.72188612e-01],\n",
       "       [ 1.06791017e-01],\n",
       "       [-6.96931191e-02],\n",
       "       [-4.87080404e-02],\n",
       "       [-1.44387031e-02],\n",
       "       [ 1.74470220e-01],\n",
       "       [-8.67547272e-03],\n",
       "       [-2.92437116e-02],\n",
       "       [ 2.65031565e-03],\n",
       "       [ 1.79052244e-02],\n",
       "       [ 2.27789696e-01],\n",
       "       [ 1.29137705e-01],\n",
       "       [ 3.96077536e-02],\n",
       "       [ 1.93226959e-02],\n",
       "       [ 6.83746055e-02],\n",
       "       [-1.73297223e-03],\n",
       "       [ 8.16648396e-02],\n",
       "       [ 1.33174477e-01],\n",
       "       [ 1.26412812e-01],\n",
       "       [ 2.55664782e-02],\n",
       "       [ 1.82219483e-02],\n",
       "       [ 9.72403803e-02],\n",
       "       [ 5.25343344e-02],\n",
       "       [-1.17135577e-02]])"
      ]
     },
     "execution_count": 81,
     "metadata": {},
     "output_type": "execute_result"
    }
   ],
   "source": [
    "reg.betas"
   ]
  },
  {
   "cell_type": "markdown",
   "metadata": {},
   "source": [
    "# Coef"
   ]
  },
  {
   "cell_type": "code",
   "execution_count": 94,
   "metadata": {},
   "outputs": [],
   "source": [
    "coef = pd.Series(reg.betas[1:].reshape(-1), index = x_just_for_col_name.columns)"
   ]
  },
  {
   "cell_type": "code",
   "execution_count": 97,
   "metadata": {},
   "outputs": [
    {
     "data": {
      "text/plain": [
       "Exterior1st_CBlock      1.281774e+06\n",
       "HasScreenPorch_log      3.764381e+01\n",
       "PoolQC_log              1.784223e+01\n",
       "Street_log              1.510937e+01\n",
       "Has3SsnPorch_log        1.368670e+01\n",
       "Condition2_RRAn         1.263930e+01\n",
       "Condition2_RRNn         1.050334e+01\n",
       "Condition2_PosA         1.037054e+01\n",
       "Condition2_PosN         8.078362e+00\n",
       "Condition2_RRAe         7.920573e+00\n",
       "Condition2_Norm         7.670226e+00\n",
       "Condition2_Feedr        7.362082e+00\n",
       "KitchenAbvGr_log        5.186179e+00\n",
       "ScreenPorch_log         5.012173e+00\n",
       "PoolArea_log            2.115080e+00\n",
       "3SsnPorch_log           1.783848e+00\n",
       "Alley_log               1.280012e+00\n",
       "BldgType_TwnhsE         8.610561e-01\n",
       "LandSlope_log           8.463320e-01\n",
       "BldgType_Twnhs          7.484556e-01\n",
       "Exterior1st_BrkComm    -2.758116e-01\n",
       "MiscFeature_Othr       -3.033207e-01\n",
       "MiscFeature_TenC       -3.818625e-01\n",
       "HasEnclosedPorch_log   -4.610629e-01\n",
       "HasOpenPorch_log       -4.653875e-01\n",
       "BsmtFinType2_log       -5.476702e-01\n",
       "BldgType_Duplex        -7.777373e-01\n",
       "ExterQual_log          -1.757366e+00\n",
       "Electrical_Mix         -1.847409e+00\n",
       "FullBath_log           -3.184448e+00\n",
       "Exterior2nd_CBlock     -1.281763e+06\n",
       "dtype: float64"
      ]
     },
     "execution_count": 97,
     "metadata": {},
     "output_type": "execute_result"
    }
   ],
   "source": [
    "imp_coef"
   ]
  },
  {
   "cell_type": "code",
   "execution_count": 95,
   "metadata": {},
   "outputs": [],
   "source": [
    "imp_coef = pd.concat([coef.sort_values()[-1:-21:-1],coef.sort_values()[10::-1]])"
   ]
  },
  {
   "cell_type": "code",
   "execution_count": 96,
   "metadata": {},
   "outputs": [
    {
     "data": {
      "text/plain": [
       "Text(0.5,1,'Coefficients in the  Model')"
      ]
     },
     "execution_count": 96,
     "metadata": {},
     "output_type": "execute_result"
    },
    {
     "data": {
      "image/png": "[encoded data removed]",
      "text/plain": [
       "<Figure size 576x720 with 1 Axes>"
      ]
     },
     "metadata": {},
     "output_type": "display_data"
    }
   ],
   "source": [
    "import matplotlib.pyplot as plt\n",
    "plt.rcParams['figure.figsize'] = (8.0, 10.0)\n",
    "imp_coef.plot(kind = \"barh\")\n",
    "plt.title(\"Coefficients in the  Model\")"
   ]
  },
  {
   "cell_type": "markdown",
   "metadata": {},
   "source": [
    "# CV"
   ]
  },
  {
   "cell_type": "code",
   "execution_count": 84,
   "metadata": {},
   "outputs": [],
   "source": [
    "splited_tranining_set_idx = np.load('splited_training_set.npy')\n",
    "K = 4"
   ]
  },
  {
   "cell_type": "code",
   "execution_count": 85,
   "metadata": {},
   "outputs": [
    {
     "ename": "LinAlgError",
     "evalue": "Singular matrix",
     "output_type": "error",
     "traceback": [
      "\u001b[0;31m---------------------------------------------------------------------------\u001b[0m",
      "\u001b[0;31mLinAlgError\u001b[0m                               Traceback (most recent call last)",
      "\u001b[0;32m<ipython-input-85-a96de241f5c8>\u001b[0m in \u001b[0;36m<module>\u001b[0;34m()\u001b[0m\n\u001b[1;32m      7\u001b[0m \u001b[0;34m\u001b[0m\u001b[0m\n\u001b[1;32m      8\u001b[0m     \u001b[0mreg_cur\u001b[0m \u001b[0;34m=\u001b[0m \u001b[0mLinear\u001b[0m\u001b[0;34m(\u001b[0m\u001b[0;34m)\u001b[0m\u001b[0;34m\u001b[0m\u001b[0m\n\u001b[0;32m----> 9\u001b[0;31m     \u001b[0mreg_cur\u001b[0m\u001b[0;34m.\u001b[0m\u001b[0mfit\u001b[0m\u001b[0;34m(\u001b[0m\u001b[0mX\u001b[0m\u001b[0;34m,\u001b[0m \u001b[0mY\u001b[0m\u001b[0;34m)\u001b[0m\u001b[0;34m\u001b[0m\u001b[0m\n\u001b[0m\u001b[1;32m     10\u001b[0m \u001b[0;34m\u001b[0m\u001b[0m\n\u001b[1;32m     11\u001b[0m     \u001b[0mX_\u001b[0m \u001b[0;34m=\u001b[0m \u001b[0mx\u001b[0m\u001b[0;34m[\u001b[0m\u001b[0mcurrent_test_idx\u001b[0m\u001b[0;34m]\u001b[0m\u001b[0;34m\u001b[0m\u001b[0m\n",
      "\u001b[0;32m<ipython-input-79-f2257c0cec87>\u001b[0m in \u001b[0;36mfit\u001b[0;34m(self, X, y)\u001b[0m\n\u001b[1;32m      4\u001b[0m \u001b[0;34m\u001b[0m\u001b[0m\n\u001b[1;32m      5\u001b[0m     \u001b[0;32mdef\u001b[0m \u001b[0mfit\u001b[0m\u001b[0;34m(\u001b[0m\u001b[0mself\u001b[0m\u001b[0;34m,\u001b[0m \u001b[0mX\u001b[0m\u001b[0;34m,\u001b[0m \u001b[0my\u001b[0m\u001b[0;34m)\u001b[0m\u001b[0;34m:\u001b[0m\u001b[0;34m\u001b[0m\u001b[0m\n\u001b[0;32m----> 6\u001b[0;31m         \u001b[0mleftmat\u001b[0m \u001b[0;34m=\u001b[0m \u001b[0mnp\u001b[0m\u001b[0;34m.\u001b[0m\u001b[0mlinalg\u001b[0m\u001b[0;34m.\u001b[0m\u001b[0minv\u001b[0m\u001b[0;34m(\u001b[0m\u001b[0mX\u001b[0m\u001b[0;34m.\u001b[0m\u001b[0mT\u001b[0m \u001b[0;34m@\u001b[0m \u001b[0mX\u001b[0m\u001b[0;34m)\u001b[0m\u001b[0;34m\u001b[0m\u001b[0m\n\u001b[0m\u001b[1;32m      7\u001b[0m         \u001b[0mself\u001b[0m\u001b[0;34m.\u001b[0m\u001b[0mbetas\u001b[0m \u001b[0;34m=\u001b[0m \u001b[0mleftmat\u001b[0m \u001b[0;34m@\u001b[0m \u001b[0mX\u001b[0m\u001b[0;34m.\u001b[0m\u001b[0mT\u001b[0m \u001b[0;34m@\u001b[0m \u001b[0my\u001b[0m\u001b[0;34m\u001b[0m\u001b[0m\n\u001b[1;32m      8\u001b[0m \u001b[0;34m\u001b[0m\u001b[0m\n",
      "\u001b[0;32m~/anaconda3/lib/python3.6/site-packages/numpy/linalg/linalg.py\u001b[0m in \u001b[0;36minv\u001b[0;34m(a)\u001b[0m\n\u001b[1;32m    526\u001b[0m     \u001b[0msignature\u001b[0m \u001b[0;34m=\u001b[0m \u001b[0;34m'D->D'\u001b[0m \u001b[0;32mif\u001b[0m \u001b[0misComplexType\u001b[0m\u001b[0;34m(\u001b[0m\u001b[0mt\u001b[0m\u001b[0;34m)\u001b[0m \u001b[0;32melse\u001b[0m \u001b[0;34m'd->d'\u001b[0m\u001b[0;34m\u001b[0m\u001b[0m\n\u001b[1;32m    527\u001b[0m     \u001b[0mextobj\u001b[0m \u001b[0;34m=\u001b[0m \u001b[0mget_linalg_error_extobj\u001b[0m\u001b[0;34m(\u001b[0m\u001b[0m_raise_linalgerror_singular\u001b[0m\u001b[0;34m)\u001b[0m\u001b[0;34m\u001b[0m\u001b[0m\n\u001b[0;32m--> 528\u001b[0;31m     \u001b[0mainv\u001b[0m \u001b[0;34m=\u001b[0m \u001b[0m_umath_linalg\u001b[0m\u001b[0;34m.\u001b[0m\u001b[0minv\u001b[0m\u001b[0;34m(\u001b[0m\u001b[0ma\u001b[0m\u001b[0;34m,\u001b[0m \u001b[0msignature\u001b[0m\u001b[0;34m=\u001b[0m\u001b[0msignature\u001b[0m\u001b[0;34m,\u001b[0m \u001b[0mextobj\u001b[0m\u001b[0;34m=\u001b[0m\u001b[0mextobj\u001b[0m\u001b[0;34m)\u001b[0m\u001b[0;34m\u001b[0m\u001b[0m\n\u001b[0m\u001b[1;32m    529\u001b[0m     \u001b[0;32mreturn\u001b[0m \u001b[0mwrap\u001b[0m\u001b[0;34m(\u001b[0m\u001b[0mainv\u001b[0m\u001b[0;34m.\u001b[0m\u001b[0mastype\u001b[0m\u001b[0;34m(\u001b[0m\u001b[0mresult_t\u001b[0m\u001b[0;34m,\u001b[0m \u001b[0mcopy\u001b[0m\u001b[0;34m=\u001b[0m\u001b[0;32mFalse\u001b[0m\u001b[0;34m)\u001b[0m\u001b[0;34m)\u001b[0m\u001b[0;34m\u001b[0m\u001b[0m\n\u001b[1;32m    530\u001b[0m \u001b[0;34m\u001b[0m\u001b[0m\n",
      "\u001b[0;32m~/anaconda3/lib/python3.6/site-packages/numpy/linalg/linalg.py\u001b[0m in \u001b[0;36m_raise_linalgerror_singular\u001b[0;34m(err, flag)\u001b[0m\n\u001b[1;32m     87\u001b[0m \u001b[0;34m\u001b[0m\u001b[0m\n\u001b[1;32m     88\u001b[0m \u001b[0;32mdef\u001b[0m \u001b[0m_raise_linalgerror_singular\u001b[0m\u001b[0;34m(\u001b[0m\u001b[0merr\u001b[0m\u001b[0;34m,\u001b[0m \u001b[0mflag\u001b[0m\u001b[0;34m)\u001b[0m\u001b[0;34m:\u001b[0m\u001b[0;34m\u001b[0m\u001b[0m\n\u001b[0;32m---> 89\u001b[0;31m     \u001b[0;32mraise\u001b[0m \u001b[0mLinAlgError\u001b[0m\u001b[0;34m(\u001b[0m\u001b[0;34m\"Singular matrix\"\u001b[0m\u001b[0;34m)\u001b[0m\u001b[0;34m\u001b[0m\u001b[0m\n\u001b[0m\u001b[1;32m     90\u001b[0m \u001b[0;34m\u001b[0m\u001b[0m\n\u001b[1;32m     91\u001b[0m \u001b[0;32mdef\u001b[0m \u001b[0m_raise_linalgerror_nonposdef\u001b[0m\u001b[0;34m(\u001b[0m\u001b[0merr\u001b[0m\u001b[0;34m,\u001b[0m \u001b[0mflag\u001b[0m\u001b[0;34m)\u001b[0m\u001b[0;34m:\u001b[0m\u001b[0;34m\u001b[0m\u001b[0m\n",
      "\u001b[0;31mLinAlgError\u001b[0m: Singular matrix"
     ]
    }
   ],
   "source": [
    "CV_score = []\n",
    "for i in range(K):\n",
    "    current_train_idx = splited_tranining_set_idx[i][0]\n",
    "    current_test_idx = splited_tranining_set_idx[i][1]\n",
    "    X = x[current_train_idx]\n",
    "    Y = y[current_train_idx]\n",
    "    \n",
    "    reg_cur = Linear()\n",
    "    reg_cur.fit(X, Y)\n",
    "    \n",
    "    X_ = x[current_test_idx]\n",
    "    Y_ = reg_cur.predict(X_)\n",
    "    \n",
    "    Y_real = y[current_test_idx]\n",
    "    \n",
    "    cuurent_score = np.sqrt(sum((Y_ - Y_real)**2)/len(Y_real))\n",
    "    CV_score += [cuurent_score]"
   ]
  },
  {
   "cell_type": "code",
   "execution_count": null,
   "metadata": {},
   "outputs": [],
   "source": [
    "CV_score"
   ]
  },
  {
   "cell_type": "code",
   "execution_count": null,
   "metadata": {},
   "outputs": [],
   "source": [
    "np.mean(CV_score)"
   ]
  },
  {
   "cell_type": "code",
   "execution_count": 86,
   "metadata": {},
   "outputs": [],
   "source": [
    "current_train_idx = splited_tranining_set_idx[0][0]\n",
    "current_test_idx = splited_tranining_set_idx[0][1]"
   ]
  },
  {
   "cell_type": "code",
   "execution_count": 87,
   "metadata": {},
   "outputs": [],
   "source": [
    "X = x[current_train_idx]\n",
    "Y = y[current_train_idx]"
   ]
  },
  {
   "cell_type": "code",
   "execution_count": 88,
   "metadata": {},
   "outputs": [
    {
     "ename": "LinAlgError",
     "evalue": "Singular matrix",
     "output_type": "error",
     "traceback": [
      "\u001b[0;31m---------------------------------------------------------------------------\u001b[0m",
      "\u001b[0;31mLinAlgError\u001b[0m                               Traceback (most recent call last)",
      "\u001b[0;32m<ipython-input-88-78fbb9e09df0>\u001b[0m in \u001b[0;36m<module>\u001b[0;34m()\u001b[0m\n\u001b[1;32m      1\u001b[0m \u001b[0mreg_cur\u001b[0m \u001b[0;34m=\u001b[0m \u001b[0mLinear\u001b[0m\u001b[0;34m(\u001b[0m\u001b[0;34m)\u001b[0m\u001b[0;34m\u001b[0m\u001b[0m\n\u001b[0;32m----> 2\u001b[0;31m \u001b[0mreg_cur\u001b[0m\u001b[0;34m.\u001b[0m\u001b[0mfit\u001b[0m\u001b[0;34m(\u001b[0m\u001b[0mX\u001b[0m\u001b[0;34m,\u001b[0m \u001b[0mY\u001b[0m\u001b[0;34m)\u001b[0m\u001b[0;34m\u001b[0m\u001b[0m\n\u001b[0m\u001b[1;32m      3\u001b[0m \u001b[0mY_\u001b[0m \u001b[0;34m=\u001b[0m \u001b[0mreg_cur\u001b[0m\u001b[0;34m.\u001b[0m\u001b[0mpredict\u001b[0m\u001b[0;34m(\u001b[0m\u001b[0mX\u001b[0m\u001b[0;34m)\u001b[0m\u001b[0;34m\u001b[0m\u001b[0m\n",
      "\u001b[0;32m<ipython-input-79-f2257c0cec87>\u001b[0m in \u001b[0;36mfit\u001b[0;34m(self, X, y)\u001b[0m\n\u001b[1;32m      4\u001b[0m \u001b[0;34m\u001b[0m\u001b[0m\n\u001b[1;32m      5\u001b[0m     \u001b[0;32mdef\u001b[0m \u001b[0mfit\u001b[0m\u001b[0;34m(\u001b[0m\u001b[0mself\u001b[0m\u001b[0;34m,\u001b[0m \u001b[0mX\u001b[0m\u001b[0;34m,\u001b[0m \u001b[0my\u001b[0m\u001b[0;34m)\u001b[0m\u001b[0;34m:\u001b[0m\u001b[0;34m\u001b[0m\u001b[0m\n\u001b[0;32m----> 6\u001b[0;31m         \u001b[0mleftmat\u001b[0m \u001b[0;34m=\u001b[0m \u001b[0mnp\u001b[0m\u001b[0;34m.\u001b[0m\u001b[0mlinalg\u001b[0m\u001b[0;34m.\u001b[0m\u001b[0minv\u001b[0m\u001b[0;34m(\u001b[0m\u001b[0mX\u001b[0m\u001b[0;34m.\u001b[0m\u001b[0mT\u001b[0m \u001b[0;34m@\u001b[0m \u001b[0mX\u001b[0m\u001b[0;34m)\u001b[0m\u001b[0;34m\u001b[0m\u001b[0m\n\u001b[0m\u001b[1;32m      7\u001b[0m         \u001b[0mself\u001b[0m\u001b[0;34m.\u001b[0m\u001b[0mbetas\u001b[0m \u001b[0;34m=\u001b[0m \u001b[0mleftmat\u001b[0m \u001b[0;34m@\u001b[0m \u001b[0mX\u001b[0m\u001b[0;34m.\u001b[0m\u001b[0mT\u001b[0m \u001b[0;34m@\u001b[0m \u001b[0my\u001b[0m\u001b[0;34m\u001b[0m\u001b[0m\n\u001b[1;32m      8\u001b[0m \u001b[0;34m\u001b[0m\u001b[0m\n",
      "\u001b[0;32m~/anaconda3/lib/python3.6/site-packages/numpy/linalg/linalg.py\u001b[0m in \u001b[0;36minv\u001b[0;34m(a)\u001b[0m\n\u001b[1;32m    526\u001b[0m     \u001b[0msignature\u001b[0m \u001b[0;34m=\u001b[0m \u001b[0;34m'D->D'\u001b[0m \u001b[0;32mif\u001b[0m \u001b[0misComplexType\u001b[0m\u001b[0;34m(\u001b[0m\u001b[0mt\u001b[0m\u001b[0;34m)\u001b[0m \u001b[0;32melse\u001b[0m \u001b[0;34m'd->d'\u001b[0m\u001b[0;34m\u001b[0m\u001b[0m\n\u001b[1;32m    527\u001b[0m     \u001b[0mextobj\u001b[0m \u001b[0;34m=\u001b[0m \u001b[0mget_linalg_error_extobj\u001b[0m\u001b[0;34m(\u001b[0m\u001b[0m_raise_linalgerror_singular\u001b[0m\u001b[0;34m)\u001b[0m\u001b[0;34m\u001b[0m\u001b[0m\n\u001b[0;32m--> 528\u001b[0;31m     \u001b[0mainv\u001b[0m \u001b[0;34m=\u001b[0m \u001b[0m_umath_linalg\u001b[0m\u001b[0;34m.\u001b[0m\u001b[0minv\u001b[0m\u001b[0;34m(\u001b[0m\u001b[0ma\u001b[0m\u001b[0;34m,\u001b[0m \u001b[0msignature\u001b[0m\u001b[0;34m=\u001b[0m\u001b[0msignature\u001b[0m\u001b[0;34m,\u001b[0m \u001b[0mextobj\u001b[0m\u001b[0;34m=\u001b[0m\u001b[0mextobj\u001b[0m\u001b[0;34m)\u001b[0m\u001b[0;34m\u001b[0m\u001b[0m\n\u001b[0m\u001b[1;32m    529\u001b[0m     \u001b[0;32mreturn\u001b[0m \u001b[0mwrap\u001b[0m\u001b[0;34m(\u001b[0m\u001b[0mainv\u001b[0m\u001b[0;34m.\u001b[0m\u001b[0mastype\u001b[0m\u001b[0;34m(\u001b[0m\u001b[0mresult_t\u001b[0m\u001b[0;34m,\u001b[0m \u001b[0mcopy\u001b[0m\u001b[0;34m=\u001b[0m\u001b[0;32mFalse\u001b[0m\u001b[0;34m)\u001b[0m\u001b[0;34m)\u001b[0m\u001b[0;34m\u001b[0m\u001b[0m\n\u001b[1;32m    530\u001b[0m \u001b[0;34m\u001b[0m\u001b[0m\n",
      "\u001b[0;32m~/anaconda3/lib/python3.6/site-packages/numpy/linalg/linalg.py\u001b[0m in \u001b[0;36m_raise_linalgerror_singular\u001b[0;34m(err, flag)\u001b[0m\n\u001b[1;32m     87\u001b[0m \u001b[0;34m\u001b[0m\u001b[0m\n\u001b[1;32m     88\u001b[0m \u001b[0;32mdef\u001b[0m \u001b[0m_raise_linalgerror_singular\u001b[0m\u001b[0;34m(\u001b[0m\u001b[0merr\u001b[0m\u001b[0;34m,\u001b[0m \u001b[0mflag\u001b[0m\u001b[0;34m)\u001b[0m\u001b[0;34m:\u001b[0m\u001b[0;34m\u001b[0m\u001b[0m\n\u001b[0;32m---> 89\u001b[0;31m     \u001b[0;32mraise\u001b[0m \u001b[0mLinAlgError\u001b[0m\u001b[0;34m(\u001b[0m\u001b[0;34m\"Singular matrix\"\u001b[0m\u001b[0;34m)\u001b[0m\u001b[0;34m\u001b[0m\u001b[0m\n\u001b[0m\u001b[1;32m     90\u001b[0m \u001b[0;34m\u001b[0m\u001b[0m\n\u001b[1;32m     91\u001b[0m \u001b[0;32mdef\u001b[0m \u001b[0m_raise_linalgerror_nonposdef\u001b[0m\u001b[0;34m(\u001b[0m\u001b[0merr\u001b[0m\u001b[0;34m,\u001b[0m \u001b[0mflag\u001b[0m\u001b[0;34m)\u001b[0m\u001b[0;34m:\u001b[0m\u001b[0;34m\u001b[0m\u001b[0m\n",
      "\u001b[0;31mLinAlgError\u001b[0m: Singular matrix"
     ]
    }
   ],
   "source": [
    "reg_cur = Linear()\n",
    "reg_cur.fit(X, Y)\n",
    "Y_ = reg_cur.predict(X)"
   ]
  },
  {
   "cell_type": "code",
   "execution_count": null,
   "metadata": {},
   "outputs": [],
   "source": [
    "Y_real = y[current_test_idx]"
   ]
  },
  {
   "cell_type": "code",
   "execution_count": null,
   "metadata": {},
   "outputs": [],
   "source": []
  }
 ],
 "metadata": {
  "kernelspec": {
   "display_name": "Python 3",
   "language": "python",
   "name": "python3"
  },
  "language_info": {
   "codemirror_mode": {
    "name": "ipython",
    "version": 3
   },
   "file_extension": ".py",
   "mimetype": "text/x-python",
   "name": "python",
   "nbconvert_exporter": "python",
   "pygments_lexer": "ipython3",
   "version": "3.6.5"
  }
 },
 "nbformat": 4,
 "nbformat_minor": 2
}
