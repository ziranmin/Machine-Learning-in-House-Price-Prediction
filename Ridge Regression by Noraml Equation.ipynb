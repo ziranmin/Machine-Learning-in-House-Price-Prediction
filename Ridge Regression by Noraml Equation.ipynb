{
 "cells": [
  {
   "cell_type": "code",
   "execution_count": 1,
   "metadata": {},
   "outputs": [],
   "source": [
    "import pandas as pd\n",
    "import numpy as np\n",
    "import matplotlib.pyplot as plt\n",
    "import seaborn as sns\n",
    "from scipy.stats import norm\n",
    "from scipy import stats\n",
    "import warnings\n",
    "warnings.filterwarnings('ignore')"
   ]
  },
  {
   "cell_type": "code",
   "execution_count": 2,
   "metadata": {},
   "outputs": [],
   "source": [
    "class Ridge:\n",
    "    def __init__(self, alpha):\n",
    "        self.alpha = alpha\n",
    "        \n",
    "    def fit(self, X, y):\n",
    "        leftmat = np.linalg.inv(X.T @ X + self.alpha * np.identity(X.shape[1]))\n",
    "        self.betas = leftmat @ X.T @ y\n",
    "    \n",
    "    def predict(self, X):\n",
    "        return X @ self.betas"
   ]
  },
  {
   "cell_type": "code",
   "execution_count": 3,
   "metadata": {},
   "outputs": [],
   "source": [
    "train = pd.read_csv('train_cleaned.csv')"
   ]
  },
  {
   "cell_type": "code",
   "execution_count": 4,
   "metadata": {},
   "outputs": [],
   "source": [
    "x = train.values[:, :-2]\n",
    "y = train.values[:, -2]\n",
    "y = y.reshape((1456,1))\n",
    "x = np.insert(x, 0, 1, axis=1)\n",
    "x_just_for_col_name = train.loc[:,'2ndFlrSF_log':'SaleType_WD']"
   ]
  },
  {
   "cell_type": "code",
   "execution_count": 5,
   "metadata": {},
   "outputs": [],
   "source": [
    "reg=Ridge(alpha = 0.6)"
   ]
  },
  {
   "cell_type": "code",
   "execution_count": 97,
   "metadata": {},
   "outputs": [],
   "source": [
    "reg.fit(x,y)"
   ]
  },
  {
   "cell_type": "code",
   "execution_count": null,
   "metadata": {},
   "outputs": [],
   "source": []
  },
  {
   "cell_type": "code",
   "execution_count": 98,
   "metadata": {},
   "outputs": [
    {
     "data": {
      "text/plain": [
       "array([[12.23236865],\n",
       "       [12.14662164],\n",
       "       [12.28548585],\n",
       "       ...,\n",
       "       [12.57307601],\n",
       "       [11.87452952],\n",
       "       [11.96183276]])"
      ]
     },
     "execution_count": 98,
     "metadata": {},
     "output_type": "execute_result"
    }
   ],
   "source": [
    "reg.predict(x)"
   ]
  },
  {
   "cell_type": "code",
   "execution_count": 99,
   "metadata": {},
   "outputs": [
    {
     "data": {
      "text/plain": [
       "array([[-0.01532567],\n",
       "       [ 0.03761071],\n",
       "       [-0.03168084],\n",
       "       ...,\n",
       "       [ 0.07994649],\n",
       "       [ 0.01006729],\n",
       "       [ 0.06024931]])"
      ]
     },
     "execution_count": 99,
     "metadata": {},
     "output_type": "execute_result"
    }
   ],
   "source": [
    "reg.predict(x)-y"
   ]
  },
  {
   "cell_type": "code",
   "execution_count": 100,
   "metadata": {},
   "outputs": [
    {
     "data": {
      "text/plain": [
       "array([0.1054397])"
      ]
     },
     "execution_count": 100,
     "metadata": {},
     "output_type": "execute_result"
    }
   ],
   "source": [
    "np.sqrt(sum((reg.predict(x)-y)**2 )/len(y))"
   ]
  },
  {
   "cell_type": "code",
   "execution_count": 104,
   "metadata": {},
   "outputs": [
    {
     "data": {
      "text/plain": [
       "array([[ 9.24733287e-01],\n",
       "       [-7.46804480e-03],\n",
       "       [ 7.31166473e-02],\n",
       "       [ 4.49086710e-02],\n",
       "       [-6.66119577e-02],\n",
       "       [ 1.63948784e-02],\n",
       "       [-9.48049914e-03],\n",
       "       [ 7.55436251e-03],\n",
       "       [-3.17130592e-03],\n",
       "       [ 5.61757867e-03],\n",
       "       [-3.55806737e-03],\n",
       "       [ 4.99071830e-02],\n",
       "       [ 2.21695034e-02],\n",
       "       [-4.14586782e-02],\n",
       "       [-6.27372882e-03],\n",
       "       [ 2.83973826e-02],\n",
       "       [ 2.44532988e-02],\n",
       "       [-5.84293925e-02],\n",
       "       [ 1.50526857e-02],\n",
       "       [-7.22999345e-04],\n",
       "       [ 1.72148372e-02],\n",
       "       [ 4.57909014e-02],\n",
       "       [ 1.25179371e-01],\n",
       "       [ 1.06363080e-01],\n",
       "       [ 3.69132656e-02],\n",
       "       [-5.24143368e-03],\n",
       "       [ 1.15209673e-02],\n",
       "       [ 6.70125723e-01],\n",
       "       [ 1.31759639e-02],\n",
       "       [-1.81829459e-02],\n",
       "       [-7.43283005e-02],\n",
       "       [ 4.84146281e-03],\n",
       "       [ 1.22411586e-01],\n",
       "       [ 4.72690361e-02],\n",
       "       [ 1.15144376e-02],\n",
       "       [-8.74576708e-03],\n",
       "       [ 1.20303854e-02],\n",
       "       [ 2.20425430e-04],\n",
       "       [ 2.56837586e-02],\n",
       "       [ 3.75377268e-03],\n",
       "       [ 1.32294223e-02],\n",
       "       [ 2.61480506e-01],\n",
       "       [ 3.98505536e-02],\n",
       "       [ 1.71106650e-02],\n",
       "       [ 8.93848879e-02],\n",
       "       [ 4.99776393e-01],\n",
       "       [ 7.58769313e-02],\n",
       "       [ 2.36408338e-01],\n",
       "       [ 2.58995975e-02],\n",
       "       [ 2.43891889e-02],\n",
       "       [ 1.08822261e-01],\n",
       "       [ 1.41549628e-02],\n",
       "       [-8.11470441e-03],\n",
       "       [ 1.55183034e-01],\n",
       "       [ 8.13785271e-02],\n",
       "       [ 1.79428412e-01],\n",
       "       [ 5.54571498e-01],\n",
       "       [ 5.16856223e-01],\n",
       "       [-4.10472448e-02],\n",
       "       [-8.42047628e-02],\n",
       "       [ 6.05462085e-02],\n",
       "       [ 5.71047128e-02],\n",
       "       [ 2.83135086e-02],\n",
       "       [ 4.36655759e-02],\n",
       "       [ 8.03681784e-02],\n",
       "       [-2.18792526e-02],\n",
       "       [ 5.47576234e-02],\n",
       "       [-7.87148603e-02],\n",
       "       [ 5.52485106e-02],\n",
       "       [-6.66241663e-03],\n",
       "       [ 1.19637117e-01],\n",
       "       [ 8.67769234e-02],\n",
       "       [ 1.10131696e-01],\n",
       "       [ 3.32339181e-01],\n",
       "       [ 5.71378443e-02],\n",
       "       [ 6.20092103e-02],\n",
       "       [-3.64987147e-02],\n",
       "       [ 1.13653180e-01],\n",
       "       [ 1.77211907e-02],\n",
       "       [-2.20920988e-02],\n",
       "       [ 5.76432430e-03],\n",
       "       [ 8.48941283e-03],\n",
       "       [-6.01463671e-02],\n",
       "       [-7.26062216e-02],\n",
       "       [ 1.14620382e-01],\n",
       "       [-4.06774936e-02],\n",
       "       [-4.26515979e-02],\n",
       "       [ 4.65962552e-02],\n",
       "       [-3.25926663e-02],\n",
       "       [ 4.80510557e-02],\n",
       "       [ 3.09619028e-02],\n",
       "       [-6.23716273e-02],\n",
       "       [ 4.97761183e-02],\n",
       "       [ 6.59243013e-03],\n",
       "       [ 1.31661878e-02],\n",
       "       [ 6.75778632e-02],\n",
       "       [ 1.59769979e-02],\n",
       "       [ 2.13226165e-02],\n",
       "       [-3.38899403e-02],\n",
       "       [-4.06774936e-02],\n",
       "       [ 9.30948284e-02],\n",
       "       [-9.44006033e-03],\n",
       "       [ 6.33242196e-02],\n",
       "       [ 4.88434549e-03],\n",
       "       [ 2.31699857e-02],\n",
       "       [-2.29942368e-02],\n",
       "       [-1.69120334e-02],\n",
       "       [ 5.84389287e-02],\n",
       "       [ 5.23159181e-02],\n",
       "       [ 2.39986594e-02],\n",
       "       [-3.95876560e-03],\n",
       "       [ 1.71882736e-02],\n",
       "       [ 4.75189365e-02],\n",
       "       [ 6.00190849e-02],\n",
       "       [ 9.59251694e-02],\n",
       "       [-1.03496574e-01],\n",
       "       [ 9.45401379e-02],\n",
       "       [ 8.69900849e-02],\n",
       "       [ 8.39542746e-02],\n",
       "       [ 3.14999880e-02],\n",
       "       [ 1.17620855e-01],\n",
       "       [ 1.56316251e-01],\n",
       "       [ 1.58470935e-01],\n",
       "       [ 1.78571352e-01],\n",
       "       [ 5.07326282e-02],\n",
       "       [ 1.71385873e-01],\n",
       "       [ 1.20723378e-01],\n",
       "       [ 1.23615506e-01],\n",
       "       [ 4.75373678e-02],\n",
       "       [-6.79503235e-02],\n",
       "       [ 2.53692458e-02],\n",
       "       [-1.86648229e-03],\n",
       "       [ 9.14241642e-02],\n",
       "       [ 3.23693856e-02],\n",
       "       [-6.23695797e-02],\n",
       "       [-7.56192867e-02],\n",
       "       [-7.61277355e-02],\n",
       "       [ 4.21295306e-02],\n",
       "       [-8.44905967e-04],\n",
       "       [ 1.64377347e-02],\n",
       "       [ 2.49855082e-02],\n",
       "       [-3.98023983e-02],\n",
       "       [-8.70897058e-02],\n",
       "       [-1.97725868e-03],\n",
       "       [ 3.59309578e-01],\n",
       "       [ 3.12829173e-01],\n",
       "       [ 3.15999319e-01],\n",
       "       [ 3.01040446e-01],\n",
       "       [ 9.61726790e-02],\n",
       "       [ 1.01161111e-01],\n",
       "       [ 1.39114374e-01],\n",
       "       [ 3.59740493e-01],\n",
       "       [ 8.30400814e-02],\n",
       "       [ 1.81706462e-01],\n",
       "       [-7.77449482e-02],\n",
       "       [ 4.48812876e-02],\n",
       "       [ 4.25170601e-02],\n",
       "       [ 5.52325453e-02],\n",
       "       [-1.98042387e-02],\n",
       "       [-1.29691347e-02],\n",
       "       [ 7.78955043e-02],\n",
       "       [-7.48359221e-02],\n",
       "       [-2.95675832e-02],\n",
       "       [-9.41863015e-03],\n",
       "       [-8.53701922e-02],\n",
       "       [-7.15052808e-02],\n",
       "       [-3.23890675e-02],\n",
       "       [ 6.89516023e-02],\n",
       "       [-6.74069813e-02],\n",
       "       [ 6.39291346e-02],\n",
       "       [ 5.78027881e-02],\n",
       "       [-3.02658446e-02],\n",
       "       [-1.94346112e-02],\n",
       "       [-3.42534051e-02],\n",
       "       [-2.04372051e-02],\n",
       "       [ 1.36752471e-02],\n",
       "       [ 1.30111651e-01],\n",
       "       [-1.18495638e-02],\n",
       "       [ 3.09319183e-03],\n",
       "       [ 1.45497331e-01],\n",
       "       [ 1.48603114e-01],\n",
       "       [-2.11139252e-02],\n",
       "       [-1.83162143e-02],\n",
       "       [-3.08436884e-02],\n",
       "       [ 1.04304438e-01],\n",
       "       [ 9.20522841e-02],\n",
       "       [ 3.66563477e-02],\n",
       "       [ 9.41796314e-02],\n",
       "       [ 1.08745988e-01],\n",
       "       [ 1.43222109e-01],\n",
       "       [ 1.61329294e-01],\n",
       "       [ 8.25587886e-03],\n",
       "       [-4.28403748e-03],\n",
       "       [ 5.96011425e-02],\n",
       "       [ 1.95397511e-02],\n",
       "       [ 7.95553771e-02],\n",
       "       [ 1.16033689e-01],\n",
       "       [ 1.26566813e-01],\n",
       "       [ 3.62177052e-02],\n",
       "       [ 4.96045407e-02],\n",
       "       [ 9.43285023e-02],\n",
       "       [ 1.22216648e-01],\n",
       "       [ 1.35842228e-02]])"
      ]
     },
     "execution_count": 104,
     "metadata": {},
     "output_type": "execute_result"
    }
   ],
   "source": [
    "reg.betas"
   ]
  },
  {
   "cell_type": "markdown",
   "metadata": {},
   "source": [
    "# Coef"
   ]
  },
  {
   "cell_type": "code",
   "execution_count": 101,
   "metadata": {},
   "outputs": [],
   "source": [
    "coef = pd.Series(reg.betas[1:].reshape(-1), index = x_just_for_col_name.columns)"
   ]
  },
  {
   "cell_type": "code",
   "execution_count": 102,
   "metadata": {},
   "outputs": [],
   "source": [
    "imp_coef = pd.concat([coef.sort_values()[-1:-21:-1],coef.sort_values()[10::-1]])"
   ]
  },
  {
   "cell_type": "code",
   "execution_count": 103,
   "metadata": {},
   "outputs": [
    {
     "data": {
      "text/plain": [
       "Text(0.5,1,'Coefficients in the  Model')"
      ]
     },
     "execution_count": 103,
     "metadata": {},
     "output_type": "execute_result"
    },
    {
     "data": {
      "image/png": "[encoded data removed]",
      "text/plain": [
       "<Figure size 576x720 with 1 Axes>"
      ]
     },
     "metadata": {},
     "output_type": "display_data"
    }
   ],
   "source": [
    "import matplotlib.pyplot as plt\n",
    "plt.rcParams['figure.figsize'] = (8.0, 10.0)\n",
    "imp_coef.plot(kind = \"barh\")\n",
    "plt.title(\"Coefficients in the  Model\")"
   ]
  },
  {
   "cell_type": "markdown",
   "metadata": {},
   "source": [
    "# CV"
   ]
  },
  {
   "cell_type": "code",
   "execution_count": 9,
   "metadata": {},
   "outputs": [],
   "source": [
    "splited_tranining_set_idx = np.load('splited_training_set.npy')\n",
    "K = 4"
   ]
  },
  {
   "cell_type": "code",
   "execution_count": 10,
   "metadata": {},
   "outputs": [],
   "source": [
    "CV_score = []\n",
    "for i in range(K):\n",
    "    current_train_idx = splited_tranining_set_idx[i][0]\n",
    "    current_test_idx = splited_tranining_set_idx[i][1]\n",
    "    X = x[current_train_idx]\n",
    "    Y = y[current_train_idx]\n",
    "    \n",
    "    reg_cur = Ridge(alpha = 1)\n",
    "    reg_cur.fit(X, Y)\n",
    "    \n",
    "    X_ = x[current_test_idx]\n",
    "    Y_ = reg_cur.predict(X_)\n",
    "    \n",
    "    Y_real = y[current_test_idx]\n",
    "    \n",
    "    cuurent_score = np.sqrt(sum((Y_ - Y_real)**2)/len(Y_real))\n",
    "    CV_score += [cuurent_score]"
   ]
  },
  {
   "cell_type": "code",
   "execution_count": 11,
   "metadata": {},
   "outputs": [
    {
     "data": {
      "text/plain": [
       "[array([0.113426]),\n",
       " array([0.15005475]),\n",
       " array([0.12956065]),\n",
       " array([0.13482057])]"
      ]
     },
     "execution_count": 11,
     "metadata": {},
     "output_type": "execute_result"
    }
   ],
   "source": [
    "CV_score"
   ]
  },
  {
   "cell_type": "code",
   "execution_count": 12,
   "metadata": {},
   "outputs": [
    {
     "data": {
      "text/plain": [
       "0.13196549260668244"
      ]
     },
     "execution_count": 12,
     "metadata": {},
     "output_type": "execute_result"
    }
   ],
   "source": [
    "np.mean(CV_score)"
   ]
  },
  {
   "cell_type": "code",
   "execution_count": 13,
   "metadata": {},
   "outputs": [
    {
     "data": {
      "text/plain": [
       "0.13196549260668244"
      ]
     },
     "execution_count": 13,
     "metadata": {},
     "output_type": "execute_result"
    }
   ],
   "source": [
    "0.13196549260668244"
   ]
  },
  {
   "cell_type": "code",
   "execution_count": 14,
   "metadata": {},
   "outputs": [],
   "source": [
    "def CV(alpha):\n",
    "    CV_score = []\n",
    "    for i in range(K):\n",
    "        current_train_idx = splited_tranining_set_idx[i][0]\n",
    "        current_test_idx = splited_tranining_set_idx[i][1]\n",
    "        X = x[current_train_idx]\n",
    "        Y = y[current_train_idx]\n",
    "    \n",
    "        reg_cur = Ridge(alpha = alpha)\n",
    "        reg_cur.fit(X, Y)\n",
    "    \n",
    "        X_ = x[current_test_idx]\n",
    "        Y_ = reg_cur.predict(X_)\n",
    "    \n",
    "        Y_real = y[current_test_idx]\n",
    "    \n",
    "        cuurent_score = np.sqrt(sum((Y_ - Y_real)**2)/len(Y_real))\n",
    "        CV_score += [cuurent_score]\n",
    "        return np.mean(CV_score)"
   ]
  },
  {
   "cell_type": "code",
   "execution_count": 9,
   "metadata": {},
   "outputs": [
    {
     "data": {
      "text/plain": [
       "Text(0,0.5,'RMSE')"
      ]
     },
     "execution_count": 9,
     "metadata": {},
     "output_type": "execute_result"
    },
    {
     "data": {
      "image/png": "[encoded data removed]",
      "text/plain": [
       "<Figure size 432x288 with 1 Axes>"
      ]
     },
     "metadata": {},
     "output_type": "display_data"
    }
   ],
   "source": [
    "alphas = np.linspace(0.1,5,200)\n",
    "cv_ridge = [CV(alpha) for alpha in alphas]\n",
    "cv_ridge = pd.Series(cv_ridge, index = alphas)\n",
    "cv_ridge.plot(title = \"lambda vs RMSE - Ridge by Normal Equation\")\n",
    "plt.xlabel(\"lambda\")\n",
    "plt.ylabel(\"RMSE\")"
   ]
  },
  {
   "cell_type": "code",
   "execution_count": 15,
   "metadata": {},
   "outputs": [
    {
     "data": {
      "text/plain": [
       "Text(0,0.5,'RMSE')"
      ]
     },
     "execution_count": 15,
     "metadata": {},
     "output_type": "execute_result"
    },
    {
     "data": {
      "image/png": "[encoded data removed]",
      "text/plain": [
       "<Figure size 432x288 with 1 Axes>"
      ]
     },
     "metadata": {},
     "output_type": "display_data"
    }
   ],
   "source": [
    "alphas = np.linspace(0.1,1,200)\n",
    "cv_ridge = [CV(alpha) for alpha in alphas]\n",
    "cv_ridge = pd.Series(cv_ridge, index = alphas)\n",
    "cv_ridge.plot(title = \"lambda vs RMSE - Ridge by Normal Equation\")\n",
    "plt.xlabel(\"lambda\")\n",
    "plt.ylabel(\"RMSE\")"
   ]
  },
  {
   "cell_type": "code",
   "execution_count": null,
   "metadata": {},
   "outputs": [],
   "source": []
  },
  {
   "cell_type": "code",
   "execution_count": null,
   "metadata": {},
   "outputs": [],
   "source": []
  },
  {
   "cell_type": "code",
   "execution_count": null,
   "metadata": {},
   "outputs": [],
   "source": []
  }
 ],
 "metadata": {
  "kernelspec": {
   "display_name": "Python 3",
   "language": "python",
   "name": "python3"
  },
  "language_info": {
   "codemirror_mode": {
    "name": "ipython",
    "version": 3
   },
   "file_extension": ".py",
   "mimetype": "text/x-python",
   "name": "python",
   "nbconvert_exporter": "python",
   "pygments_lexer": "ipython3",
   "version": "3.6.5"
  }
 },
 "nbformat": 4,
 "nbformat_minor": 2
}
