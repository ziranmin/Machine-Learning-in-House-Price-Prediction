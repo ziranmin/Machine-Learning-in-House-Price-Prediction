{
 "cells": [
  {
   "cell_type": "code",
   "execution_count": 5,
   "metadata": {},
   "outputs": [],
   "source": [
    "import pandas as pd\n",
    "import numpy as np\n",
    "import matplotlib.pyplot as plt\n",
    "import seaborn as sns\n",
    "from scipy.stats import norm\n",
    "\n",
    "from scipy import stats\n",
    "import warnings\n",
    "warnings.filterwarnings('ignore')"
   ]
  },
  {
   "cell_type": "code",
   "execution_count": 6,
   "metadata": {},
   "outputs": [],
   "source": [
    "K = 4\n",
    "splited_tranining_set_idx = np.load('splited_training_set.npy')"
   ]
  },
  {
   "cell_type": "code",
   "execution_count": 7,
   "metadata": {},
   "outputs": [],
   "source": [
    "train = pd.read_csv('train_cleaned.csv')\n",
    "test = pd.read_csv('test_cleaned.csv')"
   ]
  },
  {
   "cell_type": "code",
   "execution_count": 13,
   "metadata": {},
   "outputs": [],
   "source": [
    "X_training = train.values[:,:-2]\n",
    "Y_training = train.values[:,-2]\n",
    "X_testing = test.values[:,:]"
   ]
  },
  {
   "cell_type": "code",
   "execution_count": 188,
   "metadata": {},
   "outputs": [],
   "source": [
    "class OurLinear:\n",
    "    def __init__(self):\n",
    "        pass\n",
    "        \n",
    "    def fit(self, X, y):\n",
    "        leftmat = np.linalg.inv(X.T @ X)\n",
    "        self.betas = leftmat @ X.T @ y\n",
    "    \n",
    "    def predict(self, X):\n",
    "        return X @ self.betas"
   ]
  },
  {
   "cell_type": "code",
   "execution_count": 189,
   "metadata": {},
   "outputs": [],
   "source": [
    "class OurRidge:\n",
    "    def __init__(self, alpha):\n",
    "        self.alpha = alpha\n",
    "        \n",
    "    def fit(self, X, y):\n",
    "        leftmat = np.linalg.inv(X.T @ X + self.alpha * np.identity(X.shape[1]))\n",
    "        self.betas = leftmat @ X.T @ y\n",
    "    \n",
    "    def predict(self, X):\n",
    "        return X @ self.betas"
   ]
  },
  {
   "cell_type": "markdown",
   "metadata": {},
   "source": [
    "# Stacking First Level Models Training"
   ]
  },
  {
   "cell_type": "code",
   "execution_count": 167,
   "metadata": {},
   "outputs": [],
   "source": [
    "def run_first_layer_single_model(model):\n",
    "\n",
    "    if K>splited_tranining_set_idx.shape[0]:\n",
    "        raise Exception('Data split file error!')\n",
    "\n",
    "    train_predict = [] # Store the prediction of training set\n",
    "    test_predict = [] # Store the prediction of testing set\n",
    "    \n",
    "    for i in range(K):\n",
    "\n",
    "        current_train_idx = splited_tranining_set_idx[i][0]\n",
    "        current_test_idx = splited_tranining_set_idx[i][1]\n",
    "\n",
    "        X = X_training[current_train_idx]\n",
    "        Y = Y_training[current_train_idx]\n",
    "        model.fit(X,Y) #model training method\n",
    "        \n",
    "        X_ = X_training[current_test_idx]\n",
    "        y = model.predict(X_) #model predicting method\n",
    "        train_predict.append(y)\n",
    "\n",
    "        y = model.predict(X_testing)\n",
    "        test_predict.append(y)\n",
    "\n",
    "    '''\n",
    "    Attention: No worry about the order of prediction data. It is the same as the original.\n",
    "    '''\n",
    "    train_predict = np.array(train_predict).reshape((-1))\n",
    "    test_predict = np.mean(np.array(test_predict), axis=0)\n",
    "   \n",
    "    np.save('stack_train_OurRidge.npy', train_predict)\n",
    "    np.save('stack_test_OurRidge.npy', test_predict)\n",
    "    #np.save('stack_train_linear.npy', train_predict)\n",
    "    #np.save('stack_test_linear.npy', test_predict)\n",
    "    #np.save('stack_train_ridge.npy', train_predict)\n",
    "    #np.save('stack_test_ridge.npy', test_predict)\n",
    "    #np.save('stack_train_lasso.npy', train_predict)\n",
    "    #np.save('stack_test_lasso.npy', test_predict)\n",
    "    #np.save('stack_train_ela.npy', train_predict)\n",
    "    #np.save('stack_test_ela.npy', test_predict)\n",
    "    #np.save('stack_train_svr.npy', train_predict)\n",
    "    #np.save('stack_test_svr.npy', test_predict)\n",
    "    #np.save('stack_train_XGboost.npy', train_predict)\n",
    "    #np.save('stack_test_XGboost.npy', test_predict)\n",
    "    #np.save('stack_train_random.npy', train_predict)\n",
    "    #np.save('stack_test_random.npy', test_predict)\n",
    "\n",
    "    return train_predict, test_predict"
   ]
  },
  {
   "cell_type": "code",
   "execution_count": 151,
   "metadata": {},
   "outputs": [
    {
     "data": {
      "text/plain": [
       "(array([12.24023724, 12.15026235, 12.28159158, ..., 12.63147261,\n",
       "        11.8632802 , 11.99461195]),\n",
       " array([11.66833974, 11.9455894 , 12.19393371, ..., 12.24789493,\n",
       "        11.78391931, 12.30328835]))"
      ]
     },
     "execution_count": 151,
     "metadata": {},
     "output_type": "execute_result"
    }
   ],
   "source": [
    "run_first_layer_single_model(OurRidge(alpha = 0.6))"
   ]
  },
  {
   "cell_type": "code",
   "execution_count": 31,
   "metadata": {},
   "outputs": [
    {
     "data": {
      "text/plain": [
       "(array([12.24727721, 12.08575467, 12.29735278, ..., 12.5378914 ,\n",
       "        11.83731524, 11.91291581]),\n",
       " array([11.65125401, 11.9027024 , 12.15443032, ..., 12.07493287,\n",
       "        11.70601288, 12.29649916]))"
      ]
     },
     "execution_count": 31,
     "metadata": {},
     "output_type": "execute_result"
    }
   ],
   "source": [
    "from sklearn.linear_model import Ridge\n",
    "run_first_layer_single_model(Ridge(alpha=3.3))"
   ]
  },
  {
   "cell_type": "code",
   "execution_count": 168,
   "metadata": {},
   "outputs": [
    {
     "data": {
      "text/plain": [
       "(array([12.26927438, 12.08381325, 12.34514302, ..., 12.37111328,\n",
       "        11.79630043, 11.9076671 ]),\n",
       " array([11.67504294, 11.93120696, 12.22430572, ..., 12.08630889,\n",
       "        11.73044686, 12.38561072]))"
      ]
     },
     "execution_count": 168,
     "metadata": {},
     "output_type": "execute_result"
    }
   ],
   "source": [
    "from sklearn import linear_model\n",
    "run_first_layer_single_model(linear_model.Lasso(alpha=0.005))"
   ]
  },
  {
   "cell_type": "code",
   "execution_count": 8,
   "metadata": {},
   "outputs": [
    {
     "data": {
      "text/plain": [
       "(array([12.26117799, 11.97588199, 12.28077852, ..., 12.09081417,\n",
       "        11.82912887, 12.05422902]),\n",
       " array([11.90529965, 12.13902319, 12.21172229, ..., 11.93254249,\n",
       "        11.99474709, 12.34478927]))"
      ]
     },
     "execution_count": 8,
     "metadata": {},
     "output_type": "execute_result"
    }
   ],
   "source": [
    "from sklearn.linear_model import ElasticNet\n",
    "run_first_layer_single_model(ElasticNet(alpha=3.305,l1_ratio=0.005/3.305))"
   ]
  },
  {
   "cell_type": "code",
   "execution_count": 35,
   "metadata": {},
   "outputs": [
    {
     "data": {
      "text/plain": [
       "(array([12.22606546, 12.0221238 , 12.23136315, ..., 12.40806222,\n",
       "        11.81158238, 11.92865126]),\n",
       " array([11.71135305, 11.93760636, 12.09517533, ..., 11.94733236,\n",
       "        11.6444984 , 12.37434051]))"
      ]
     },
     "execution_count": 35,
     "metadata": {},
     "output_type": "execute_result"
    }
   ],
   "source": [
    "from sklearn.ensemble import RandomForestRegressor\n",
    "run_first_layer_single_model(RandomForestRegressor(n_estimators=100, max_depth=50))"
   ]
  },
  {
   "cell_type": "markdown",
   "metadata": {},
   "source": [
    "# Stacking Second Level Models Training"
   ]
  },
  {
   "cell_type": "code",
   "execution_count": 8,
   "metadata": {},
   "outputs": [],
   "source": [
    "def data_concatenate(train_file_path, test_file_path):\n",
    "\t# This function is untested. \t\n",
    "\tX=[]\n",
    "\tX_=[]\n",
    "\tfor train_file, test_file in zip(train_file_path, test_file_path):\n",
    "\t\tX.append(np.load(train_file))\n",
    "\t\tX_.append(np.load(test_file))\n",
    "\t\t\n",
    "\tX = np.array(X).T\n",
    "\tX_= np.array(X_).T\n",
    "\t\n",
    "\treturn X, X_ "
   ]
  },
  {
   "cell_type": "code",
   "execution_count": 197,
   "metadata": {},
   "outputs": [],
   "source": [
    "def run_second_layer_model(model):\n",
    "\t#file_path_list. Add the path of all the result from first layer regressor.\n",
    "\t#Be symmetrical.\n",
    "\ttrain_file_path=['stack_train_svr.npy', 'stack_train_random.npy','stack_train_linear.npy','stack_train_OurRidge.npy','stack_train_lasso.npy','stack_train_XGboost.npy'] \n",
    "\ttest_file_path=['stack_test_svr.npy','stack_test_random.npy','stack_test_linear.npy','stack_test_OurRidge.npy','stack_test_lasso.npy','stack_test_XGboost.npy']\n",
    "\t\n",
    "\tX, X_ = data_concatenate(train_file_path, test_file_path)\n",
    "\tY = Y_training\n",
    "\t\n",
    "\tmodel.fit(X, Y)\n",
    "\tresult = model.predict(X_)\n",
    "\n",
    "\treturn result"
   ]
  },
  {
   "cell_type": "code",
   "execution_count": 198,
   "metadata": {},
   "outputs": [],
   "source": [
    "from sklearn.linear_model import LinearRegression\n",
    "result = run_second_layer_model(LinearRegression())"
   ]
  },
  {
   "cell_type": "code",
   "execution_count": 199,
   "metadata": {},
   "outputs": [
    {
     "data": {
      "text/plain": [
       "array([11.67852089, 11.96001317, 12.1525685 , ..., 12.06660173,\n",
       "       11.68639331, 12.31652302])"
      ]
     },
     "execution_count": 199,
     "metadata": {},
     "output_type": "execute_result"
    }
   ],
   "source": [
    "result"
   ]
  },
  {
   "cell_type": "markdown",
   "metadata": {},
   "source": [
    "# Save Single Model Predicted Result for Kaggle Submission"
   ]
  },
  {
   "cell_type": "code",
   "execution_count": 200,
   "metadata": {},
   "outputs": [],
   "source": [
    "sub = np.exp(result).reshape((1459,1))"
   ]
  },
  {
   "cell_type": "code",
   "execution_count": 201,
   "metadata": {},
   "outputs": [
    {
     "data": {
      "text/plain": [
       "array([[118009.55641201],\n",
       "       [156375.14402067],\n",
       "       [189580.40253807],\n",
       "       ...,\n",
       "       [173963.66495771],\n",
       "       [118942.24402732],\n",
       "       [223356.18583881]])"
      ]
     },
     "execution_count": 201,
     "metadata": {},
     "output_type": "execute_result"
    }
   ],
   "source": [
    "sub"
   ]
  },
  {
   "cell_type": "code",
   "execution_count": 202,
   "metadata": {},
   "outputs": [],
   "source": [
    "sub1 = pd.DataFrame(sub,columns = ['SalePrice'])"
   ]
  },
  {
   "cell_type": "code",
   "execution_count": 203,
   "metadata": {},
   "outputs": [],
   "source": [
    "sub2 = pd.DataFrame(np.arange(1461,2920),columns = ['Id'])\n",
    "sub2['SalePrice'] = sub1['SalePrice']"
   ]
  },
  {
   "cell_type": "code",
   "execution_count": 204,
   "metadata": {},
   "outputs": [],
   "source": [
    "sub2.to_csv('final_stack_result.csv',index = False)"
   ]
  },
  {
   "cell_type": "markdown",
   "metadata": {},
   "source": [
    "# Cross Validation for second level model -- Linear Reg is the best"
   ]
  },
  {
   "cell_type": "code",
   "execution_count": 14,
   "metadata": {},
   "outputs": [],
   "source": [
    "def rmse_cv(model):\n",
    "    rmse= np.sqrt(-cross_val_score(model, x, y, scoring=\"neg_mean_squared_error\", cv = 4))\n",
    "    return(rmse)"
   ]
  },
  {
   "cell_type": "code",
   "execution_count": 15,
   "metadata": {},
   "outputs": [],
   "source": [
    "def CV(model):\n",
    "    CV_score = []\n",
    "    for i in range(K):\n",
    "        current_train_idx = splited_tranining_set_idx[i][0]\n",
    "        current_test_idx = splited_tranining_set_idx[i][1]\n",
    "        X0 = X[current_train_idx]\n",
    "        Y0 = Y[current_train_idx]\n",
    "    \n",
    "        reg_cur = model\n",
    "        reg_cur.fit(X0, Y0)\n",
    "    \n",
    "        X0_ = X[current_test_idx]\n",
    "        Y0_ = reg_cur.predict(X0_)\n",
    "    \n",
    "        Y0_real = Y[current_test_idx]\n",
    "    \n",
    "        cuurent_score = np.sqrt(sum((Y0_ - Y0_real)**2)/len(Y0_real))\n",
    "        CV_score += [cuurent_score]\n",
    "        return np.mean(CV_score)"
   ]
  },
  {
   "cell_type": "code",
   "execution_count": 22,
   "metadata": {},
   "outputs": [],
   "source": [
    "#train_file_path=['stack_train_svr.npy', 'stack_train_random.npy','stack_train_ridge.npy','stack_train_lasso.npy','stack_train_ela.npy'] \n",
    "#test_file_path=['stack_test_svr.npy','stack_test_random.npy','stack_test_ridge.npy','stack_test_lasso.npy','stack_test_ela.npy']\n",
    "train_file_path=['stack_train_svr.npy', 'stack_train_random.npy','stack_train_ridge.npy','stack_train_lasso.npy','stack_train_XGboost.npy','stack_train_ela.npy'] \n",
    "test_file_path=['stack_test_svr.npy','stack_test_random.npy','stack_train_ridge.npy','stack_test_lasso.npy','stack_test_XGboost.npy','stack_test_ela.npy']\n",
    "\n",
    "X, X_ = data_concatenate(train_file_path, test_file_path)\n",
    "Y = Y_training"
   ]
  },
  {
   "cell_type": "code",
   "execution_count": null,
   "metadata": {},
   "outputs": [],
   "source": []
  },
  {
   "cell_type": "code",
   "execution_count": 23,
   "metadata": {},
   "outputs": [],
   "source": [
    "from sklearn.model_selection import cross_val_score"
   ]
  },
  {
   "cell_type": "code",
   "execution_count": 24,
   "metadata": {},
   "outputs": [
    {
     "data": {
      "text/plain": [
       "0.11201154130289363"
      ]
     },
     "execution_count": 24,
     "metadata": {},
     "output_type": "execute_result"
    }
   ],
   "source": [
    "from sklearn.linear_model import LinearRegression\n",
    "np.mean(np.sqrt(-cross_val_score(LinearRegression(), X, Y, scoring=\"neg_mean_squared_error\", cv = 4)))"
   ]
  },
  {
   "cell_type": "code",
   "execution_count": 108,
   "metadata": {},
   "outputs": [
    {
     "data": {
      "text/plain": [
       "0.11202305292524987"
      ]
     },
     "execution_count": 108,
     "metadata": {},
     "output_type": "execute_result"
    }
   ],
   "source": [
    "from sklearn.linear_model import Ridge\n",
    "np.mean(np.sqrt(-cross_val_score(Ridge(alpha=1), X, Y, scoring=\"neg_mean_squared_error\", cv = 4)))"
   ]
  },
  {
   "cell_type": "code",
   "execution_count": 111,
   "metadata": {},
   "outputs": [
    {
     "data": {
      "text/plain": [
       "0.11204481785339608"
      ]
     },
     "execution_count": 111,
     "metadata": {},
     "output_type": "execute_result"
    }
   ],
   "source": [
    "from sklearn import linear_model\n",
    "np.mean(np.sqrt(-cross_val_score(linear_model.Lasso(alpha=0.0001), X, Y, scoring=\"neg_mean_squared_error\", cv = 4)))"
   ]
  },
  {
   "cell_type": "code",
   "execution_count": 112,
   "metadata": {},
   "outputs": [
    {
     "data": {
      "text/plain": [
       "0.11343944808611783"
      ]
     },
     "execution_count": 112,
     "metadata": {},
     "output_type": "execute_result"
    }
   ],
   "source": [
    "np.mean(np.sqrt(-cross_val_score(SVR(), X, Y, scoring=\"neg_mean_squared_error\", cv = 4)))"
   ]
  },
  {
   "cell_type": "code",
   "execution_count": 113,
   "metadata": {},
   "outputs": [
    {
     "data": {
      "text/plain": [
       "0.12497580123606408"
      ]
     },
     "execution_count": 113,
     "metadata": {},
     "output_type": "execute_result"
    }
   ],
   "source": [
    "from sklearn.ensemble import RandomForestRegressor\n",
    "np.mean(np.sqrt(-cross_val_score(RandomForestRegressor(), X, Y, scoring=\"neg_mean_squared_error\", cv = 4)))"
   ]
  },
  {
   "cell_type": "code",
   "execution_count": 115,
   "metadata": {},
   "outputs": [
    {
     "data": {
      "text/plain": [
       "0.09967050347764243"
      ]
     },
     "execution_count": 115,
     "metadata": {},
     "output_type": "execute_result"
    }
   ],
   "source": [
    "CV(OurLinear())"
   ]
  },
  {
   "cell_type": "code",
   "execution_count": 119,
   "metadata": {},
   "outputs": [
    {
     "data": {
      "text/plain": [
       "0.09967342555231554"
      ]
     },
     "execution_count": 119,
     "metadata": {},
     "output_type": "execute_result"
    }
   ],
   "source": [
    "CV(OurRidge(alpha = 0.))"
   ]
  },
  {
   "cell_type": "code",
   "execution_count": null,
   "metadata": {},
   "outputs": [],
   "source": []
  }
 ],
 "metadata": {
  "kernelspec": {
   "display_name": "Python 3",
   "language": "python",
   "name": "python3"
  },
  "language_info": {
   "codemirror_mode": {
    "name": "ipython",
    "version": 3
   },
   "file_extension": ".py",
   "mimetype": "text/x-python",
   "name": "python",
   "nbconvert_exporter": "python",
   "pygments_lexer": "ipython3",
   "version": "3.6.5"
  }
 },
 "nbformat": 4,
 "nbformat_minor": 2
}
