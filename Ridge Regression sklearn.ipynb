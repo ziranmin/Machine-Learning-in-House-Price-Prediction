{
 "cells": [
  {
   "cell_type": "code",
   "execution_count": 1,
   "metadata": {},
   "outputs": [],
   "source": [
    "import pandas as pd\n",
    "import numpy as np\n",
    "import matplotlib.pyplot as plt\n",
    "import seaborn as sns\n",
    "from scipy.stats import norm\n",
    "from scipy import stats\n",
    "import warnings\n",
    "warnings.filterwarnings('ignore')"
   ]
  },
  {
   "cell_type": "code",
   "execution_count": 2,
   "metadata": {},
   "outputs": [
    {
     "name": "stderr",
     "output_type": "stream",
     "text": [
      "/Users/ziranmin/anaconda3/lib/python3.6/site-packages/sklearn/cross_validation.py:41: DeprecationWarning: This module was deprecated in version 0.18 in favor of the model_selection module into which all the refactored classes and functions are moved. Also note that the interface of the new CV iterators are different from that of this module. This module will be removed in 0.20.\n",
      "  \"This module will be removed in 0.20.\", DeprecationWarning)\n"
     ]
    }
   ],
   "source": [
    "from sklearn.linear_model import Ridge\n",
    "from sklearn.cross_validation import train_test_split"
   ]
  },
  {
   "cell_type": "code",
   "execution_count": 3,
   "metadata": {},
   "outputs": [],
   "source": [
    "data = pd.read_csv('train_cleaned.csv')"
   ]
  },
  {
   "cell_type": "code",
   "execution_count": 4,
   "metadata": {},
   "outputs": [
    {
     "data": {
      "text/plain": [
       "(1456, 204)"
      ]
     },
     "execution_count": 4,
     "metadata": {},
     "output_type": "execute_result"
    }
   ],
   "source": [
    "data.shape"
   ]
  },
  {
   "cell_type": "code",
   "execution_count": 5,
   "metadata": {},
   "outputs": [],
   "source": [
    "x = data.loc[:,'2ndFlrSF_log':'SaleType_WD']"
   ]
  },
  {
   "cell_type": "code",
   "execution_count": 6,
   "metadata": {},
   "outputs": [],
   "source": [
    "y = data.loc[:,'SalePrice_log':'SalePrice_log']"
   ]
  },
  {
   "cell_type": "code",
   "execution_count": 7,
   "metadata": {},
   "outputs": [],
   "source": [
    "train_x, test_x, train_y, test_y= train_test_split(x,y,test_size=0.2, random_state=0)"
   ]
  },
  {
   "cell_type": "code",
   "execution_count": 26,
   "metadata": {},
   "outputs": [
    {
     "data": {
      "text/plain": [
       "(1456, 202)"
      ]
     },
     "execution_count": 26,
     "metadata": {},
     "output_type": "execute_result"
    }
   ],
   "source": [
    "x.shape"
   ]
  },
  {
   "cell_type": "code",
   "execution_count": 7,
   "metadata": {},
   "outputs": [],
   "source": [
    "reg = Ridge(alpha=3.3)"
   ]
  },
  {
   "cell_type": "code",
   "execution_count": 28,
   "metadata": {},
   "outputs": [
    {
     "data": {
      "text/plain": [
       "Ridge(alpha=1.0, copy_X=True, fit_intercept=True, max_iter=None,\n",
       "   normalize=False, random_state=None, solver='auto', tol=0.001)"
      ]
     },
     "execution_count": 28,
     "metadata": {},
     "output_type": "execute_result"
    }
   ],
   "source": [
    "reg.fit(train_x,train_y)"
   ]
  },
  {
   "cell_type": "code",
   "execution_count": 29,
   "metadata": {},
   "outputs": [
    {
     "data": {
      "text/plain": [
       "0.9409834255235592"
      ]
     },
     "execution_count": 29,
     "metadata": {},
     "output_type": "execute_result"
    }
   ],
   "source": [
    "reg.score(train_x, train_y)"
   ]
  },
  {
   "cell_type": "code",
   "execution_count": 30,
   "metadata": {},
   "outputs": [
    {
     "data": {
      "text/plain": [
       "0.8965632763007689"
      ]
     },
     "execution_count": 30,
     "metadata": {},
     "output_type": "execute_result"
    }
   ],
   "source": [
    "reg.score(test_x, test_y)"
   ]
  },
  {
   "cell_type": "code",
   "execution_count": 31,
   "metadata": {},
   "outputs": [
    {
     "data": {
      "text/plain": [
       "array([[-4.88063359e-03, -2.62420862e-03,  1.52178020e-02,\n",
       "        -5.60004147e-02,  2.09955146e-02, -1.44098995e-02,\n",
       "         7.04054525e-03, -4.31406044e-03, -7.25651409e-04,\n",
       "        -1.40946114e-02,  6.88195399e-02,  2.86470593e-02,\n",
       "        -4.78802637e-02, -2.05737389e-03, -3.37881871e-04,\n",
       "         1.84967373e-02, -6.95848915e-02,  5.34229594e-03,\n",
       "        -1.99097630e-04,  3.93516504e-02,  1.02944776e-01,\n",
       "         9.79113567e-02,  9.84071812e-02,  2.94977401e-02,\n",
       "        -6.25368009e-03, -6.26620393e-03,  5.19695463e-01,\n",
       "         3.71697220e-02, -1.87355957e-02, -1.23394271e-01,\n",
       "        -1.53898502e-03,  8.30357160e-02,  3.25331704e-02,\n",
       "         1.08529752e-02, -1.23676391e-02, -2.44291543e-02,\n",
       "        -3.08111905e-03, -3.11226146e-03,  7.26321302e-04,\n",
       "         7.11137049e-03,  2.16962808e-01,  5.77853091e-02,\n",
       "         2.26424095e-02,  3.04671293e-02, -3.02439538e-02,\n",
       "         1.43392689e-02,  1.31926539e-01,  2.19260696e-02,\n",
       "         1.54555808e-02,  5.59395048e-02,  1.24826078e-02,\n",
       "        -1.16225381e-02,  8.57935143e-02,  3.58090002e-02,\n",
       "        -9.71613907e-03,  1.05414931e-02,  5.19696584e-02,\n",
       "        -5.29745024e-02, -4.21201645e-03, -7.93899048e-02,\n",
       "        -6.62648553e-02,  4.23878043e-02,  2.81779002e-02,\n",
       "         6.76377178e-02,  3.47038908e-03,  6.22025191e-02,\n",
       "        -5.51923559e-02,  4.77161187e-02, -1.51909669e-02,\n",
       "         3.17110325e-02,  1.83840159e-02, -3.72609339e-02,\n",
       "         1.92303768e-01,  0.00000000e+00, -6.39478311e-02,\n",
       "        -7.56270436e-02,  3.59883750e-02,  7.03577050e-03,\n",
       "        -1.01369664e-02, -1.25255599e-02, -5.43678014e-03,\n",
       "        -2.80217811e-02, -1.00933538e-01,  1.15394020e-01,\n",
       "        -3.52721666e-02, -3.57529528e-03,  1.67478555e-02,\n",
       "        -2.39280809e-02,  3.46317534e-02,  3.16927699e-02,\n",
       "        -1.34203805e-02,  4.92202961e-02, -3.13588862e-02,\n",
       "         5.83772694e-03,  2.70668757e-02,  2.80783188e-02,\n",
       "         8.10036792e-03, -3.90554984e-02, -3.52721666e-02,\n",
       "         3.31632797e-02, -8.20171847e-03,  2.84646961e-02,\n",
       "         5.89457346e-03,  2.57020693e-02, -1.42447989e-02,\n",
       "         2.99251090e-03, -4.73418144e-02,  6.89382867e-02,\n",
       "         8.87102399e-03, -1.60577237e-02,  1.73846781e-02,\n",
       "         4.70070057e-02,  6.83173104e-02,  7.06931503e-02,\n",
       "        -3.09957058e-02,  3.30292957e-02,  2.98298288e-02,\n",
       "         3.84811319e-02, -8.98446329e-02,  4.36547627e-02,\n",
       "         6.93642525e-02, -1.00138329e-02,  4.75913590e-02,\n",
       "        -3.12206936e-02,  1.66786982e-03, -2.37546751e-03,\n",
       "         6.04996509e-02, -3.08177670e-03, -6.92793378e-02,\n",
       "         3.23459041e-02, -1.43240395e-02,  4.25431763e-02,\n",
       "         4.00644927e-03, -1.22169332e-01, -9.16403006e-02,\n",
       "        -1.07746588e-01,  2.12603196e-02, -7.33215854e-03,\n",
       "         8.49536432e-03,  3.08766976e-02, -4.37535226e-02,\n",
       "        -8.90495433e-02, -9.58843342e-03,  2.59198385e-01,\n",
       "         1.84426000e-01,  2.41622518e-01,  2.42262252e-01,\n",
       "         3.98174892e-02,  1.24300228e-02,  9.24213382e-02,\n",
       "        -2.33474825e-03, -4.91404137e-02,  6.76636944e-05,\n",
       "         0.00000000e+00, -1.58756775e-02, -9.79537404e-03,\n",
       "        -3.42849398e-02, -3.20736162e-02, -2.60522412e-02,\n",
       "         6.12023462e-02, -1.14037673e-01, -5.72159786e-02,\n",
       "        -1.21575420e-01, -1.21865475e-01, -8.36436170e-02,\n",
       "        -6.65971757e-02,  3.91669792e-02, -8.08826355e-02,\n",
       "         1.01777303e-01,  5.45891313e-02, -1.13024208e-01,\n",
       "        -5.79768476e-02, -6.04443969e-02, -3.26925030e-02,\n",
       "         2.60968539e-02,  1.31759760e-01, -2.02298554e-02,\n",
       "         2.58041167e-05,  0.00000000e+00,  6.21363880e-02,\n",
       "        -3.59622509e-02, -3.87505794e-02,  2.34839851e-02,\n",
       "         1.24206822e-01, -3.18832008e-03, -5.49070493e-02,\n",
       "         1.08952720e-02, -1.64899076e-02,  3.17479158e-02,\n",
       "         8.81463194e-02,  5.49510878e-02,  5.00439202e-02,\n",
       "         7.49273689e-02, -5.49783954e-02,  5.67413249e-02,\n",
       "         9.19081361e-02,  7.05401250e-02,  2.34145844e-03,\n",
       "        -1.03572454e-02,  1.43875919e-01,  6.23197406e-02,\n",
       "        -1.86486413e-02]])"
      ]
     },
     "execution_count": 31,
     "metadata": {},
     "output_type": "execute_result"
    }
   ],
   "source": [
    "reg.coef_"
   ]
  },
  {
   "cell_type": "code",
   "execution_count": 32,
   "metadata": {},
   "outputs": [
    {
     "data": {
      "text/plain": [
       "array([[11.81855511],\n",
       "       [12.37152104],\n",
       "       [11.44242273],\n",
       "       [11.89089763],\n",
       "       [12.6244936 ],\n",
       "       [11.82571437],\n",
       "       [12.28541011],\n",
       "       [12.63995732],\n",
       "       [11.28026465],\n",
       "       [11.73761422],\n",
       "       [12.71304823],\n",
       "       [12.30346586],\n",
       "       [12.27600623],\n",
       "       [12.38556417],\n",
       "       [12.24839623],\n",
       "       [12.18218161],\n",
       "       [12.1159954 ],\n",
       "       [11.67056894],\n",
       "       [11.66946855],\n",
       "       [12.10915561],\n",
       "       [12.12978741],\n",
       "       [11.80414009],\n",
       "       [11.3219639 ],\n",
       "       [11.74434439],\n",
       "       [12.76358937],\n",
       "       [11.65165829],\n",
       "       [12.07073482],\n",
       "       [11.82658809],\n",
       "       [12.62683775],\n",
       "       [12.32070131],\n",
       "       [11.9533633 ],\n",
       "       [12.02222978],\n",
       "       [12.25569658],\n",
       "       [11.8606088 ],\n",
       "       [12.21223737],\n",
       "       [11.62718398],\n",
       "       [11.78789584],\n",
       "       [11.60497729],\n",
       "       [12.27734194],\n",
       "       [11.80389663],\n",
       "       [11.83024037],\n",
       "       [11.85361864],\n",
       "       [11.54706146],\n",
       "       [12.09386921],\n",
       "       [12.27083053],\n",
       "       [12.05562649],\n",
       "       [11.46143625],\n",
       "       [11.84389333],\n",
       "       [12.18045855],\n",
       "       [12.01847171],\n",
       "       [11.92526818],\n",
       "       [12.32290692],\n",
       "       [12.60629673],\n",
       "       [12.1331021 ],\n",
       "       [11.89201539],\n",
       "       [11.36792302],\n",
       "       [12.29435423],\n",
       "       [12.44078399],\n",
       "       [11.74319201],\n",
       "       [11.91522051],\n",
       "       [11.89786546],\n",
       "       [11.68330652],\n",
       "       [11.51121336],\n",
       "       [12.37006455],\n",
       "       [12.1474244 ],\n",
       "       [11.96206332],\n",
       "       [11.75904559],\n",
       "       [11.89877968],\n",
       "       [11.48595574],\n",
       "       [12.69950827],\n",
       "       [11.97283685],\n",
       "       [12.57226929],\n",
       "       [12.27458521],\n",
       "       [12.02822512],\n",
       "       [12.00725979],\n",
       "       [12.62292479],\n",
       "       [11.99605659],\n",
       "       [11.81541736],\n",
       "       [12.14610529],\n",
       "       [11.64152374],\n",
       "       [11.89913777],\n",
       "       [12.0862486 ],\n",
       "       [12.52030602],\n",
       "       [11.70622537],\n",
       "       [11.94930297],\n",
       "       [11.89014178],\n",
       "       [11.76976642],\n",
       "       [11.3852515 ],\n",
       "       [12.74864863],\n",
       "       [11.91537515],\n",
       "       [11.72747107],\n",
       "       [11.6509032 ],\n",
       "       [12.47649012],\n",
       "       [12.54847663],\n",
       "       [11.92546874],\n",
       "       [12.76177418],\n",
       "       [12.1625741 ],\n",
       "       [12.90480316],\n",
       "       [11.79582064],\n",
       "       [12.37585919],\n",
       "       [11.92320122],\n",
       "       [11.29678957],\n",
       "       [12.26495619],\n",
       "       [11.60528354],\n",
       "       [11.86550616],\n",
       "       [12.29188725],\n",
       "       [12.73295867],\n",
       "       [12.09410634],\n",
       "       [12.2680827 ],\n",
       "       [12.1971847 ],\n",
       "       [11.87760993],\n",
       "       [12.41184528],\n",
       "       [11.96022811],\n",
       "       [11.88636161],\n",
       "       [12.61872394],\n",
       "       [12.11773169],\n",
       "       [12.14269302],\n",
       "       [11.80285655],\n",
       "       [12.60796804],\n",
       "       [11.81291126],\n",
       "       [11.72554376],\n",
       "       [11.95088293],\n",
       "       [11.79653341],\n",
       "       [12.24887647],\n",
       "       [11.53465024],\n",
       "       [12.39649247],\n",
       "       [12.39413308],\n",
       "       [12.31815483],\n",
       "       [11.9837884 ],\n",
       "       [12.02606142],\n",
       "       [11.60450088],\n",
       "       [12.42696257],\n",
       "       [12.408843  ],\n",
       "       [12.14887047],\n",
       "       [11.75621628],\n",
       "       [11.82245544],\n",
       "       [12.6600801 ],\n",
       "       [11.8692707 ],\n",
       "       [12.66619034],\n",
       "       [12.32075187],\n",
       "       [11.92916012],\n",
       "       [11.19494766],\n",
       "       [12.05647094],\n",
       "       [11.50989337],\n",
       "       [11.409975  ],\n",
       "       [12.6552879 ],\n",
       "       [11.78620201],\n",
       "       [11.93680735],\n",
       "       [12.03727776],\n",
       "       [12.7111574 ],\n",
       "       [11.64049635],\n",
       "       [12.10395932],\n",
       "       [12.05598433],\n",
       "       [12.74335691],\n",
       "       [11.51892559],\n",
       "       [11.70227862],\n",
       "       [11.52594363],\n",
       "       [12.3237407 ],\n",
       "       [12.13574187],\n",
       "       [12.46223863],\n",
       "       [12.47156491],\n",
       "       [11.5423959 ],\n",
       "       [12.16794364],\n",
       "       [11.61038408],\n",
       "       [12.37684494],\n",
       "       [11.80061211],\n",
       "       [11.76082751],\n",
       "       [11.89823332],\n",
       "       [12.45209495],\n",
       "       [11.61148567],\n",
       "       [12.26672334],\n",
       "       [12.58389312],\n",
       "       [12.08264653],\n",
       "       [12.57818239],\n",
       "       [12.79583464],\n",
       "       [12.2751914 ],\n",
       "       [12.49963555],\n",
       "       [12.19448237],\n",
       "       [11.92567858],\n",
       "       [12.3279401 ],\n",
       "       [11.77062383],\n",
       "       [11.76432594],\n",
       "       [12.18599856],\n",
       "       [12.18308855],\n",
       "       [11.94014903],\n",
       "       [12.0364112 ],\n",
       "       [11.9830507 ],\n",
       "       [11.75649136],\n",
       "       [12.39342597],\n",
       "       [11.92914719],\n",
       "       [11.69802994],\n",
       "       [11.77360987],\n",
       "       [12.23073309],\n",
       "       [11.41987207],\n",
       "       [12.30889578],\n",
       "       [12.54278191],\n",
       "       [11.41180634],\n",
       "       [11.90373663],\n",
       "       [11.89085178],\n",
       "       [12.14763887],\n",
       "       [12.23124952],\n",
       "       [12.73064442],\n",
       "       [12.88547573],\n",
       "       [12.22999813],\n",
       "       [12.12939309],\n",
       "       [12.36667634],\n",
       "       [11.45298555],\n",
       "       [11.92071891],\n",
       "       [12.14612349],\n",
       "       [12.13358901],\n",
       "       [11.92567238],\n",
       "       [11.36690957],\n",
       "       [12.2982768 ],\n",
       "       [11.85717515],\n",
       "       [12.1995299 ],\n",
       "       [11.94062895],\n",
       "       [12.17159562],\n",
       "       [12.49698601],\n",
       "       [11.52661451],\n",
       "       [11.86806042],\n",
       "       [11.71468979],\n",
       "       [12.18081393],\n",
       "       [11.61859578],\n",
       "       [11.84539213],\n",
       "       [11.2791602 ],\n",
       "       [11.87123754],\n",
       "       [12.01348433],\n",
       "       [12.6834431 ],\n",
       "       [12.23071851],\n",
       "       [12.31153154],\n",
       "       [12.14365672],\n",
       "       [12.05213239],\n",
       "       [11.59442596],\n",
       "       [11.92918032],\n",
       "       [12.5438104 ],\n",
       "       [11.75284899],\n",
       "       [12.14604921],\n",
       "       [11.87025073],\n",
       "       [12.38501195],\n",
       "       [12.92362492],\n",
       "       [11.72109307],\n",
       "       [11.96690456],\n",
       "       [11.43321145],\n",
       "       [12.5034065 ],\n",
       "       [11.88373998],\n",
       "       [12.29849665],\n",
       "       [11.76427903],\n",
       "       [12.42813238],\n",
       "       [12.10673558],\n",
       "       [12.85152658],\n",
       "       [11.99988478],\n",
       "       [11.90096633],\n",
       "       [12.15968783],\n",
       "       [12.2774346 ],\n",
       "       [11.62693736],\n",
       "       [11.8347534 ],\n",
       "       [11.52583641],\n",
       "       [11.88254483],\n",
       "       [11.23477392],\n",
       "       [11.57657138],\n",
       "       [11.60018226],\n",
       "       [11.64567542],\n",
       "       [12.60832125],\n",
       "       [11.71979505],\n",
       "       [12.01528481],\n",
       "       [12.67358969],\n",
       "       [11.97682814],\n",
       "       [11.56294878],\n",
       "       [11.99762651],\n",
       "       [12.12945274],\n",
       "       [11.61851715],\n",
       "       [12.29574249],\n",
       "       [11.02770284],\n",
       "       [11.99984937],\n",
       "       [11.90422793],\n",
       "       [12.76849177],\n",
       "       [11.95909243],\n",
       "       [11.80050258],\n",
       "       [12.67110908],\n",
       "       [12.219258  ],\n",
       "       [11.85380701],\n",
       "       [11.96857907],\n",
       "       [11.48606835],\n",
       "       [11.93725407],\n",
       "       [11.71665882],\n",
       "       [11.94814105],\n",
       "       [12.37048472],\n",
       "       [11.78770459],\n",
       "       [12.21902135],\n",
       "       [11.88639944],\n",
       "       [12.85142596],\n",
       "       [11.4227898 ]])"
      ]
     },
     "execution_count": 32,
     "metadata": {},
     "output_type": "execute_result"
    }
   ],
   "source": [
    "reg.predict(test_x)"
   ]
  },
  {
   "cell_type": "markdown",
   "metadata": {},
   "source": [
    "# Cross Validation"
   ]
  },
  {
   "cell_type": "code",
   "execution_count": 9,
   "metadata": {},
   "outputs": [],
   "source": [
    "from sklearn.model_selection import cross_val_score\n",
    "def rmse_cv(model):\n",
    "    rmse= np.sqrt(-cross_val_score(model, x, y, scoring=\"neg_mean_squared_error\", cv = 4))\n",
    "    return(rmse)"
   ]
  },
  {
   "cell_type": "code",
   "execution_count": 10,
   "metadata": {},
   "outputs": [
    {
     "data": {
      "text/plain": [
       "0.12103630684808522"
      ]
     },
     "execution_count": 10,
     "metadata": {},
     "output_type": "execute_result"
    }
   ],
   "source": [
    "rmse_cv(reg).mean()"
   ]
  },
  {
   "cell_type": "code",
   "execution_count": 12,
   "metadata": {},
   "outputs": [
    {
     "data": {
      "text/plain": [
       "Ridge(alpha=3.3, copy_X=True, fit_intercept=True, max_iter=None,\n",
       "   normalize=False, random_state=None, solver='auto', tol=0.001)"
      ]
     },
     "execution_count": 12,
     "metadata": {},
     "output_type": "execute_result"
    }
   ],
   "source": [
    "reg"
   ]
  },
  {
   "cell_type": "markdown",
   "metadata": {},
   "source": [
    "# See Coefficients"
   ]
  },
  {
   "cell_type": "code",
   "execution_count": null,
   "metadata": {},
   "outputs": [],
   "source": [
    "# See Coefficients"
   ]
  },
  {
   "cell_type": "code",
   "execution_count": 36,
   "metadata": {},
   "outputs": [
    {
     "data": {
      "text/plain": [
       "Ridge(alpha=3.3, copy_X=True, fit_intercept=True, max_iter=None,\n",
       "   normalize=False, random_state=None, solver='auto', tol=0.001)"
      ]
     },
     "execution_count": 36,
     "metadata": {},
     "output_type": "execute_result"
    }
   ],
   "source": [
    "reg.fit(x,y)"
   ]
  },
  {
   "cell_type": "code",
   "execution_count": 37,
   "metadata": {},
   "outputs": [],
   "source": [
    "coef = pd.Series(reg.coef_.reshape(-1), index = x.columns)"
   ]
  },
  {
   "cell_type": "code",
   "execution_count": 38,
   "metadata": {},
   "outputs": [
    {
     "data": {
      "text/plain": [
       "Neighborhood_MeadowV    -0.106102\n",
       "KitchenAbvGr_log        -0.094640\n",
       "Neighborhood_IDOTRR     -0.090511\n",
       "ExterQual_log           -0.085161\n",
       "KitchenQual_Fa          -0.085006\n",
       "KitchenQual_TA          -0.084941\n",
       "Heating_Grav            -0.082920\n",
       "Neighborhood_Edwards    -0.078614\n",
       "Neighborhood_OldTown    -0.071893\n",
       "KitchenQual_Gd          -0.071270\n",
       "Neighborhood_Mitchel    -0.063301\n",
       "GarageType_CarPort      -0.062309\n",
       "Exterior1st_BrkComm     -0.061110\n",
       "BsmtQual_log            -0.056922\n",
       "LotConfig_FR3           -0.055791\n",
       "Condition1_RRAe         -0.054091\n",
       "Neighborhood_NWAmes     -0.051740\n",
       "LotConfig_FR2           -0.047647\n",
       "BldgType_2fmCon         -0.044585\n",
       "Neighborhood_Gilbert    -0.042976\n",
       "RoofMatl_Tar&Grv        -0.041062\n",
       "Neighborhood_Sawyer     -0.039639\n",
       "BldgType_Twnhs          -0.039104\n",
       "BldgType_TwnhsE         -0.038930\n",
       "Neighborhood_NAmes      -0.034631\n",
       "RoofStyle_Gambrel       -0.034021\n",
       "MiscFeature_TenC        -0.031536\n",
       "Foundation_Wood         -0.029943\n",
       "Condition2_RRAn         -0.027597\n",
       "MiscFeature_Othr        -0.027045\n",
       "                           ...   \n",
       "Foundation_Slab          0.055506\n",
       "HasOpenPorch_log         0.056079\n",
       "Heating_GasW             0.056617\n",
       "CentralAir_Y             0.056699\n",
       "YearBuilt_log            0.057642\n",
       "Condition1_Norm          0.060519\n",
       "HasWoodDeck_log          0.060612\n",
       "Foundation_Stone         0.062379\n",
       "OverallQual_log          0.064591\n",
       "Neighborhood_NridgHt     0.066352\n",
       "MasVnrType_Stone         0.066464\n",
       "SaleCondition_AdjLand    0.070612\n",
       "SaleCondition_Normal     0.070834\n",
       "Street_log               0.075904\n",
       "Neighborhood_Crawfor     0.080072\n",
       "Functional_log           0.086702\n",
       "Exterior1st_BrkFace      0.088204\n",
       "Condition2_PosA          0.090029\n",
       "FullBath_log             0.090525\n",
       "LotArea_log              0.092772\n",
       "Neighborhood_NoRidge     0.095554\n",
       "RoofMatl_WdShngl         0.103540\n",
       "GarageCars_log           0.113101\n",
       "MSZoning_RH              0.120092\n",
       "MSZoning_RM              0.127001\n",
       "Neighborhood_StoneBr     0.128238\n",
       "MSZoning_RL              0.132750\n",
       "MSZoning_FV              0.143173\n",
       "OverallCond_log          0.206812\n",
       "GrLivArea_log            0.484040\n",
       "Length: 202, dtype: float64"
      ]
     },
     "execution_count": 38,
     "metadata": {},
     "output_type": "execute_result"
    }
   ],
   "source": [
    "coef.sort_values()"
   ]
  },
  {
   "cell_type": "code",
   "execution_count": 39,
   "metadata": {},
   "outputs": [
    {
     "data": {
      "text/plain": [
       "Neighborhood_Mitchel   -0.063301\n",
       "KitchenQual_Gd         -0.071270\n",
       "Neighborhood_OldTown   -0.071893\n",
       "Neighborhood_Edwards   -0.078614\n",
       "Heating_Grav           -0.082920\n",
       "KitchenQual_TA         -0.084941\n",
       "KitchenQual_Fa         -0.085006\n",
       "ExterQual_log          -0.085161\n",
       "Neighborhood_IDOTRR    -0.090511\n",
       "KitchenAbvGr_log       -0.094640\n",
       "Neighborhood_MeadowV   -0.106102\n",
       "dtype: float64"
      ]
     },
     "execution_count": 39,
     "metadata": {},
     "output_type": "execute_result"
    }
   ],
   "source": [
    "coef.sort_values()[10::-1]"
   ]
  },
  {
   "cell_type": "code",
   "execution_count": 40,
   "metadata": {},
   "outputs": [
    {
     "data": {
      "text/plain": [
       "GrLivArea_log           0.484040\n",
       "OverallCond_log         0.206812\n",
       "MSZoning_FV             0.143173\n",
       "MSZoning_RL             0.132750\n",
       "Neighborhood_StoneBr    0.128238\n",
       "MSZoning_RM             0.127001\n",
       "MSZoning_RH             0.120092\n",
       "GarageCars_log          0.113101\n",
       "RoofMatl_WdShngl        0.103540\n",
       "Neighborhood_NoRidge    0.095554\n",
       "dtype: float64"
      ]
     },
     "execution_count": 40,
     "metadata": {},
     "output_type": "execute_result"
    }
   ],
   "source": [
    "coef.sort_values()[-1:-11:-1]"
   ]
  },
  {
   "cell_type": "code",
   "execution_count": 41,
   "metadata": {},
   "outputs": [],
   "source": [
    "imp_coef = pd.concat([coef.sort_values()[-1:-11:-1],coef.sort_values()[10::-1]])"
   ]
  },
  {
   "cell_type": "code",
   "execution_count": 42,
   "metadata": {},
   "outputs": [
    {
     "data": {
      "text/plain": [
       "GrLivArea_log           0.484040\n",
       "OverallCond_log         0.206812\n",
       "MSZoning_FV             0.143173\n",
       "MSZoning_RL             0.132750\n",
       "Neighborhood_StoneBr    0.128238\n",
       "MSZoning_RM             0.127001\n",
       "MSZoning_RH             0.120092\n",
       "GarageCars_log          0.113101\n",
       "RoofMatl_WdShngl        0.103540\n",
       "Neighborhood_NoRidge    0.095554\n",
       "Neighborhood_Mitchel   -0.063301\n",
       "KitchenQual_Gd         -0.071270\n",
       "Neighborhood_OldTown   -0.071893\n",
       "Neighborhood_Edwards   -0.078614\n",
       "Heating_Grav           -0.082920\n",
       "KitchenQual_TA         -0.084941\n",
       "KitchenQual_Fa         -0.085006\n",
       "ExterQual_log          -0.085161\n",
       "Neighborhood_IDOTRR    -0.090511\n",
       "KitchenAbvGr_log       -0.094640\n",
       "Neighborhood_MeadowV   -0.106102\n",
       "dtype: float64"
      ]
     },
     "execution_count": 42,
     "metadata": {},
     "output_type": "execute_result"
    }
   ],
   "source": [
    "imp_coef"
   ]
  },
  {
   "cell_type": "code",
   "execution_count": 44,
   "metadata": {},
   "outputs": [
    {
     "data": {
      "text/plain": [
       "Text(0.5,1,'Main Coefficients in the Ridge Model')"
      ]
     },
     "execution_count": 44,
     "metadata": {},
     "output_type": "execute_result"
    },
    {
     "data": {
      "image/png": "[encoded data removed]",
      "text/plain": [
       "<Figure size 576x720 with 1 Axes>"
      ]
     },
     "metadata": {},
     "output_type": "display_data"
    }
   ],
   "source": [
    "import matplotlib.pyplot as plt\n",
    "plt.rcParams['figure.figsize'] = (8.0, 10.0)\n",
    "imp_coef.plot(kind = \"barh\")\n",
    "plt.title(\"Main Coefficients in the Ridge Model\")"
   ]
  },
  {
   "cell_type": "code",
   "execution_count": null,
   "metadata": {},
   "outputs": [],
   "source": []
  },
  {
   "cell_type": "markdown",
   "metadata": {},
   "source": [
    "# Save Single Model Predicted Result for Kaggle Submission"
   ]
  },
  {
   "cell_type": "code",
   "execution_count": 17,
   "metadata": {},
   "outputs": [],
   "source": [
    "data_sub = pd.read_csv('test_cleaned.csv')"
   ]
  },
  {
   "cell_type": "code",
   "execution_count": 18,
   "metadata": {},
   "outputs": [],
   "source": [
    "data_sub_x = data_sub.loc[:,'2ndFlrSF_log':'SaleType_WD']"
   ]
  },
  {
   "cell_type": "code",
   "execution_count": 19,
   "metadata": {},
   "outputs": [],
   "source": [
    "reg = Ridge(alpha=3.3)"
   ]
  },
  {
   "cell_type": "code",
   "execution_count": 21,
   "metadata": {},
   "outputs": [
    {
     "data": {
      "text/plain": [
       "Ridge(alpha=3.3, copy_X=True, fit_intercept=True, max_iter=None,\n",
       "   normalize=False, random_state=None, solver='auto', tol=0.001)"
      ]
     },
     "execution_count": 21,
     "metadata": {},
     "output_type": "execute_result"
    }
   ],
   "source": [
    "reg.fit(x,y)"
   ]
  },
  {
   "cell_type": "code",
   "execution_count": 22,
   "metadata": {},
   "outputs": [
    {
     "data": {
      "text/plain": [
       "array([[11.64877758],\n",
       "       [11.8971323 ],\n",
       "       [12.15384112],\n",
       "       ...,\n",
       "       [12.07343604],\n",
       "       [11.70417324],\n",
       "       [12.29591786]])"
      ]
     },
     "execution_count": 22,
     "metadata": {},
     "output_type": "execute_result"
    }
   ],
   "source": [
    "reg.predict(data_sub_x)"
   ]
  },
  {
   "cell_type": "code",
   "execution_count": 23,
   "metadata": {},
   "outputs": [],
   "source": [
    "log_y_sub = reg.predict(data_sub_x)"
   ]
  },
  {
   "cell_type": "code",
   "execution_count": 24,
   "metadata": {},
   "outputs": [
    {
     "data": {
      "text/plain": [
       "(1459, 1)"
      ]
     },
     "execution_count": 24,
     "metadata": {},
     "output_type": "execute_result"
    }
   ],
   "source": [
    "log_y_sub.shape"
   ]
  },
  {
   "cell_type": "code",
   "execution_count": 25,
   "metadata": {},
   "outputs": [],
   "source": [
    "sub = np.exp(log_y_sub)"
   ]
  },
  {
   "cell_type": "code",
   "execution_count": 26,
   "metadata": {},
   "outputs": [],
   "source": [
    "sub1 = pd.DataFrame(sub,columns = ['SalePrice'])"
   ]
  },
  {
   "cell_type": "code",
   "execution_count": 27,
   "metadata": {},
   "outputs": [],
   "source": [
    "sub2 = pd.DataFrame(np.arange(1461,2920),columns = ['Id'])"
   ]
  },
  {
   "cell_type": "code",
   "execution_count": 28,
   "metadata": {},
   "outputs": [],
   "source": [
    "sub2['SalePrice'] = sub1['SalePrice']"
   ]
  },
  {
   "cell_type": "code",
   "execution_count": 29,
   "metadata": {},
   "outputs": [],
   "source": [
    "sub2.to_csv('final_stack_result_single_ridge.csv',index = False)"
   ]
  },
  {
   "cell_type": "code",
   "execution_count": 1,
   "metadata": {},
   "outputs": [],
   "source": [
    "#sub2"
   ]
  },
  {
   "cell_type": "code",
   "execution_count": null,
   "metadata": {},
   "outputs": [],
   "source": []
  }
 ],
 "metadata": {
  "kernelspec": {
   "display_name": "Python 3",
   "language": "python",
   "name": "python3"
  },
  "language_info": {
   "codemirror_mode": {
    "name": "ipython",
    "version": 3
   },
   "file_extension": ".py",
   "mimetype": "text/x-python",
   "name": "python",
   "nbconvert_exporter": "python",
   "pygments_lexer": "ipython3",
   "version": "3.6.5"
  }
 },
 "nbformat": 4,
 "nbformat_minor": 2
}
